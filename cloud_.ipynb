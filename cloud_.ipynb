{
  "nbformat": 4,
  "nbformat_minor": 0,
  "metadata": {
    "colab": {
      "provenance": [],
      "toc_visible": true,
      "authorship_tag": "ABX9TyOgihf2XGCXhMMSyW0xsqpv",
      "include_colab_link": true
    },
    "kernelspec": {
      "name": "python3",
      "display_name": "Python 3"
    },
    "language_info": {
      "name": "python"
    }
  },
  "cells": [
    {
      "cell_type": "markdown",
      "metadata": {
        "id": "view-in-github",
        "colab_type": "text"
      },
      "source": [
        "<a href=\"https://colab.research.google.com/github/YaldaGheisi/Pandas/blob/main/cloud_.ipynb\" target=\"_parent\"><img src=\"https://colab.research.google.com/assets/colab-badge.svg\" alt=\"Open In Colab\"/></a>"
      ]
    },
    {
      "cell_type": "code",
      "execution_count": 180,
      "metadata": {
        "id": "LSm5UxzFUY0l"
      },
      "outputs": [],
      "source": [
        "import pandas as pd"
      ]
    },
    {
      "cell_type": "code",
      "source": [
        "pd.__version__"
      ],
      "metadata": {
        "colab": {
          "base_uri": "https://localhost:8080/",
          "height": 35
        },
        "id": "6ftCu26ZUhu5",
        "outputId": "59185671-143a-4d18-9201-9a5e690265b7"
      },
      "execution_count": 181,
      "outputs": [
        {
          "output_type": "execute_result",
          "data": {
            "text/plain": [
              "'1.5.3'"
            ],
            "application/vnd.google.colaboratory.intrinsic+json": {
              "type": "string"
            }
          },
          "metadata": {},
          "execution_count": 181
        }
      ]
    },
    {
      "cell_type": "code",
      "source": [
        "2"
      ],
      "metadata": {
        "colab": {
          "base_uri": "https://localhost:8080/"
        },
        "id": "iEYIPZefaY5Y",
        "outputId": "ab713473-9ecb-409a-c967-940b6158a67c"
      },
      "execution_count": 182,
      "outputs": [
        {
          "output_type": "execute_result",
          "data": {
            "text/plain": [
              "2"
            ]
          },
          "metadata": {},
          "execution_count": 182
        }
      ]
    },
    {
      "cell_type": "code",
      "source": [
        "type(2)"
      ],
      "metadata": {
        "colab": {
          "base_uri": "https://localhost:8080/"
        },
        "id": "JXVq8NAjabjE",
        "outputId": "e6d30777-c4f2-4cbc-b8f0-ae8ba332cba1"
      },
      "execution_count": 183,
      "outputs": [
        {
          "output_type": "execute_result",
          "data": {
            "text/plain": [
              "int"
            ]
          },
          "metadata": {},
          "execution_count": 183
        }
      ]
    },
    {
      "cell_type": "code",
      "source": [
        "type(\"yalda\")\n"
      ],
      "metadata": {
        "colab": {
          "base_uri": "https://localhost:8080/"
        },
        "id": "q64M0buwac_7",
        "outputId": "2ed13190-eeae-4f81-d559-10e281ac1d0d"
      },
      "execution_count": 184,
      "outputs": [
        {
          "output_type": "execute_result",
          "data": {
            "text/plain": [
              "str"
            ]
          },
          "metadata": {},
          "execution_count": 184
        }
      ]
    },
    {
      "cell_type": "code",
      "source": [
        "username = \"yalda\""
      ],
      "metadata": {
        "id": "zvODoc5Davl8"
      },
      "execution_count": 185,
      "outputs": []
    },
    {
      "cell_type": "code",
      "source": [
        "age = 89"
      ],
      "metadata": {
        "id": "g7tDkY1WbCmc"
      },
      "execution_count": 186,
      "outputs": []
    },
    {
      "cell_type": "code",
      "source": [
        "# @title Default title text\n",
        "username"
      ],
      "metadata": {
        "colab": {
          "base_uri": "https://localhost:8080/",
          "height": 35
        },
        "id": "cUfiw5uubAJJ",
        "outputId": "eb6b4cd5-35d6-4883-aa00-1a6678e66dc7"
      },
      "execution_count": 187,
      "outputs": [
        {
          "output_type": "execute_result",
          "data": {
            "text/plain": [
              "'yalda'"
            ],
            "application/vnd.google.colaboratory.intrinsic+json": {
              "type": "string"
            }
          },
          "metadata": {},
          "execution_count": 187
        }
      ]
    },
    {
      "cell_type": "code",
      "source": [
        "age"
      ],
      "metadata": {
        "colab": {
          "base_uri": "https://localhost:8080/"
        },
        "id": "0yTXFYD_bEgb",
        "outputId": "ec9e50ce-5bf5-4527-ba15-445d9982f68c"
      },
      "execution_count": 188,
      "outputs": [
        {
          "output_type": "execute_result",
          "data": {
            "text/plain": [
              "89"
            ]
          },
          "metadata": {},
          "execution_count": 188
        }
      ]
    },
    {
      "cell_type": "code",
      "source": [
        "user_name, user_age, gender = \"yalda\", 34, \"F\""
      ],
      "metadata": {
        "id": "Kjbm5S-2bE6j"
      },
      "execution_count": 189,
      "outputs": []
    },
    {
      "cell_type": "code",
      "source": [
        "gender"
      ],
      "metadata": {
        "colab": {
          "base_uri": "https://localhost:8080/",
          "height": 35
        },
        "id": "MzMouW2Gcd06",
        "outputId": "98d9e195-bfcc-4872-d84e-f4fa4446563e"
      },
      "execution_count": 190,
      "outputs": [
        {
          "output_type": "execute_result",
          "data": {
            "text/plain": [
              "'F'"
            ],
            "application/vnd.google.colaboratory.intrinsic+json": {
              "type": "string"
            }
          },
          "metadata": {},
          "execution_count": 190
        }
      ]
    },
    {
      "cell_type": "code",
      "source": [],
      "metadata": {
        "id": "ZzbppHlcdGY0"
      },
      "execution_count": 190,
      "outputs": []
    },
    {
      "cell_type": "code",
      "source": [
        "user_age"
      ],
      "metadata": {
        "colab": {
          "base_uri": "https://localhost:8080/"
        },
        "id": "xvFaO6aecf_e",
        "outputId": "dda10778-ca48-4859-b192-2381748bd758"
      },
      "execution_count": 191,
      "outputs": [
        {
          "output_type": "execute_result",
          "data": {
            "text/plain": [
              "34"
            ]
          },
          "metadata": {},
          "execution_count": 191
        }
      ]
    },
    {
      "cell_type": "code",
      "source": [
        "a= 0"
      ],
      "metadata": {
        "id": "wvDUVBDachzp"
      },
      "execution_count": 192,
      "outputs": []
    },
    {
      "cell_type": "code",
      "source": [
        "a"
      ],
      "metadata": {
        "colab": {
          "base_uri": "https://localhost:8080/"
        },
        "id": "6lcVMifydwXQ",
        "outputId": "c1a2df2d-d986-43fe-dfde-70f631fa2941"
      },
      "execution_count": 193,
      "outputs": [
        {
          "output_type": "execute_result",
          "data": {
            "text/plain": [
              "0"
            ]
          },
          "metadata": {},
          "execution_count": 193
        }
      ]
    },
    {
      "cell_type": "code",
      "source": [
        "a= a+1"
      ],
      "metadata": {
        "id": "NWXsdeCsdw_B"
      },
      "execution_count": 194,
      "outputs": []
    },
    {
      "cell_type": "code",
      "source": [
        "a"
      ],
      "metadata": {
        "colab": {
          "base_uri": "https://localhost:8080/"
        },
        "id": "cm-UHZ-xdycx",
        "outputId": "43f21b38-2365-4dc6-eb43-0b78dc1c7e5c"
      },
      "execution_count": 195,
      "outputs": [
        {
          "output_type": "execute_result",
          "data": {
            "text/plain": [
              "1"
            ]
          },
          "metadata": {},
          "execution_count": 195
        }
      ]
    },
    {
      "cell_type": "code",
      "source": [
        "a +=1"
      ],
      "metadata": {
        "id": "B6_UQc3qd0LQ"
      },
      "execution_count": 196,
      "outputs": []
    },
    {
      "cell_type": "code",
      "source": [
        "a"
      ],
      "metadata": {
        "colab": {
          "base_uri": "https://localhost:8080/"
        },
        "id": "LQnoHO6AeANk",
        "outputId": "818a209d-2685-4f73-ec2d-e1fc4afcc6c8"
      },
      "execution_count": 197,
      "outputs": [
        {
          "output_type": "execute_result",
          "data": {
            "text/plain": [
              "2"
            ]
          },
          "metadata": {},
          "execution_count": 197
        }
      ]
    },
    {
      "cell_type": "markdown",
      "source": [],
      "metadata": {
        "id": "hMFz_E51fUVs"
      }
    },
    {
      "cell_type": "markdown",
      "source": [],
      "metadata": {
        "id": "SfO37hTgfQXD"
      }
    },
    {
      "cell_type": "code",
      "source": [],
      "metadata": {
        "id": "QHNDDWNyfPWB"
      },
      "execution_count": 197,
      "outputs": []
    },
    {
      "cell_type": "markdown",
      "source": [
        "asjdhlsjhd"
      ],
      "metadata": {
        "id": "yLmfRo8CfYNZ"
      }
    },
    {
      "cell_type": "code",
      "source": [
        "print(\"\")"
      ],
      "metadata": {
        "colab": {
          "base_uri": "https://localhost:8080/"
        },
        "id": "T1lJrJuEfj7I",
        "outputId": "6f7073e8-f47c-42e9-ffcc-f0a7c215f389"
      },
      "execution_count": 198,
      "outputs": [
        {
          "output_type": "stream",
          "name": "stdout",
          "text": [
            "\n"
          ]
        }
      ]
    },
    {
      "cell_type": "code",
      "source": [
        "type(.1)"
      ],
      "metadata": {
        "colab": {
          "base_uri": "https://localhost:8080/"
        },
        "id": "tvjAIL4Bfn9u",
        "outputId": "cef5bbe3-ddbf-45da-aa25-0472958351e1"
      },
      "execution_count": 199,
      "outputs": [
        {
          "output_type": "execute_result",
          "data": {
            "text/plain": [
              "float"
            ]
          },
          "metadata": {},
          "execution_count": 199
        }
      ]
    },
    {
      "cell_type": "code",
      "source": [
        ".1+.2"
      ],
      "metadata": {
        "colab": {
          "base_uri": "https://localhost:8080/"
        },
        "id": "SVLYwM7GgWAN",
        "outputId": "a5db49b1-e423-4936-d53e-1888989ae440"
      },
      "execution_count": 200,
      "outputs": [
        {
          "output_type": "execute_result",
          "data": {
            "text/plain": [
              "0.30000000000000004"
            ]
          },
          "metadata": {},
          "execution_count": 200
        }
      ]
    },
    {
      "cell_type": "code",
      "source": [
        "type(.1+.2)"
      ],
      "metadata": {
        "colab": {
          "base_uri": "https://localhost:8080/"
        },
        "id": "AhyqKO_WgZOg",
        "outputId": "9c4ed792-6a56-49fa-cc51-5b06c8510cff"
      },
      "execution_count": 201,
      "outputs": [
        {
          "output_type": "execute_result",
          "data": {
            "text/plain": [
              "float"
            ]
          },
          "metadata": {},
          "execution_count": 201
        }
      ]
    },
    {
      "cell_type": "code",
      "source": [
        "True"
      ],
      "metadata": {
        "colab": {
          "base_uri": "https://localhost:8080/"
        },
        "id": "Kw10iUmKgdkW",
        "outputId": "9fbb5dfd-5cf6-409e-af37-db92bf2a8c4e"
      },
      "execution_count": 202,
      "outputs": [
        {
          "output_type": "execute_result",
          "data": {
            "text/plain": [
              "True"
            ]
          },
          "metadata": {},
          "execution_count": 202
        }
      ]
    },
    {
      "cell_type": "code",
      "source": [
        "type(True)"
      ],
      "metadata": {
        "colab": {
          "base_uri": "https://localhost:8080/"
        },
        "id": "IE7KdPhUgjtO",
        "outputId": "561b27ce-406a-427d-fc91-2c67316f0117"
      },
      "execution_count": 203,
      "outputs": [
        {
          "output_type": "execute_result",
          "data": {
            "text/plain": [
              "bool"
            ]
          },
          "metadata": {},
          "execution_count": 203
        }
      ]
    },
    {
      "cell_type": "code",
      "source": [
        "age"
      ],
      "metadata": {
        "colab": {
          "base_uri": "https://localhost:8080/"
        },
        "id": "Lf3IHS5HgnWy",
        "outputId": "d54767fe-29e9-47dd-9f2f-5554a9d8cc73"
      },
      "execution_count": 204,
      "outputs": [
        {
          "output_type": "execute_result",
          "data": {
            "text/plain": [
              "89"
            ]
          },
          "metadata": {},
          "execution_count": 204
        }
      ]
    },
    {
      "cell_type": "code",
      "source": [
        "retirement= 56\n"
      ],
      "metadata": {
        "id": "U5KSVsnkl15b"
      },
      "execution_count": 205,
      "outputs": []
    },
    {
      "cell_type": "code",
      "source": [
        "retirement >= age"
      ],
      "metadata": {
        "colab": {
          "base_uri": "https://localhost:8080/"
        },
        "id": "W0Ra5njEl8uO",
        "outputId": "7a25a6b5-5665-458d-f21f-fa685fbdc2eb"
      },
      "execution_count": 206,
      "outputs": [
        {
          "output_type": "execute_result",
          "data": {
            "text/plain": [
              "False"
            ]
          },
          "metadata": {},
          "execution_count": 206
        }
      ]
    },
    {
      "cell_type": "code",
      "source": [
        "retirement <age"
      ],
      "metadata": {
        "colab": {
          "base_uri": "https://localhost:8080/"
        },
        "id": "xuafgRZOmBiF",
        "outputId": "098c5c9a-168a-43f7-8cc6-602605335bb9"
      },
      "execution_count": 207,
      "outputs": [
        {
          "output_type": "execute_result",
          "data": {
            "text/plain": [
              "True"
            ]
          },
          "metadata": {},
          "execution_count": 207
        }
      ]
    },
    {
      "cell_type": "code",
      "source": [
        "retirement!=age"
      ],
      "metadata": {
        "colab": {
          "base_uri": "https://localhost:8080/"
        },
        "id": "9zErfUczmE3l",
        "outputId": "43ec51a5-f158-464f-b5ca-7c10e606124f"
      },
      "execution_count": 208,
      "outputs": [
        {
          "output_type": "execute_result",
          "data": {
            "text/plain": [
              "True"
            ]
          },
          "metadata": {},
          "execution_count": 208
        }
      ]
    },
    {
      "cell_type": "code",
      "source": [
        "retirement == age"
      ],
      "metadata": {
        "colab": {
          "base_uri": "https://localhost:8080/"
        },
        "id": "3YM8hKl0mIeB",
        "outputId": "836c0d57-e4a5-497e-dbb5-0c60fa8ed24c"
      },
      "execution_count": 209,
      "outputs": [
        {
          "output_type": "execute_result",
          "data": {
            "text/plain": [
              "False"
            ]
          },
          "metadata": {},
          "execution_count": 209
        }
      ]
    },
    {
      "cell_type": "code",
      "source": [
        "True and False"
      ],
      "metadata": {
        "colab": {
          "base_uri": "https://localhost:8080/"
        },
        "id": "auRPnMoAmca8",
        "outputId": "fb91cca5-d019-4755-9141-03971a66964b"
      },
      "execution_count": 210,
      "outputs": [
        {
          "output_type": "execute_result",
          "data": {
            "text/plain": [
              "False"
            ]
          },
          "metadata": {},
          "execution_count": 210
        }
      ]
    },
    {
      "cell_type": "code",
      "source": [
        "not False"
      ],
      "metadata": {
        "colab": {
          "base_uri": "https://localhost:8080/"
        },
        "id": "A74u6evxmx76",
        "outputId": "78473814-707b-4add-98cc-b04df38ac75e"
      },
      "execution_count": 211,
      "outputs": [
        {
          "output_type": "execute_result",
          "data": {
            "text/plain": [
              "True"
            ]
          },
          "metadata": {},
          "execution_count": 211
        }
      ]
    },
    {
      "cell_type": "code",
      "source": [
        "(retirement == age) or True"
      ],
      "metadata": {
        "colab": {
          "base_uri": "https://localhost:8080/"
        },
        "id": "basoFSb4m0mD",
        "outputId": "31f5d14a-dd79-43eb-e44d-f2c51ba0e558"
      },
      "execution_count": 212,
      "outputs": [
        {
          "output_type": "execute_result",
          "data": {
            "text/plain": [
              "True"
            ]
          },
          "metadata": {},
          "execution_count": 212
        }
      ]
    },
    {
      "cell_type": "code",
      "source": [
        "type('andy')"
      ],
      "metadata": {
        "colab": {
          "base_uri": "https://localhost:8080/"
        },
        "id": "yz7clsr1m7IA",
        "outputId": "8dd0f3be-feca-4830-e602-271afb3e26c8"
      },
      "execution_count": 213,
      "outputs": [
        {
          "output_type": "execute_result",
          "data": {
            "text/plain": [
              "str"
            ]
          },
          "metadata": {},
          "execution_count": 213
        }
      ]
    },
    {
      "cell_type": "code",
      "source": [
        "type('let\\'s code \"python\"')"
      ],
      "metadata": {
        "colab": {
          "base_uri": "https://localhost:8080/"
        },
        "id": "bHY5UPIPoSM2",
        "outputId": "d31fbe73-6e8f-4880-e0e0-7579005be879"
      },
      "execution_count": 214,
      "outputs": [
        {
          "output_type": "execute_result",
          "data": {
            "text/plain": [
              "str"
            ]
          },
          "metadata": {},
          "execution_count": 214
        }
      ]
    },
    {
      "cell_type": "code",
      "source": [
        "'''this is f'''"
      ],
      "metadata": {
        "colab": {
          "base_uri": "https://localhost:8080/",
          "height": 35
        },
        "id": "EqyOzyUeoc1f",
        "outputId": "2098bed3-e30c-4843-959f-096fb68b605b"
      },
      "execution_count": 215,
      "outputs": [
        {
          "output_type": "execute_result",
          "data": {
            "text/plain": [
              "'this is f'"
            ],
            "application/vnd.google.colaboratory.intrinsic+json": {
              "type": "string"
            }
          },
          "metadata": {},
          "execution_count": 215
        }
      ]
    },
    {
      "cell_type": "code",
      "source": [
        "type('''this is''')"
      ],
      "metadata": {
        "colab": {
          "base_uri": "https://localhost:8080/"
        },
        "id": "RzdGI6f0o5a_",
        "outputId": "37246bbb-7499-4869-bf68-a6e6e7c280a8"
      },
      "execution_count": 216,
      "outputs": [
        {
          "output_type": "execute_result",
          "data": {
            "text/plain": [
              "str"
            ]
          },
          "metadata": {},
          "execution_count": 216
        }
      ]
    },
    {
      "cell_type": "code",
      "source": [
        "2+2"
      ],
      "metadata": {
        "colab": {
          "base_uri": "https://localhost:8080/"
        },
        "id": "YvXxkbSwo-Et",
        "outputId": "0b7d4d18-623b-413a-d532-b0e4f09bc9fb"
      },
      "execution_count": 217,
      "outputs": [
        {
          "output_type": "execute_result",
          "data": {
            "text/plain": [
              "4"
            ]
          },
          "metadata": {},
          "execution_count": 217
        }
      ]
    },
    {
      "cell_type": "code",
      "source": [
        "\"Andy\" +' '+\"Beck\""
      ],
      "metadata": {
        "colab": {
          "base_uri": "https://localhost:8080/",
          "height": 35
        },
        "id": "OKc77G8ApH54",
        "outputId": "c5f96001-21b9-4b1a-ad67-57a730ef1c24"
      },
      "execution_count": 218,
      "outputs": [
        {
          "output_type": "execute_result",
          "data": {
            "text/plain": [
              "'Andy Beck'"
            ],
            "application/vnd.google.colaboratory.intrinsic+json": {
              "type": "string"
            }
          },
          "metadata": {},
          "execution_count": 218
        }
      ]
    },
    {
      "cell_type": "code",
      "source": [
        "'yalda ' *3"
      ],
      "metadata": {
        "colab": {
          "base_uri": "https://localhost:8080/",
          "height": 35
        },
        "id": "l7PA_iIdpLZv",
        "outputId": "e0a27d28-abb6-492c-f6b9-6131bbf883cc"
      },
      "execution_count": 219,
      "outputs": [
        {
          "output_type": "execute_result",
          "data": {
            "text/plain": [
              "'yalda yalda yalda '"
            ],
            "application/vnd.google.colaboratory.intrinsic+json": {
              "type": "string"
            }
          },
          "metadata": {},
          "execution_count": 219
        }
      ]
    },
    {
      "cell_type": "code",
      "source": [],
      "metadata": {
        "id": "PBmrK0bapWsN"
      },
      "execution_count": 219,
      "outputs": []
    },
    {
      "cell_type": "code",
      "source": [
        "str(34)"
      ],
      "metadata": {
        "id": "IqDtbmYQpo0j",
        "colab": {
          "base_uri": "https://localhost:8080/",
          "height": 35
        },
        "outputId": "163c1bf5-3417-4268-cc17-e1f4f33d421b"
      },
      "execution_count": 220,
      "outputs": [
        {
          "output_type": "execute_result",
          "data": {
            "text/plain": [
              "'34'"
            ],
            "application/vnd.google.colaboratory.intrinsic+json": {
              "type": "string"
            }
          },
          "metadata": {},
          "execution_count": 220
        }
      ]
    },
    {
      "cell_type": "code",
      "source": [
        "'yalda'.upper()"
      ],
      "metadata": {
        "id": "lKzOfIuiptef",
        "colab": {
          "base_uri": "https://localhost:8080/",
          "height": 35
        },
        "outputId": "73f6c26c-3601-4cc8-ec3a-bdd5785f8c88"
      },
      "execution_count": 221,
      "outputs": [
        {
          "output_type": "execute_result",
          "data": {
            "text/plain": [
              "'YALDA'"
            ],
            "application/vnd.google.colaboratory.intrinsic+json": {
              "type": "string"
            }
          },
          "metadata": {},
          "execution_count": 221
        }
      ]
    },
    {
      "cell_type": "code",
      "source": [
        "'yalDA'.lower()"
      ],
      "metadata": {
        "id": "LkqmnMJUp2Pg",
        "colab": {
          "base_uri": "https://localhost:8080/",
          "height": 35
        },
        "outputId": "4695c7c4-6351-4bca-f26b-1c9c41f68c42"
      },
      "execution_count": 222,
      "outputs": [
        {
          "output_type": "execute_result",
          "data": {
            "text/plain": [
              "'yalda'"
            ],
            "application/vnd.google.colaboratory.intrinsic+json": {
              "type": "string"
            }
          },
          "metadata": {},
          "execution_count": 222
        }
      ]
    },
    {
      "cell_type": "code",
      "source": [
        "'yalda3'.isalpha()"
      ],
      "metadata": {
        "id": "ruf1F2Sxp6iz",
        "colab": {
          "base_uri": "https://localhost:8080/"
        },
        "outputId": "7ac99e12-191e-47a6-a527-6dce80488ff2"
      },
      "execution_count": 223,
      "outputs": [
        {
          "output_type": "execute_result",
          "data": {
            "text/plain": [
              "False"
            ]
          },
          "metadata": {},
          "execution_count": 223
        }
      ]
    },
    {
      "cell_type": "code",
      "source": [
        "\"yalda\".startswith('a')"
      ],
      "metadata": {
        "id": "LRGmShVkqAgG",
        "colab": {
          "base_uri": "https://localhost:8080/"
        },
        "outputId": "7e2fed4c-4da2-430a-da7c-6be0b49a6ffa"
      },
      "execution_count": 224,
      "outputs": [
        {
          "output_type": "execute_result",
          "data": {
            "text/plain": [
              "False"
            ]
          },
          "metadata": {},
          "execution_count": 224
        }
      ]
    },
    {
      "cell_type": "code",
      "source": [
        "'yalda'.endswith('a')"
      ],
      "metadata": {
        "id": "lxEjV2-6raEd",
        "colab": {
          "base_uri": "https://localhost:8080/"
        },
        "outputId": "ebc2325c-68fe-43d0-f993-1475a3e42fd6"
      },
      "execution_count": 225,
      "outputs": [
        {
          "output_type": "execute_result",
          "data": {
            "text/plain": [
              "True"
            ]
          },
          "metadata": {},
          "execution_count": 225
        }
      ]
    },
    {
      "cell_type": "code",
      "source": [
        "\"i use python v{}\".format(3)"
      ],
      "metadata": {
        "id": "Euc0lOPJrnWd",
        "colab": {
          "base_uri": "https://localhost:8080/",
          "height": 35
        },
        "outputId": "96b1b7c2-0a00-4cbe-f10f-21a7aef56223"
      },
      "execution_count": 226,
      "outputs": [
        {
          "output_type": "execute_result",
          "data": {
            "text/plain": [
              "'i use python v3'"
            ],
            "application/vnd.google.colaboratory.intrinsic+json": {
              "type": "string"
            }
          },
          "metadata": {},
          "execution_count": 226
        }
      ]
    },
    {
      "cell_type": "code",
      "source": [
        "\"i use python v{py_v}, pandas v{pa_v} and numpy v{nu_v}\".format(py_v=3, pa_v= '1.1.3', nu_v= 4)"
      ],
      "metadata": {
        "id": "n-ygDF5Pr1ug",
        "colab": {
          "base_uri": "https://localhost:8080/",
          "height": 35
        },
        "outputId": "e8716f6d-907a-4535-c954-03addbd56233"
      },
      "execution_count": 227,
      "outputs": [
        {
          "output_type": "execute_result",
          "data": {
            "text/plain": [
              "'i use python v3, pandas v1.1.3 and numpy v4'"
            ],
            "application/vnd.google.colaboratory.intrinsic+json": {
              "type": "string"
            }
          },
          "metadata": {},
          "execution_count": 227
        }
      ]
    },
    {
      "cell_type": "code",
      "source": [
        "students= ['yalda', 'leila', 'ali']"
      ],
      "metadata": {
        "id": "8BpdGL6nsbnJ"
      },
      "execution_count": 228,
      "outputs": []
    },
    {
      "cell_type": "code",
      "source": [
        "students[0]"
      ],
      "metadata": {
        "id": "Zw91N8phtugg",
        "colab": {
          "base_uri": "https://localhost:8080/",
          "height": 35
        },
        "outputId": "79147a24-d630-4129-c80d-82b8b5b77c75"
      },
      "execution_count": 229,
      "outputs": [
        {
          "output_type": "execute_result",
          "data": {
            "text/plain": [
              "'yalda'"
            ],
            "application/vnd.google.colaboratory.intrinsic+json": {
              "type": "string"
            }
          },
          "metadata": {},
          "execution_count": 229
        }
      ]
    },
    {
      "cell_type": "code",
      "source": [
        "students[2]"
      ],
      "metadata": {
        "id": "44uDXX4Kt9FX",
        "colab": {
          "base_uri": "https://localhost:8080/",
          "height": 35
        },
        "outputId": "b4db2e47-66c0-4f41-fda8-5b79baf916e1"
      },
      "execution_count": 230,
      "outputs": [
        {
          "output_type": "execute_result",
          "data": {
            "text/plain": [
              "'ali'"
            ],
            "application/vnd.google.colaboratory.intrinsic+json": {
              "type": "string"
            }
          },
          "metadata": {},
          "execution_count": 230
        }
      ]
    },
    {
      "cell_type": "code",
      "source": [
        "students[0:1]"
      ],
      "metadata": {
        "id": "Kaph_e7bt_SF",
        "colab": {
          "base_uri": "https://localhost:8080/"
        },
        "outputId": "cf082020-12a9-41b8-86f7-cdce97a67136"
      },
      "execution_count": 231,
      "outputs": [
        {
          "output_type": "execute_result",
          "data": {
            "text/plain": [
              "['yalda']"
            ]
          },
          "metadata": {},
          "execution_count": 231
        }
      ]
    },
    {
      "cell_type": "code",
      "source": [
        "students[0:2]"
      ],
      "metadata": {
        "id": "VBv5IshcuJli",
        "colab": {
          "base_uri": "https://localhost:8080/"
        },
        "outputId": "766961e4-0e2f-4d74-f751-c55dde520b38"
      },
      "execution_count": 232,
      "outputs": [
        {
          "output_type": "execute_result",
          "data": {
            "text/plain": [
              "['yalda', 'leila']"
            ]
          },
          "metadata": {},
          "execution_count": 232
        }
      ]
    },
    {
      "cell_type": "code",
      "source": [
        "students[0:3]"
      ],
      "metadata": {
        "id": "HL0xhfUquLzm",
        "colab": {
          "base_uri": "https://localhost:8080/"
        },
        "outputId": "73a8bcce-ebd9-4b71-8f6f-4f9b45c78d1a"
      },
      "execution_count": 233,
      "outputs": [
        {
          "output_type": "execute_result",
          "data": {
            "text/plain": [
              "['yalda', 'leila', 'ali']"
            ]
          },
          "metadata": {},
          "execution_count": 233
        }
      ]
    },
    {
      "cell_type": "code",
      "source": [
        "students[-1]"
      ],
      "metadata": {
        "id": "v9u-eBXYuPjP",
        "colab": {
          "base_uri": "https://localhost:8080/",
          "height": 35
        },
        "outputId": "bd843140-dd55-4260-fe35-ab472ba73e42"
      },
      "execution_count": 234,
      "outputs": [
        {
          "output_type": "execute_result",
          "data": {
            "text/plain": [
              "'ali'"
            ],
            "application/vnd.google.colaboratory.intrinsic+json": {
              "type": "string"
            }
          },
          "metadata": {},
          "execution_count": 234
        }
      ]
    },
    {
      "cell_type": "code",
      "source": [
        "type(students)"
      ],
      "metadata": {
        "id": "ndBhitJquUOr",
        "colab": {
          "base_uri": "https://localhost:8080/"
        },
        "outputId": "c1d96e79-3ceb-4aa4-bfd8-bba632d8f08c"
      },
      "execution_count": 235,
      "outputs": [
        {
          "output_type": "execute_result",
          "data": {
            "text/plain": [
              "list"
            ]
          },
          "metadata": {},
          "execution_count": 235
        }
      ]
    },
    {
      "cell_type": "code",
      "source": [
        "py = \"python\""
      ],
      "metadata": {
        "id": "mgofgYYs0E06"
      },
      "execution_count": 236,
      "outputs": []
    },
    {
      "cell_type": "code",
      "source": [],
      "metadata": {
        "id": "4ng7Uyf80I7K"
      },
      "execution_count": 237,
      "outputs": []
    },
    {
      "cell_type": "code",
      "source": [
        "type(py)"
      ],
      "metadata": {
        "id": "9WICGzxm0K2s",
        "colab": {
          "base_uri": "https://localhost:8080/"
        },
        "outputId": "4cc4d834-ac7c-4e6a-ee4c-6041a3b533ed"
      },
      "execution_count": 238,
      "outputs": [
        {
          "output_type": "execute_result",
          "data": {
            "text/plain": [
              "str"
            ]
          },
          "metadata": {},
          "execution_count": 238
        }
      ]
    },
    {
      "cell_type": "code",
      "source": [
        "py"
      ],
      "metadata": {
        "id": "LDlnOjZl0nwX",
        "colab": {
          "base_uri": "https://localhost:8080/",
          "height": 35
        },
        "outputId": "162e2947-63a7-49da-eea1-e6be9ac3fae5"
      },
      "execution_count": 239,
      "outputs": [
        {
          "output_type": "execute_result",
          "data": {
            "text/plain": [
              "'python'"
            ],
            "application/vnd.google.colaboratory.intrinsic+json": {
              "type": "string"
            }
          },
          "metadata": {},
          "execution_count": 239
        }
      ]
    },
    {
      "cell_type": "code",
      "source": [
        "py[-1]"
      ],
      "metadata": {
        "id": "E7BJ6XnU0qRR",
        "colab": {
          "base_uri": "https://localhost:8080/",
          "height": 35
        },
        "outputId": "c309fdfa-b02d-4ce8-9b74-c092fe8a709e"
      },
      "execution_count": 240,
      "outputs": [
        {
          "output_type": "execute_result",
          "data": {
            "text/plain": [
              "'n'"
            ],
            "application/vnd.google.colaboratory.intrinsic+json": {
              "type": "string"
            }
          },
          "metadata": {},
          "execution_count": 240
        }
      ]
    },
    {
      "cell_type": "code",
      "source": [
        "py= 'pythoN'"
      ],
      "metadata": {
        "id": "FWnBHZkA0tj4"
      },
      "execution_count": 241,
      "outputs": []
    },
    {
      "cell_type": "code",
      "source": [
        "py[-1]"
      ],
      "metadata": {
        "id": "hjjIXIdU06UE",
        "colab": {
          "base_uri": "https://localhost:8080/",
          "height": 35
        },
        "outputId": "abc965ea-c752-41dd-d3f0-5fb410a91f89"
      },
      "execution_count": 242,
      "outputs": [
        {
          "output_type": "execute_result",
          "data": {
            "text/plain": [
              "'N'"
            ],
            "application/vnd.google.colaboratory.intrinsic+json": {
              "type": "string"
            }
          },
          "metadata": {},
          "execution_count": 242
        }
      ]
    },
    {
      "cell_type": "code",
      "source": [
        "students"
      ],
      "metadata": {
        "id": "1g2Sy6B708ZM",
        "colab": {
          "base_uri": "https://localhost:8080/"
        },
        "outputId": "b06ba3d0-3583-4d09-b9b4-dbe5a17cd7fb"
      },
      "execution_count": 243,
      "outputs": [
        {
          "output_type": "execute_result",
          "data": {
            "text/plain": [
              "['yalda', 'leila', 'ali']"
            ]
          },
          "metadata": {},
          "execution_count": 243
        }
      ]
    },
    {
      "cell_type": "code",
      "source": [
        "students[-1] = 'shari'"
      ],
      "metadata": {
        "id": "rQurT34L1BaI"
      },
      "execution_count": 244,
      "outputs": []
    },
    {
      "cell_type": "code",
      "source": [
        "students"
      ],
      "metadata": {
        "id": "kOQ4VecM1Db3",
        "colab": {
          "base_uri": "https://localhost:8080/"
        },
        "outputId": "fe21863d-f327-4dae-a4be-70ccf3d979bf"
      },
      "execution_count": 245,
      "outputs": [
        {
          "output_type": "execute_result",
          "data": {
            "text/plain": [
              "['yalda', 'leila', 'shari']"
            ]
          },
          "metadata": {},
          "execution_count": 245
        }
      ]
    },
    {
      "cell_type": "code",
      "source": [
        "age= [10,12,45.6,7]"
      ],
      "metadata": {
        "id": "-xHNanMi1ILX"
      },
      "execution_count": 246,
      "outputs": []
    },
    {
      "cell_type": "code",
      "source": [
        "type(age)"
      ],
      "metadata": {
        "id": "cZcq1CPs1c09",
        "colab": {
          "base_uri": "https://localhost:8080/"
        },
        "outputId": "2058b5e8-c85c-4198-c910-58cdc6ee5274"
      },
      "execution_count": 247,
      "outputs": [
        {
          "output_type": "execute_result",
          "data": {
            "text/plain": [
              "list"
            ]
          },
          "metadata": {},
          "execution_count": 247
        }
      ]
    },
    {
      "cell_type": "code",
      "source": [
        "max(age)"
      ],
      "metadata": {
        "id": "8uC4TjaX1eFo",
        "colab": {
          "base_uri": "https://localhost:8080/"
        },
        "outputId": "c807ac67-7302-49bf-b392-0a54045c4fc8"
      },
      "execution_count": 248,
      "outputs": [
        {
          "output_type": "execute_result",
          "data": {
            "text/plain": [
              "45.6"
            ]
          },
          "metadata": {},
          "execution_count": 248
        }
      ]
    },
    {
      "cell_type": "code",
      "source": [
        "min(age)"
      ],
      "metadata": {
        "id": "od4Q6hKp1hoV",
        "colab": {
          "base_uri": "https://localhost:8080/"
        },
        "outputId": "0128eed0-4bee-4144-d5f1-6f390bc5e5c4"
      },
      "execution_count": 249,
      "outputs": [
        {
          "output_type": "execute_result",
          "data": {
            "text/plain": [
              "7"
            ]
          },
          "metadata": {},
          "execution_count": 249
        }
      ]
    },
    {
      "cell_type": "code",
      "source": [
        "len(age)"
      ],
      "metadata": {
        "id": "xJ_xyP_N1kCD",
        "colab": {
          "base_uri": "https://localhost:8080/"
        },
        "outputId": "4bf92911-e43e-410e-ae60-449c4182b022"
      },
      "execution_count": 250,
      "outputs": [
        {
          "output_type": "execute_result",
          "data": {
            "text/plain": [
              "4"
            ]
          },
          "metadata": {},
          "execution_count": 250
        }
      ]
    },
    {
      "cell_type": "code",
      "source": [
        "sorted(age)"
      ],
      "metadata": {
        "id": "qRJXFN_h1nWP",
        "colab": {
          "base_uri": "https://localhost:8080/"
        },
        "outputId": "73713fa4-1630-4557-926f-b41894c49620"
      },
      "execution_count": 251,
      "outputs": [
        {
          "output_type": "execute_result",
          "data": {
            "text/plain": [
              "[7, 10, 12, 45.6]"
            ]
          },
          "metadata": {},
          "execution_count": 251
        }
      ]
    },
    {
      "cell_type": "code",
      "source": [
        "sorted(age, reverse= True)"
      ],
      "metadata": {
        "id": "J_GUXnMz1s2a",
        "colab": {
          "base_uri": "https://localhost:8080/"
        },
        "outputId": "cd88c133-e00f-4392-ef49-7797852da909"
      },
      "execution_count": 252,
      "outputs": [
        {
          "output_type": "execute_result",
          "data": {
            "text/plain": [
              "[45.6, 12, 10, 7]"
            ]
          },
          "metadata": {},
          "execution_count": 252
        }
      ]
    },
    {
      "cell_type": "code",
      "source": [
        "age"
      ],
      "metadata": {
        "id": "HPi4NRgE127X",
        "colab": {
          "base_uri": "https://localhost:8080/"
        },
        "outputId": "25624fa7-aa5d-4501-8d50-13a80bc388fe"
      },
      "execution_count": 253,
      "outputs": [
        {
          "output_type": "execute_result",
          "data": {
            "text/plain": [
              "[10, 12, 45.6, 7]"
            ]
          },
          "metadata": {},
          "execution_count": 253
        }
      ]
    },
    {
      "cell_type": "code",
      "source": [
        "age.append(24)"
      ],
      "metadata": {
        "id": "gHt7iyLk1-EY"
      },
      "execution_count": 254,
      "outputs": []
    },
    {
      "cell_type": "code",
      "source": [
        "age"
      ],
      "metadata": {
        "id": "TedmLBok2CS6",
        "colab": {
          "base_uri": "https://localhost:8080/"
        },
        "outputId": "f504ecd5-c0d0-4a5d-8753-1e1286ea7f3d"
      },
      "execution_count": 255,
      "outputs": [
        {
          "output_type": "execute_result",
          "data": {
            "text/plain": [
              "[10, 12, 45.6, 7, 24]"
            ]
          },
          "metadata": {},
          "execution_count": 255
        }
      ]
    },
    {
      "cell_type": "code",
      "source": [
        "age.pop(-1)"
      ],
      "metadata": {
        "id": "2Hl-moJk2DHt",
        "colab": {
          "base_uri": "https://localhost:8080/"
        },
        "outputId": "ee55d3e7-dece-4b20-e09d-2e27ce80c29e"
      },
      "execution_count": 256,
      "outputs": [
        {
          "output_type": "execute_result",
          "data": {
            "text/plain": [
              "24"
            ]
          },
          "metadata": {},
          "execution_count": 256
        }
      ]
    },
    {
      "cell_type": "code",
      "source": [
        "age"
      ],
      "metadata": {
        "id": "0wDVjWoQ2PGc",
        "colab": {
          "base_uri": "https://localhost:8080/"
        },
        "outputId": "c83879e2-3492-47b3-e204-85d42300a973"
      },
      "execution_count": 257,
      "outputs": [
        {
          "output_type": "execute_result",
          "data": {
            "text/plain": [
              "[10, 12, 45.6, 7]"
            ]
          },
          "metadata": {},
          "execution_count": 257
        }
      ]
    },
    {
      "cell_type": "code",
      "source": [
        "age.remove(12)"
      ],
      "metadata": {
        "id": "ZAoiNtoi2VLj"
      },
      "execution_count": 258,
      "outputs": []
    },
    {
      "cell_type": "code",
      "source": [
        "age"
      ],
      "metadata": {
        "id": "hNND9dCZ2ce1",
        "colab": {
          "base_uri": "https://localhost:8080/"
        },
        "outputId": "48399e89-37fe-4fc3-8f87-b5d5ff485d3d"
      },
      "execution_count": 259,
      "outputs": [
        {
          "output_type": "execute_result",
          "data": {
            "text/plain": [
              "[10, 45.6, 7]"
            ]
          },
          "metadata": {},
          "execution_count": 259
        }
      ]
    },
    {
      "cell_type": "code",
      "source": [
        "students"
      ],
      "metadata": {
        "id": "Hw9MY4PN2kd8",
        "colab": {
          "base_uri": "https://localhost:8080/"
        },
        "outputId": "ea0fb986-7169-456f-e285-4c7e241bff0a"
      },
      "execution_count": 260,
      "outputs": [
        {
          "output_type": "execute_result",
          "data": {
            "text/plain": [
              "['yalda', 'leila', 'shari']"
            ]
          },
          "metadata": {},
          "execution_count": 260
        }
      ]
    },
    {
      "cell_type": "code",
      "source": [
        "students.append(\"ali\")"
      ],
      "metadata": {
        "id": "PdYb_GbJ2rqU"
      },
      "execution_count": 261,
      "outputs": []
    },
    {
      "cell_type": "code",
      "source": [
        "students.pop(-1)"
      ],
      "metadata": {
        "id": "UCyz5gM52wux",
        "colab": {
          "base_uri": "https://localhost:8080/",
          "height": 35
        },
        "outputId": "cb488533-44b7-42da-ff52-0c35fecfd17c"
      },
      "execution_count": 262,
      "outputs": [
        {
          "output_type": "execute_result",
          "data": {
            "text/plain": [
              "'ali'"
            ],
            "application/vnd.google.colaboratory.intrinsic+json": {
              "type": "string"
            }
          },
          "metadata": {},
          "execution_count": 262
        }
      ]
    },
    {
      "cell_type": "code",
      "source": [
        "students.remove('yalda')"
      ],
      "metadata": {
        "id": "V7fU99h7215W"
      },
      "execution_count": 263,
      "outputs": []
    },
    {
      "cell_type": "code",
      "source": [
        "students"
      ],
      "metadata": {
        "id": "Zz_N3yud25yo",
        "colab": {
          "base_uri": "https://localhost:8080/"
        },
        "outputId": "33c29496-fd83-49b8-8015-da4070a31d6f"
      },
      "execution_count": 264,
      "outputs": [
        {
          "output_type": "execute_result",
          "data": {
            "text/plain": [
              "['leila', 'shari']"
            ]
          },
          "metadata": {},
          "execution_count": 264
        }
      ]
    },
    {
      "cell_type": "code",
      "source": [
        "students. append('yalda')"
      ],
      "metadata": {
        "id": "9K7ICs3527A6"
      },
      "execution_count": 265,
      "outputs": []
    },
    {
      "cell_type": "code",
      "source": [
        "students. append('ali')"
      ],
      "metadata": {
        "id": "jOOM_TMh2_dF"
      },
      "execution_count": 266,
      "outputs": []
    },
    {
      "cell_type": "code",
      "source": [
        "students"
      ],
      "metadata": {
        "id": "axTyCkdk3J2u",
        "colab": {
          "base_uri": "https://localhost:8080/"
        },
        "outputId": "d8bdfae6-5d67-4d71-a7dd-a1c623da4ca4"
      },
      "execution_count": 267,
      "outputs": [
        {
          "output_type": "execute_result",
          "data": {
            "text/plain": [
              "['leila', 'shari', 'yalda', 'ali']"
            ]
          },
          "metadata": {},
          "execution_count": 267
        }
      ]
    },
    {
      "cell_type": "code",
      "source": [
        "', '.join(students)"
      ],
      "metadata": {
        "id": "GbNwGWVD3L7B",
        "colab": {
          "base_uri": "https://localhost:8080/",
          "height": 35
        },
        "outputId": "0b822b08-4f11-4777-d623-8f220e4cd424"
      },
      "execution_count": 268,
      "outputs": [
        {
          "output_type": "execute_result",
          "data": {
            "text/plain": [
              "'leila, shari, yalda, ali'"
            ],
            "application/vnd.google.colaboratory.intrinsic+json": {
              "type": "string"
            }
          },
          "metadata": {},
          "execution_count": 268
        }
      ]
    },
    {
      "cell_type": "code",
      "source": [
        "data1= ('yalda', 33)"
      ],
      "metadata": {
        "id": "NIA-n6rN3nQb"
      },
      "execution_count": 269,
      "outputs": []
    },
    {
      "cell_type": "code",
      "source": [
        "data2= 'leila', 23"
      ],
      "metadata": {
        "id": "Y1hvlJxz3wsN"
      },
      "execution_count": 270,
      "outputs": []
    },
    {
      "cell_type": "code",
      "source": [
        "type(data2)"
      ],
      "metadata": {
        "id": "NrAEAg0032te",
        "colab": {
          "base_uri": "https://localhost:8080/"
        },
        "outputId": "acbafc84-be30-4ecd-d091-7ac5b88e8b5c"
      },
      "execution_count": 271,
      "outputs": [
        {
          "output_type": "execute_result",
          "data": {
            "text/plain": [
              "tuple"
            ]
          },
          "metadata": {},
          "execution_count": 271
        }
      ]
    },
    {
      "cell_type": "code",
      "source": [
        "data2[0]"
      ],
      "metadata": {
        "id": "NcQcgMuq35m3",
        "colab": {
          "base_uri": "https://localhost:8080/",
          "height": 35
        },
        "outputId": "9b2b2e0b-725e-4189-9282-31570e5f9217"
      },
      "execution_count": 272,
      "outputs": [
        {
          "output_type": "execute_result",
          "data": {
            "text/plain": [
              "'leila'"
            ],
            "application/vnd.google.colaboratory.intrinsic+json": {
              "type": "string"
            }
          },
          "metadata": {},
          "execution_count": 272
        }
      ]
    },
    {
      "cell_type": "code",
      "source": [
        "data2[-1]"
      ],
      "metadata": {
        "id": "UkEGIE9N4JAw",
        "colab": {
          "base_uri": "https://localhost:8080/"
        },
        "outputId": "6e46d777-608c-4a19-eabd-700bd1f9c047"
      },
      "execution_count": 273,
      "outputs": [
        {
          "output_type": "execute_result",
          "data": {
            "text/plain": [
              "23"
            ]
          },
          "metadata": {},
          "execution_count": 273
        }
      ]
    },
    {
      "cell_type": "code",
      "source": [
        "sat= 790,780,640"
      ],
      "metadata": {
        "id": "8CTij9AZ4Lf5"
      },
      "execution_count": 274,
      "outputs": []
    },
    {
      "cell_type": "code",
      "source": [
        "sat"
      ],
      "metadata": {
        "id": "06cprMfY4f9L",
        "colab": {
          "base_uri": "https://localhost:8080/"
        },
        "outputId": "0ccb2cb3-a16f-4f9d-df12-87a90f7960c9"
      },
      "execution_count": 275,
      "outputs": [
        {
          "output_type": "execute_result",
          "data": {
            "text/plain": [
              "(790, 780, 640)"
            ]
          },
          "metadata": {},
          "execution_count": 275
        }
      ]
    },
    {
      "cell_type": "code",
      "source": [
        "sat[2]"
      ],
      "metadata": {
        "id": "J2SnJdNR4hFO",
        "colab": {
          "base_uri": "https://localhost:8080/"
        },
        "outputId": "43bd9603-0ff6-4104-b5db-f2e3ec2ecadc"
      },
      "execution_count": 276,
      "outputs": [
        {
          "output_type": "execute_result",
          "data": {
            "text/plain": [
              "640"
            ]
          },
          "metadata": {},
          "execution_count": 276
        }
      ]
    },
    {
      "cell_type": "code",
      "source": [
        "degree= {'bs', 'ms', 'phd'}"
      ],
      "metadata": {
        "id": "AhzTznV54jx4"
      },
      "execution_count": 277,
      "outputs": []
    },
    {
      "cell_type": "code",
      "source": [
        "type(degree)"
      ],
      "metadata": {
        "id": "JohFA35443Ko",
        "colab": {
          "base_uri": "https://localhost:8080/"
        },
        "outputId": "dadfd695-da43-474d-b458-6968230b41b1"
      },
      "execution_count": 278,
      "outputs": [
        {
          "output_type": "execute_result",
          "data": {
            "text/plain": [
              "set"
            ]
          },
          "metadata": {},
          "execution_count": 278
        }
      ]
    },
    {
      "cell_type": "code",
      "source": [
        "degree.add('post-doc')"
      ],
      "metadata": {
        "id": "iA6zvfeO47aO"
      },
      "execution_count": 279,
      "outputs": []
    },
    {
      "cell_type": "code",
      "source": [
        "degree"
      ],
      "metadata": {
        "id": "Rzf1ljb-5p-z",
        "colab": {
          "base_uri": "https://localhost:8080/"
        },
        "outputId": "5e414de7-31b0-47b2-c33e-53c8837f08de"
      },
      "execution_count": 280,
      "outputs": [
        {
          "output_type": "execute_result",
          "data": {
            "text/plain": [
              "{'bs', 'ms', 'phd', 'post-doc'}"
            ]
          },
          "metadata": {},
          "execution_count": 280
        }
      ]
    },
    {
      "cell_type": "code",
      "source": [
        "degree.discard('ms')"
      ],
      "metadata": {
        "id": "ALtS9Fd253z2"
      },
      "execution_count": 281,
      "outputs": []
    },
    {
      "cell_type": "code",
      "source": [
        "degree"
      ],
      "metadata": {
        "id": "phvQM19a59AM",
        "colab": {
          "base_uri": "https://localhost:8080/"
        },
        "outputId": "40ba56ad-2b9e-4960-8dd4-74740dc8490c"
      },
      "execution_count": 282,
      "outputs": [
        {
          "output_type": "execute_result",
          "data": {
            "text/plain": [
              "{'bs', 'phd', 'post-doc'}"
            ]
          },
          "metadata": {},
          "execution_count": 282
        }
      ]
    },
    {
      "cell_type": "code",
      "source": [
        "degree2 = {'ms','ma', 'phd'}"
      ],
      "metadata": {
        "id": "yZp9fpAU5-TK"
      },
      "execution_count": 283,
      "outputs": []
    },
    {
      "cell_type": "code",
      "source": [
        "degree2"
      ],
      "metadata": {
        "id": "_Vibmw756iOx",
        "colab": {
          "base_uri": "https://localhost:8080/"
        },
        "outputId": "20a3cad6-f3ff-4772-c621-ecaad7a285ba"
      },
      "execution_count": 284,
      "outputs": [
        {
          "output_type": "execute_result",
          "data": {
            "text/plain": [
              "{'ma', 'ms', 'phd'}"
            ]
          },
          "metadata": {},
          "execution_count": 284
        }
      ]
    },
    {
      "cell_type": "code",
      "source": [
        "degree2.intersection(degree)"
      ],
      "metadata": {
        "id": "vH8lVJfN6j_n",
        "colab": {
          "base_uri": "https://localhost:8080/"
        },
        "outputId": "c94dbff2-3946-42e7-a880-c016d6775829"
      },
      "execution_count": 285,
      "outputs": [
        {
          "output_type": "execute_result",
          "data": {
            "text/plain": [
              "{'phd'}"
            ]
          },
          "metadata": {},
          "execution_count": 285
        }
      ]
    },
    {
      "cell_type": "code",
      "source": [
        "degree.union(degree2)"
      ],
      "metadata": {
        "id": "B_zN_cWE6owJ",
        "colab": {
          "base_uri": "https://localhost:8080/"
        },
        "outputId": "db85b4b5-827e-41f4-bc67-8f48e50187dc"
      },
      "execution_count": 286,
      "outputs": [
        {
          "output_type": "execute_result",
          "data": {
            "text/plain": [
              "{'bs', 'ma', 'ms', 'phd', 'post-doc'}"
            ]
          },
          "metadata": {},
          "execution_count": 286
        }
      ]
    },
    {
      "cell_type": "code",
      "source": [
        "degree2.difference(degree)"
      ],
      "metadata": {
        "id": "W6PaB3-16ubN",
        "colab": {
          "base_uri": "https://localhost:8080/"
        },
        "outputId": "18908253-1ebb-42b3-dbcd-93a51dddbaef"
      },
      "execution_count": 287,
      "outputs": [
        {
          "output_type": "execute_result",
          "data": {
            "text/plain": [
              "{'ma', 'ms'}"
            ]
          },
          "metadata": {},
          "execution_count": 287
        }
      ]
    },
    {
      "cell_type": "code",
      "source": [
        "degree.difference(degree2)"
      ],
      "metadata": {
        "id": "rVP2u2ji61Po",
        "colab": {
          "base_uri": "https://localhost:8080/"
        },
        "outputId": "5f71d65d-d36f-42a9-e84f-81876958a4fd"
      },
      "execution_count": 288,
      "outputs": [
        {
          "output_type": "execute_result",
          "data": {
            "text/plain": [
              "{'bs', 'post-doc'}"
            ]
          },
          "metadata": {},
          "execution_count": 288
        }
      ]
    },
    {
      "cell_type": "code",
      "source": [
        "degree"
      ],
      "metadata": {
        "id": "6DvXk8np7A9f",
        "colab": {
          "base_uri": "https://localhost:8080/"
        },
        "outputId": "2cf32538-6982-4741-c94e-7f04864dc4c0"
      },
      "execution_count": 289,
      "outputs": [
        {
          "output_type": "execute_result",
          "data": {
            "text/plain": [
              "{'bs', 'phd', 'post-doc'}"
            ]
          },
          "metadata": {},
          "execution_count": 289
        }
      ]
    },
    {
      "cell_type": "code",
      "source": [
        "degree2"
      ],
      "metadata": {
        "id": "qN8TPxvl7FgQ",
        "colab": {
          "base_uri": "https://localhost:8080/"
        },
        "outputId": "5a1e3873-b7d2-494f-f822-912d9d622b9a"
      },
      "execution_count": 290,
      "outputs": [
        {
          "output_type": "execute_result",
          "data": {
            "text/plain": [
              "{'ma', 'ms', 'phd'}"
            ]
          },
          "metadata": {},
          "execution_count": 290
        }
      ]
    },
    {
      "cell_type": "code",
      "source": [
        "set(degree2)"
      ],
      "metadata": {
        "id": "9sLfMhoL7GlM",
        "colab": {
          "base_uri": "https://localhost:8080/"
        },
        "outputId": "fcd59906-39a8-44b2-e768-067f00cabd60"
      },
      "execution_count": 291,
      "outputs": [
        {
          "output_type": "execute_result",
          "data": {
            "text/plain": [
              "{'ma', 'ms', 'phd'}"
            ]
          },
          "metadata": {},
          "execution_count": 291
        }
      ]
    },
    {
      "cell_type": "code",
      "source": [
        "list(set(degree2))"
      ],
      "metadata": {
        "id": "sfgL7eMuqLTK",
        "colab": {
          "base_uri": "https://localhost:8080/"
        },
        "outputId": "77bfcfd0-f518-481d-c706-59bfda8e6b39"
      },
      "execution_count": 292,
      "outputs": [
        {
          "output_type": "execute_result",
          "data": {
            "text/plain": [
              "['ma', 'phd', 'ms']"
            ]
          },
          "metadata": {},
          "execution_count": 292
        }
      ]
    },
    {
      "cell_type": "code",
      "source": [
        "score= {'soni': 94, 'ashly': 96, 'david': 100}"
      ],
      "metadata": {
        "id": "Cmp2oL5Zqm5T"
      },
      "execution_count": 293,
      "outputs": []
    },
    {
      "cell_type": "code",
      "source": [
        "type(score)"
      ],
      "metadata": {
        "id": "0L_jctWVsWbR",
        "colab": {
          "base_uri": "https://localhost:8080/"
        },
        "outputId": "47af3195-cff6-4361-d069-bc005663440b"
      },
      "execution_count": 294,
      "outputs": [
        {
          "output_type": "execute_result",
          "data": {
            "text/plain": [
              "dict"
            ]
          },
          "metadata": {},
          "execution_count": 294
        }
      ]
    },
    {
      "cell_type": "code",
      "source": [
        "score['david']"
      ],
      "metadata": {
        "id": "S6FwNCausZut",
        "colab": {
          "base_uri": "https://localhost:8080/"
        },
        "outputId": "fe5d115a-5a73-4acf-ac94-8c39edf4eaa6"
      },
      "execution_count": 295,
      "outputs": [
        {
          "output_type": "execute_result",
          "data": {
            "text/plain": [
              "100"
            ]
          },
          "metadata": {},
          "execution_count": 295
        }
      ]
    },
    {
      "cell_type": "code",
      "source": [
        "score['andy']"
      ],
      "metadata": {
        "id": "VGZyqryQshVu",
        "colab": {
          "base_uri": "https://localhost:8080/",
          "height": 179
        },
        "outputId": "8d70d221-552b-44e2-d520-3130cfab135b"
      },
      "execution_count": 296,
      "outputs": [
        {
          "output_type": "error",
          "ename": "KeyError",
          "evalue": "ignored",
          "traceback": [
            "\u001b[0;31m---------------------------------------------------------------------------\u001b[0m",
            "\u001b[0;31mKeyError\u001b[0m                                  Traceback (most recent call last)",
            "\u001b[0;32m<ipython-input-296-990035c04498>\u001b[0m in \u001b[0;36m<cell line: 1>\u001b[0;34m()\u001b[0m\n\u001b[0;32m----> 1\u001b[0;31m \u001b[0mscore\u001b[0m\u001b[0;34m[\u001b[0m\u001b[0;34m'andy'\u001b[0m\u001b[0;34m]\u001b[0m\u001b[0;34m\u001b[0m\u001b[0;34m\u001b[0m\u001b[0m\n\u001b[0m",
            "\u001b[0;31mKeyError\u001b[0m: 'andy'"
          ]
        }
      ]
    },
    {
      "cell_type": "code",
      "source": [
        "score['soni']"
      ],
      "metadata": {
        "id": "xUjDWGzdsjwJ"
      },
      "execution_count": null,
      "outputs": []
    },
    {
      "cell_type": "code",
      "source": [
        "score('soni')"
      ],
      "metadata": {
        "id": "aBlnTM-Asxxn"
      },
      "execution_count": null,
      "outputs": []
    },
    {
      "cell_type": "code",
      "source": [
        "score.get('soni')"
      ],
      "metadata": {
        "id": "lmC5r0Ops0x4",
        "colab": {
          "base_uri": "https://localhost:8080/"
        },
        "outputId": "70b1e4bf-1111-4c50-b98a-1740d6c179aa"
      },
      "execution_count": 297,
      "outputs": [
        {
          "output_type": "execute_result",
          "data": {
            "text/plain": [
              "94"
            ]
          },
          "metadata": {},
          "execution_count": 297
        }
      ]
    },
    {
      "cell_type": "code",
      "source": [
        "print(score.get('andy'))"
      ],
      "metadata": {
        "id": "kUMO-SiAs8yP",
        "colab": {
          "base_uri": "https://localhost:8080/"
        },
        "outputId": "0a4ec090-ef9a-436f-c0c4-367999402435"
      },
      "execution_count": 298,
      "outputs": [
        {
          "output_type": "stream",
          "name": "stdout",
          "text": [
            "None\n"
          ]
        }
      ]
    },
    {
      "cell_type": "code",
      "source": [
        "score"
      ],
      "metadata": {
        "id": "s-JbsUMgtEmG",
        "colab": {
          "base_uri": "https://localhost:8080/"
        },
        "outputId": "276f065a-5daf-47e4-de98-b784f74eb6d2"
      },
      "execution_count": 299,
      "outputs": [
        {
          "output_type": "execute_result",
          "data": {
            "text/plain": [
              "{'soni': 94, 'ashly': 96, 'david': 100}"
            ]
          },
          "metadata": {},
          "execution_count": 299
        }
      ]
    },
    {
      "cell_type": "code",
      "source": [
        "score['tom']=97"
      ],
      "metadata": {
        "id": "UL-qFo9ttHdb"
      },
      "execution_count": 300,
      "outputs": []
    },
    {
      "cell_type": "code",
      "source": [
        "score"
      ],
      "metadata": {
        "id": "7aOWmM_TtQ-u",
        "colab": {
          "base_uri": "https://localhost:8080/"
        },
        "outputId": "3024c8f2-ccdb-4a67-f297-dcc6e1000751"
      },
      "execution_count": 301,
      "outputs": [
        {
          "output_type": "execute_result",
          "data": {
            "text/plain": [
              "{'soni': 94, 'ashly': 96, 'david': 100, 'tom': 97}"
            ]
          },
          "metadata": {},
          "execution_count": 301
        }
      ]
    },
    {
      "cell_type": "code",
      "source": [
        "score.pop('soni')"
      ],
      "metadata": {
        "id": "6ubwq6VutSiy",
        "colab": {
          "base_uri": "https://localhost:8080/"
        },
        "outputId": "894a9fba-222a-4bb5-f874-653a0dd4a00a"
      },
      "execution_count": 302,
      "outputs": [
        {
          "output_type": "execute_result",
          "data": {
            "text/plain": [
              "94"
            ]
          },
          "metadata": {},
          "execution_count": 302
        }
      ]
    },
    {
      "cell_type": "code",
      "source": [
        "score"
      ],
      "metadata": {
        "id": "0NoUZ1RjtizG",
        "colab": {
          "base_uri": "https://localhost:8080/"
        },
        "outputId": "6a40e464-3678-41ee-adaa-5b4641406087"
      },
      "execution_count": 303,
      "outputs": [
        {
          "output_type": "execute_result",
          "data": {
            "text/plain": [
              "{'ashly': 96, 'david': 100, 'tom': 97}"
            ]
          },
          "metadata": {},
          "execution_count": 303
        }
      ]
    },
    {
      "cell_type": "code",
      "source": [
        "score.get('soni')"
      ],
      "metadata": {
        "id": "Qvl_sKubuzAa"
      },
      "execution_count": 304,
      "outputs": []
    },
    {
      "cell_type": "code",
      "source": [
        "score"
      ],
      "metadata": {
        "id": "uoW69KfSu3z3",
        "colab": {
          "base_uri": "https://localhost:8080/"
        },
        "outputId": "9d28fc1e-6a31-4476-8a1f-84e47be7a6ea"
      },
      "execution_count": 305,
      "outputs": [
        {
          "output_type": "execute_result",
          "data": {
            "text/plain": [
              "{'ashly': 96, 'david': 100, 'tom': 97}"
            ]
          },
          "metadata": {},
          "execution_count": 305
        }
      ]
    },
    {
      "cell_type": "code",
      "source": [
        "score2 = {\n",
        "    'ashly': 90,\n",
        "    'david': [89,92],\n",
        "    'tom': {\n",
        "        'bio': 94,\n",
        "        'chem': 84,\n",
        "        'phys': 79,\n",
        "    }\n",
        "}"
      ],
      "metadata": {
        "id": "Fbuz2TsUu4uK"
      },
      "execution_count": 306,
      "outputs": []
    },
    {
      "cell_type": "code",
      "source": [
        "score2"
      ],
      "metadata": {
        "id": "JYnmYFg6vG5s",
        "colab": {
          "base_uri": "https://localhost:8080/"
        },
        "outputId": "b51341cd-e14d-41fa-be6d-10fa9801d36f"
      },
      "execution_count": 307,
      "outputs": [
        {
          "output_type": "execute_result",
          "data": {
            "text/plain": [
              "{'ashly': 90, 'david': [89, 92], 'tom': {'bio': 94, 'chem': 84, 'phys': 79}}"
            ]
          },
          "metadata": {},
          "execution_count": 307
        }
      ]
    },
    {
      "cell_type": "code",
      "source": [
        "type(score2)"
      ],
      "metadata": {
        "id": "O1kPxnVXwHzq",
        "colab": {
          "base_uri": "https://localhost:8080/"
        },
        "outputId": "5aa7ce4e-ebe0-4a34-98dd-029e68f7696f"
      },
      "execution_count": 308,
      "outputs": [
        {
          "output_type": "execute_result",
          "data": {
            "text/plain": [
              "dict"
            ]
          },
          "metadata": {},
          "execution_count": 308
        }
      ]
    },
    {
      "cell_type": "code",
      "source": [
        "score3 = {\n",
        "    'ashly': 90,\n",
        "    7: [89,92],\n",
        "    ('tom','winkle') : {\n",
        "        'bio': 94,\n",
        "        'chem': 84,\n",
        "        'phys': 79,\n",
        "    }\n",
        "}"
      ],
      "metadata": {
        "id": "cnre65gewMax"
      },
      "execution_count": 309,
      "outputs": []
    },
    {
      "cell_type": "code",
      "source": [
        "score3"
      ],
      "metadata": {
        "id": "Pido7hcqwlof",
        "colab": {
          "base_uri": "https://localhost:8080/"
        },
        "outputId": "ba726c46-592d-494d-a950-a43ed47a9b84"
      },
      "execution_count": 310,
      "outputs": [
        {
          "output_type": "execute_result",
          "data": {
            "text/plain": [
              "{'ashly': 90,\n",
              " 7: [89, 92],\n",
              " ('tom', 'winkle'): {'bio': 94, 'chem': 84, 'phys': 79}}"
            ]
          },
          "metadata": {},
          "execution_count": 310
        }
      ]
    },
    {
      "cell_type": "code",
      "source": [
        "score.keys()"
      ],
      "metadata": {
        "id": "-miWcm9VwnOZ",
        "colab": {
          "base_uri": "https://localhost:8080/"
        },
        "outputId": "8500020a-b211-48fc-df78-d38cd56cad86"
      },
      "execution_count": 311,
      "outputs": [
        {
          "output_type": "execute_result",
          "data": {
            "text/plain": [
              "dict_keys(['ashly', 'david', 'tom'])"
            ]
          },
          "metadata": {},
          "execution_count": 311
        }
      ]
    },
    {
      "cell_type": "code",
      "source": [
        "score2.keys()"
      ],
      "metadata": {
        "id": "kankbZP51SpA",
        "colab": {
          "base_uri": "https://localhost:8080/"
        },
        "outputId": "8fdd47a3-d77f-4798-f0f4-62272f20034a"
      },
      "execution_count": 312,
      "outputs": [
        {
          "output_type": "execute_result",
          "data": {
            "text/plain": [
              "dict_keys(['ashly', 'david', 'tom'])"
            ]
          },
          "metadata": {},
          "execution_count": 312
        }
      ]
    },
    {
      "cell_type": "code",
      "source": [
        "score3.keys()"
      ],
      "metadata": {
        "id": "UYZrNIkf1WTM",
        "colab": {
          "base_uri": "https://localhost:8080/"
        },
        "outputId": "a990087d-13b2-4fd8-ea65-cac36a8deac0"
      },
      "execution_count": 313,
      "outputs": [
        {
          "output_type": "execute_result",
          "data": {
            "text/plain": [
              "dict_keys(['ashly', 7, ('tom', 'winkle')])"
            ]
          },
          "metadata": {},
          "execution_count": 313
        }
      ]
    },
    {
      "cell_type": "code",
      "source": [
        "score.values()"
      ],
      "metadata": {
        "id": "d2yQd3ml1bHZ",
        "colab": {
          "base_uri": "https://localhost:8080/"
        },
        "outputId": "6b182a9d-1c08-464e-b1f4-fae8fb3633be"
      },
      "execution_count": 314,
      "outputs": [
        {
          "output_type": "execute_result",
          "data": {
            "text/plain": [
              "dict_values([96, 100, 97])"
            ]
          },
          "metadata": {},
          "execution_count": 314
        }
      ]
    },
    {
      "cell_type": "code",
      "source": [
        "score.items()"
      ],
      "metadata": {
        "id": "Id6zMlhW1fMd",
        "colab": {
          "base_uri": "https://localhost:8080/"
        },
        "outputId": "a75dca4b-97d2-4535-cbc7-2b706c679af0"
      },
      "execution_count": 315,
      "outputs": [
        {
          "output_type": "execute_result",
          "data": {
            "text/plain": [
              "dict_items([('ashly', 96), ('david', 100), ('tom', 97)])"
            ]
          },
          "metadata": {},
          "execution_count": 315
        }
      ]
    },
    {
      "cell_type": "code",
      "source": [
        "score3.items()"
      ],
      "metadata": {
        "id": "lol4gAae1itF",
        "colab": {
          "base_uri": "https://localhost:8080/"
        },
        "outputId": "3927dc15-b6fa-4032-a681-095c401cf523"
      },
      "execution_count": 316,
      "outputs": [
        {
          "output_type": "execute_result",
          "data": {
            "text/plain": [
              "dict_items([('ashly', 90), (7, [89, 92]), (('tom', 'winkle'), {'bio': 94, 'chem': 84, 'phys': 79})])"
            ]
          },
          "metadata": {},
          "execution_count": 316
        }
      ]
    },
    {
      "cell_type": "code",
      "source": [
        "'andy' in score"
      ],
      "metadata": {
        "id": "Mjnt6Xj81nIC",
        "colab": {
          "base_uri": "https://localhost:8080/"
        },
        "outputId": "98273cd2-baa2-4d0d-9b1b-438091f11213"
      },
      "execution_count": 317,
      "outputs": [
        {
          "output_type": "execute_result",
          "data": {
            "text/plain": [
              "False"
            ]
          },
          "metadata": {},
          "execution_count": 317
        }
      ]
    },
    {
      "cell_type": "code",
      "source": [
        "'ashly' in score3"
      ],
      "metadata": {
        "id": "34xld_ue1nZF",
        "colab": {
          "base_uri": "https://localhost:8080/"
        },
        "outputId": "2fa00330-6f9c-4af5-a0d2-4b0aa68447f7"
      },
      "execution_count": 318,
      "outputs": [
        {
          "output_type": "execute_result",
          "data": {
            "text/plain": [
              "True"
            ]
          },
          "metadata": {},
          "execution_count": 318
        }
      ]
    },
    {
      "cell_type": "code",
      "source": [
        "'100' not in score3"
      ],
      "metadata": {
        "id": "gNN4wLE85mLg",
        "colab": {
          "base_uri": "https://localhost:8080/"
        },
        "outputId": "0069e9c0-4555-4cde-9c11-517f4b595e81"
      },
      "execution_count": 319,
      "outputs": [
        {
          "output_type": "execute_result",
          "data": {
            "text/plain": [
              "True"
            ]
          },
          "metadata": {},
          "execution_count": 319
        }
      ]
    },
    {
      "cell_type": "code",
      "source": [
        "'ly' in score3"
      ],
      "metadata": {
        "id": "Yzo3z90s5zhZ",
        "colab": {
          "base_uri": "https://localhost:8080/"
        },
        "outputId": "403e5c5f-6891-4a8d-8edd-89bb8e353dea"
      },
      "execution_count": 320,
      "outputs": [
        {
          "output_type": "execute_result",
          "data": {
            "text/plain": [
              "False"
            ]
          },
          "metadata": {},
          "execution_count": 320
        }
      ]
    },
    {
      "cell_type": "code",
      "source": [
        "90 in score"
      ],
      "metadata": {
        "id": "mCq-Eo6J6JcF",
        "colab": {
          "base_uri": "https://localhost:8080/"
        },
        "outputId": "b277c2f0-87b5-4fd7-81a6-c0a69753ecd2"
      },
      "execution_count": 321,
      "outputs": [
        {
          "output_type": "execute_result",
          "data": {
            "text/plain": [
              "False"
            ]
          },
          "metadata": {},
          "execution_count": 321
        }
      ]
    },
    {
      "cell_type": "code",
      "source": [
        "score"
      ],
      "metadata": {
        "id": "WPQw21FM6cWS",
        "colab": {
          "base_uri": "https://localhost:8080/"
        },
        "outputId": "ec06bd7d-9dbd-44a1-e981-7a106f664428"
      },
      "execution_count": 322,
      "outputs": [
        {
          "output_type": "execute_result",
          "data": {
            "text/plain": [
              "{'ashly': 96, 'david': 100, 'tom': 97}"
            ]
          },
          "metadata": {},
          "execution_count": 322
        }
      ]
    },
    {
      "cell_type": "code",
      "source": [
        "96 in score"
      ],
      "metadata": {
        "id": "aLdOR1sS6d2U",
        "colab": {
          "base_uri": "https://localhost:8080/"
        },
        "outputId": "8958cd81-d546-43b6-a231-1b14a7f7c7a5"
      },
      "execution_count": 323,
      "outputs": [
        {
          "output_type": "execute_result",
          "data": {
            "text/plain": [
              "False"
            ]
          },
          "metadata": {},
          "execution_count": 323
        }
      ]
    },
    {
      "cell_type": "code",
      "source": [
        "score"
      ],
      "metadata": {
        "colab": {
          "base_uri": "https://localhost:8080/"
        },
        "id": "WraqXZhY6gwr",
        "outputId": "17065be1-ab0d-4c6f-8285-11cc11daf2b4"
      },
      "execution_count": 324,
      "outputs": [
        {
          "output_type": "execute_result",
          "data": {
            "text/plain": [
              "{'ashly': 96, 'david': 100, 'tom': 97}"
            ]
          },
          "metadata": {},
          "execution_count": 324
        }
      ]
    },
    {
      "cell_type": "code",
      "source": [
        "passed= []\n",
        "failed= []"
      ],
      "metadata": {
        "id": "OGbMDLXv0IZ-"
      },
      "execution_count": 325,
      "outputs": []
    },
    {
      "cell_type": "code",
      "source": [
        "s1= {'name': 'ali', 'score': 98, 'attend':True }\n",
        "s2= {'name': 'kha', 'score': 34, 'attend':True }\n",
        "s3= {'name': 'asa', 'score': 78, 'attend':False }"
      ],
      "metadata": {
        "id": "agiSRLwzypYh"
      },
      "execution_count": 326,
      "outputs": []
    },
    {
      "cell_type": "code",
      "source": [
        "if s1.get('score') >70:\n",
        "  passed.append(s1)"
      ],
      "metadata": {
        "id": "pWSbiSAizT21"
      },
      "execution_count": 327,
      "outputs": []
    },
    {
      "cell_type": "code",
      "source": [
        "passed"
      ],
      "metadata": {
        "colab": {
          "base_uri": "https://localhost:8080/"
        },
        "id": "Q-o_49oG0Ckw",
        "outputId": "7f3b008c-deba-483b-94a0-7939aaa8cb55"
      },
      "execution_count": 328,
      "outputs": [
        {
          "output_type": "execute_result",
          "data": {
            "text/plain": [
              "[{'name': 'ali', 'score': 98, 'attend': True}]"
            ]
          },
          "metadata": {},
          "execution_count": 328
        }
      ]
    },
    {
      "cell_type": "code",
      "source": [
        "failed"
      ],
      "metadata": {
        "colab": {
          "base_uri": "https://localhost:8080/"
        },
        "id": "JtgYgnvG0SEZ",
        "outputId": "dfb61b9a-6ca2-4505-a677-c0fb7529bee1"
      },
      "execution_count": 329,
      "outputs": [
        {
          "output_type": "execute_result",
          "data": {
            "text/plain": [
              "[]"
            ]
          },
          "metadata": {},
          "execution_count": 329
        }
      ]
    },
    {
      "cell_type": "code",
      "source": [
        "if s3.get('name') == 'ali':\n",
        "  failed.append()\n",
        "else:\n",
        "  passed.append(s3)"
      ],
      "metadata": {
        "id": "Zpa5_GmD0Vum"
      },
      "execution_count": 330,
      "outputs": []
    },
    {
      "cell_type": "code",
      "source": [
        "failed"
      ],
      "metadata": {
        "colab": {
          "base_uri": "https://localhost:8080/"
        },
        "id": "ufMrN8xy0qK_",
        "outputId": "6fd6637f-273e-4230-b439-340335f808b0"
      },
      "execution_count": 331,
      "outputs": [
        {
          "output_type": "execute_result",
          "data": {
            "text/plain": [
              "[]"
            ]
          },
          "metadata": {},
          "execution_count": 331
        }
      ]
    },
    {
      "cell_type": "code",
      "source": [
        "passed"
      ],
      "metadata": {
        "colab": {
          "base_uri": "https://localhost:8080/"
        },
        "id": "wvBPNATc0roI",
        "outputId": "d5b6a365-889b-46f8-a445-563acb93a8bd"
      },
      "execution_count": 332,
      "outputs": [
        {
          "output_type": "execute_result",
          "data": {
            "text/plain": [
              "[{'name': 'ali', 'score': 98, 'attend': True},\n",
              " {'name': 'asa', 'score': 78, 'attend': False}]"
            ]
          },
          "metadata": {},
          "execution_count": 332
        }
      ]
    },
    {
      "cell_type": "code",
      "source": [
        "word= 'kjdkjdkdj'"
      ],
      "metadata": {
        "id": "yzOF0FW20sqi"
      },
      "execution_count": 333,
      "outputs": []
    },
    {
      "cell_type": "code",
      "source": [
        "for char in word:\n",
        "  print(char)"
      ],
      "metadata": {
        "colab": {
          "base_uri": "https://localhost:8080/"
        },
        "id": "IEA3yyxm2vDw",
        "outputId": "abc347a8-0102-4126-8bbc-1a2f87549024"
      },
      "execution_count": 334,
      "outputs": [
        {
          "output_type": "stream",
          "name": "stdout",
          "text": [
            "k\n",
            "j\n",
            "d\n",
            "k\n",
            "j\n",
            "d\n",
            "k\n",
            "d\n",
            "j\n"
          ]
        }
      ]
    },
    {
      "cell_type": "code",
      "source": [
        "mustgreet = True\n",
        "greet= ['hi','hello', 'salam']"
      ],
      "metadata": {
        "id": "A-7hBwrh28L4"
      },
      "execution_count": 335,
      "outputs": []
    },
    {
      "cell_type": "code",
      "source": [
        "if mustgreet:\n",
        "  print(greet[0])\n",
        "  print(greet[1])\n",
        "  print(greet[2])"
      ],
      "metadata": {
        "colab": {
          "base_uri": "https://localhost:8080/"
        },
        "id": "_5OjXP6D3dRf",
        "outputId": "c325e4ef-f370-419a-c238-2dcd77790b4f"
      },
      "execution_count": 336,
      "outputs": [
        {
          "output_type": "stream",
          "name": "stdout",
          "text": [
            "hi\n",
            "hello\n",
            "salam\n"
          ]
        }
      ]
    },
    {
      "cell_type": "code",
      "source": [
        "for greeting in greet:\n",
        "  print(greeting)"
      ],
      "metadata": {
        "colab": {
          "base_uri": "https://localhost:8080/"
        },
        "id": "xjPUgJit3qV-",
        "outputId": "84549570-3719-4d88-f34f-5e9cf9d56653"
      },
      "execution_count": 337,
      "outputs": [
        {
          "output_type": "stream",
          "name": "stdout",
          "text": [
            "hi\n",
            "hello\n",
            "salam\n"
          ]
        }
      ]
    },
    {
      "cell_type": "code",
      "source": [
        "b= 200\n",
        "c= 40.2\n",
        "li= 0"
      ],
      "metadata": {
        "id": "XRgH9Vvw4HHh"
      },
      "execution_count": 338,
      "outputs": []
    },
    {
      "cell_type": "code",
      "source": [
        "while b> c:\n",
        "  li +=1\n",
        "  b -= c\n",
        "  c*=2\n"
      ],
      "metadata": {
        "id": "uYTXR_QlKZJB"
      },
      "execution_count": 339,
      "outputs": []
    },
    {
      "cell_type": "code",
      "source": [
        "b\n",
        "c\n",
        "li"
      ],
      "metadata": {
        "colab": {
          "base_uri": "https://localhost:8080/"
        },
        "id": "H3wXPJFSKl9r",
        "outputId": "e075aec3-25f1-4d50-e848-8deafee39f9f"
      },
      "execution_count": 340,
      "outputs": [
        {
          "output_type": "execute_result",
          "data": {
            "text/plain": [
              "2"
            ]
          },
          "metadata": {},
          "execution_count": 340
        }
      ]
    },
    {
      "cell_type": "code",
      "source": [
        "li"
      ],
      "metadata": {
        "colab": {
          "base_uri": "https://localhost:8080/"
        },
        "id": "1lSZmwjzLOXu",
        "outputId": "d31f6ead-2bc0-42c0-8a57-db614dfb1ef7"
      },
      "execution_count": 341,
      "outputs": [
        {
          "output_type": "execute_result",
          "data": {
            "text/plain": [
              "2"
            ]
          },
          "metadata": {},
          "execution_count": 341
        }
      ]
    },
    {
      "cell_type": "code",
      "source": [
        "b"
      ],
      "metadata": {
        "colab": {
          "base_uri": "https://localhost:8080/"
        },
        "id": "Oy4R3CNhLQJU",
        "outputId": "42030940-ff0a-4661-cd3c-300a3c8b3b06"
      },
      "execution_count": 342,
      "outputs": [
        {
          "output_type": "execute_result",
          "data": {
            "text/plain": [
              "79.4"
            ]
          },
          "metadata": {},
          "execution_count": 342
        }
      ]
    },
    {
      "cell_type": "code",
      "source": [
        "c"
      ],
      "metadata": {
        "colab": {
          "base_uri": "https://localhost:8080/"
        },
        "id": "Ns3MBDFDLQzU",
        "outputId": "c2525864-4db7-4ae0-f6d5-4fffb60e0b34"
      },
      "execution_count": 343,
      "outputs": [
        {
          "output_type": "execute_result",
          "data": {
            "text/plain": [
              "160.8"
            ]
          },
          "metadata": {},
          "execution_count": 343
        }
      ]
    },
    {
      "cell_type": "code",
      "source": [
        "names= ['a', 'w', 'c', 'd']\n",
        "sco= [100,30,40,56]"
      ],
      "metadata": {
        "id": "H9nUNTSzLRxW"
      },
      "execution_count": 344,
      "outputs": []
    },
    {
      "cell_type": "code",
      "source": [
        "list(zip(names, sco))"
      ],
      "metadata": {
        "colab": {
          "base_uri": "https://localhost:8080/"
        },
        "id": "_ebVEGgZP4qv",
        "outputId": "c5af1adf-d14f-45fd-b90e-27daccaab309"
      },
      "execution_count": 345,
      "outputs": [
        {
          "output_type": "execute_result",
          "data": {
            "text/plain": [
              "[('a', 100), ('w', 30), ('c', 40), ('d', 56)]"
            ]
          },
          "metadata": {},
          "execution_count": 345
        }
      ]
    },
    {
      "cell_type": "code",
      "source": [
        "mrg= list(zip(names, sco))"
      ],
      "metadata": {
        "id": "igmW57YyP9Qd"
      },
      "execution_count": 346,
      "outputs": []
    },
    {
      "cell_type": "code",
      "source": [
        "mrg"
      ],
      "metadata": {
        "colab": {
          "base_uri": "https://localhost:8080/"
        },
        "id": "IukK0tF5b-9T",
        "outputId": "41717413-c4c4-49c0-bb71-b1dcef2aa160"
      },
      "execution_count": 347,
      "outputs": [
        {
          "output_type": "execute_result",
          "data": {
            "text/plain": [
              "[('a', 100), ('w', 30), ('c', 40), ('d', 56)]"
            ]
          },
          "metadata": {},
          "execution_count": 347
        }
      ]
    },
    {
      "cell_type": "code",
      "source": [
        "for i in zip(names, sco):\n",
        "  print(i)"
      ],
      "metadata": {
        "colab": {
          "base_uri": "https://localhost:8080/"
        },
        "id": "ZBT3WGsScAKa",
        "outputId": "d85db637-c87b-4b10-b337-7cb9d25b0ee7"
      },
      "execution_count": 348,
      "outputs": [
        {
          "output_type": "stream",
          "name": "stdout",
          "text": [
            "('a', 100)\n",
            "('w', 30)\n",
            "('c', 40)\n",
            "('d', 56)\n"
          ]
        }
      ]
    },
    {
      "cell_type": "code",
      "source": [
        "for sname, ssco in zip(names, sco):\n",
        "  print(\"student {} get {} score in the exam\".format(sname, ssco))"
      ],
      "metadata": {
        "colab": {
          "base_uri": "https://localhost:8080/"
        },
        "id": "fhHCFS4_cSmS",
        "outputId": "cfc02abd-3544-49c3-f578-10494e15c1ec"
      },
      "execution_count": 349,
      "outputs": [
        {
          "output_type": "stream",
          "name": "stdout",
          "text": [
            "student a get 100 score in the exam\n",
            "student w get 30 score in the exam\n",
            "student c get 40 score in the exam\n",
            "student d get 56 score in the exam\n"
          ]
        }
      ]
    },
    {
      "cell_type": "code",
      "source": [
        "numbers= [10,2,4,57,666,34,23,79]\n",
        "numlist=[]"
      ],
      "metadata": {
        "id": "Atm7dfohc7An"
      },
      "execution_count": 350,
      "outputs": []
    },
    {
      "cell_type": "code",
      "source": [
        "numbers"
      ],
      "metadata": {
        "colab": {
          "base_uri": "https://localhost:8080/"
        },
        "id": "3aBiZDBFmDP1",
        "outputId": "df0742a1-fb6e-47dd-990b-64621e9d8cd4"
      },
      "execution_count": 351,
      "outputs": [
        {
          "output_type": "execute_result",
          "data": {
            "text/plain": [
              "[10, 2, 4, 57, 666, 34, 23, 79]"
            ]
          },
          "metadata": {},
          "execution_count": 351
        }
      ]
    },
    {
      "cell_type": "code",
      "source": [
        "for number in numbers:\n",
        "  if number % 2 == 1:\n",
        "    numlist.append(number)\n"
      ],
      "metadata": {
        "id": "blJi8cdCmFKk"
      },
      "execution_count": 352,
      "outputs": []
    },
    {
      "cell_type": "code",
      "source": [
        "numlist"
      ],
      "metadata": {
        "colab": {
          "base_uri": "https://localhost:8080/"
        },
        "id": "r9TBLMlym4DO",
        "outputId": "37aaffe3-73a6-45e3-a204-9492547c32c4"
      },
      "execution_count": 353,
      "outputs": [
        {
          "output_type": "execute_result",
          "data": {
            "text/plain": [
              "[57, 23, 79]"
            ]
          },
          "metadata": {},
          "execution_count": 353
        }
      ]
    },
    {
      "cell_type": "code",
      "source": [
        "[number for number in numbers]"
      ],
      "metadata": {
        "colab": {
          "base_uri": "https://localhost:8080/"
        },
        "id": "KDtlFdNknT_c",
        "outputId": "bff9db7e-f1cd-4f75-c2ba-dc3d5ab3b009"
      },
      "execution_count": 354,
      "outputs": [
        {
          "output_type": "execute_result",
          "data": {
            "text/plain": [
              "[10, 2, 4, 57, 666, 34, 23, 79]"
            ]
          },
          "metadata": {},
          "execution_count": 354
        }
      ]
    },
    {
      "cell_type": "code",
      "source": [
        "[number for number in numbers if number % 2 == 1]"
      ],
      "metadata": {
        "colab": {
          "base_uri": "https://localhost:8080/"
        },
        "id": "g7VcwvFRnj2G",
        "outputId": "96ad7983-9de8-47e3-bf05-fdeb1e9e37c2"
      },
      "execution_count": 355,
      "outputs": [
        {
          "output_type": "execute_result",
          "data": {
            "text/plain": [
              "[57, 23, 79]"
            ]
          },
          "metadata": {},
          "execution_count": 355
        }
      ]
    },
    {
      "cell_type": "code",
      "source": [
        "[number for number in numbers if number % 2 == 0]"
      ],
      "metadata": {
        "colab": {
          "base_uri": "https://localhost:8080/"
        },
        "id": "ykDz1LYlnvmO",
        "outputId": "40a2d5a3-7a66-4e8d-bce3-ce825a380ed0"
      },
      "execution_count": 356,
      "outputs": [
        {
          "output_type": "execute_result",
          "data": {
            "text/plain": [
              "[10, 2, 4, 666, 34]"
            ]
          },
          "metadata": {},
          "execution_count": 356
        }
      ]
    },
    {
      "cell_type": "code",
      "source": [
        "stu1= [{'name': ''}]"
      ],
      "metadata": {
        "id": "7Irvp_UYnysj"
      },
      "execution_count": 357,
      "outputs": []
    },
    {
      "cell_type": "code",
      "source": [
        "def reverse_name(first, last):\n",
        "  return \"{}, {}\".format(last, first)"
      ],
      "metadata": {
        "id": "-RWsYadlxF7P"
      },
      "execution_count": 358,
      "outputs": []
    },
    {
      "cell_type": "code",
      "source": [
        "reverse_name('mary','anderson')"
      ],
      "metadata": {
        "colab": {
          "base_uri": "https://localhost:8080/",
          "height": 35
        },
        "id": "dL6XNxjGxZjG",
        "outputId": "926c6219-7afc-4070-a729-06cce0407fb3"
      },
      "execution_count": 359,
      "outputs": [
        {
          "output_type": "execute_result",
          "data": {
            "text/plain": [
              "'anderson, mary'"
            ],
            "application/vnd.google.colaboratory.intrinsic+json": {
              "type": "string"
            }
          },
          "metadata": {},
          "execution_count": 359
        }
      ]
    },
    {
      "cell_type": "code",
      "source": [
        "numbers= [10,2,4,12,13,1,712,23,2,192]"
      ],
      "metadata": {
        "id": "WJazFoIBxe_Y"
      },
      "execution_count": 360,
      "outputs": []
    },
    {
      "cell_type": "code",
      "source": [
        "lambda x: x**3"
      ],
      "metadata": {
        "colab": {
          "base_uri": "https://localhost:8080/"
        },
        "id": "vHwtHM3py_0Q",
        "outputId": "3386f15f-f763-4b77-87a8-d180fd33cdf8"
      },
      "execution_count": 361,
      "outputs": [
        {
          "output_type": "execute_result",
          "data": {
            "text/plain": [
              "<function __main__.<lambda>(x)>"
            ]
          },
          "metadata": {},
          "execution_count": 361
        }
      ]
    },
    {
      "cell_type": "code",
      "source": [
        "a=10"
      ],
      "metadata": {
        "id": "JLTzSVuXzSSB"
      },
      "execution_count": 362,
      "outputs": []
    },
    {
      "cell_type": "code",
      "source": [
        "_(10)"
      ],
      "metadata": {
        "colab": {
          "base_uri": "https://localhost:8080/"
        },
        "id": "viAv1faKzWdb",
        "outputId": "754df773-dc66-4c4c-8e7f-ae4ea4db50fc"
      },
      "execution_count": 363,
      "outputs": [
        {
          "output_type": "execute_result",
          "data": {
            "text/plain": [
              "1000"
            ]
          },
          "metadata": {},
          "execution_count": 363
        }
      ]
    },
    {
      "cell_type": "code",
      "source": [
        "def cube(n):\n",
        "  return n**3"
      ],
      "metadata": {
        "id": "WOAfxVnDzZM4"
      },
      "execution_count": 364,
      "outputs": []
    },
    {
      "cell_type": "code",
      "source": [
        "cube(20)"
      ],
      "metadata": {
        "colab": {
          "base_uri": "https://localhost:8080/"
        },
        "id": "ycFEYqi5zro0",
        "outputId": "c3d3ac75-7e80-43cd-def9-d5248973a844"
      },
      "execution_count": 365,
      "outputs": [
        {
          "output_type": "execute_result",
          "data": {
            "text/plain": [
              "8000"
            ]
          },
          "metadata": {},
          "execution_count": 365
        }
      ]
    },
    {
      "cell_type": "code",
      "source": [
        "cube[numbers]"
      ],
      "metadata": {
        "colab": {
          "base_uri": "https://localhost:8080/",
          "height": 179
        },
        "id": "bBxWymnrzvZz",
        "outputId": "b68955a4-72be-4acb-c151-019b7810e66f"
      },
      "execution_count": 366,
      "outputs": [
        {
          "output_type": "error",
          "ename": "TypeError",
          "evalue": "ignored",
          "traceback": [
            "\u001b[0;31m---------------------------------------------------------------------------\u001b[0m",
            "\u001b[0;31mTypeError\u001b[0m                                 Traceback (most recent call last)",
            "\u001b[0;32m<ipython-input-366-d96353e2c12a>\u001b[0m in \u001b[0;36m<cell line: 1>\u001b[0;34m()\u001b[0m\n\u001b[0;32m----> 1\u001b[0;31m \u001b[0mcube\u001b[0m\u001b[0;34m[\u001b[0m\u001b[0mnumbers\u001b[0m\u001b[0;34m]\u001b[0m\u001b[0;34m\u001b[0m\u001b[0;34m\u001b[0m\u001b[0m\n\u001b[0m",
            "\u001b[0;31mTypeError\u001b[0m: 'function' object is not subscriptable"
          ]
        }
      ]
    },
    {
      "cell_type": "code",
      "source": [
        "map(numbers,cube)"
      ],
      "metadata": {
        "colab": {
          "base_uri": "https://localhost:8080/",
          "height": 179
        },
        "id": "6eZ5gwfS0uZ6",
        "outputId": "ebf6ed05-0861-4d48-d465-5ff8dbdd9d55"
      },
      "execution_count": 367,
      "outputs": [
        {
          "output_type": "error",
          "ename": "TypeError",
          "evalue": "ignored",
          "traceback": [
            "\u001b[0;31m---------------------------------------------------------------------------\u001b[0m",
            "\u001b[0;31mTypeError\u001b[0m                                 Traceback (most recent call last)",
            "\u001b[0;32m<ipython-input-367-27b3626653ba>\u001b[0m in \u001b[0;36m<cell line: 1>\u001b[0;34m()\u001b[0m\n\u001b[0;32m----> 1\u001b[0;31m \u001b[0mmap\u001b[0m\u001b[0;34m(\u001b[0m\u001b[0mnumbers\u001b[0m\u001b[0;34m,\u001b[0m\u001b[0mcube\u001b[0m\u001b[0;34m)\u001b[0m\u001b[0;34m\u001b[0m\u001b[0;34m\u001b[0m\u001b[0m\n\u001b[0m",
            "\u001b[0;31mTypeError\u001b[0m: 'function' object is not iterable"
          ]
        }
      ]
    },
    {
      "cell_type": "code",
      "source": [
        "map(cube,numbers)"
      ],
      "metadata": {
        "colab": {
          "base_uri": "https://localhost:8080/"
        },
        "id": "Q6FDk8Uq015z",
        "outputId": "70e0e499-ca54-4589-cc5d-887002f71233"
      },
      "execution_count": 368,
      "outputs": [
        {
          "output_type": "execute_result",
          "data": {
            "text/plain": [
              "<map at 0x7ab12a3a15d0>"
            ]
          },
          "metadata": {},
          "execution_count": 368
        }
      ]
    },
    {
      "cell_type": "code",
      "source": [
        "list(map(cube, numbers))"
      ],
      "metadata": {
        "colab": {
          "base_uri": "https://localhost:8080/"
        },
        "id": "hOXx2qMy08dU",
        "outputId": "b06ae3f5-a480-4680-accd-9a9f17c5c662"
      },
      "execution_count": 369,
      "outputs": [
        {
          "output_type": "execute_result",
          "data": {
            "text/plain": [
              "[1000, 8, 64, 1728, 2197, 1, 360944128, 12167, 8, 7077888]"
            ]
          },
          "metadata": {},
          "execution_count": 369
        }
      ]
    },
    {
      "cell_type": "code",
      "source": [],
      "metadata": {
        "id": "lo7Zo2wK1A6Y"
      },
      "execution_count": 369,
      "outputs": []
    },
    {
      "cell_type": "code",
      "source": [
        "import statistics"
      ],
      "metadata": {
        "id": "YkJIcMqa147i"
      },
      "execution_count": 370,
      "outputs": []
    },
    {
      "cell_type": "code",
      "source": [
        "statistics.mean(numbers)"
      ],
      "metadata": {
        "colab": {
          "base_uri": "https://localhost:8080/"
        },
        "id": "yJsKZ00H3YNu",
        "outputId": "b7b5c123-95ff-4803-e513-7923cb87c94f"
      },
      "execution_count": 371,
      "outputs": [
        {
          "output_type": "execute_result",
          "data": {
            "text/plain": [
              "97.1"
            ]
          },
          "metadata": {},
          "execution_count": 371
        }
      ]
    },
    {
      "cell_type": "code",
      "source": [
        "from statistics import mean\n"
      ],
      "metadata": {
        "id": "fb9znLFb3cC5"
      },
      "execution_count": 372,
      "outputs": []
    },
    {
      "cell_type": "code",
      "source": [
        "mean(numbers)"
      ],
      "metadata": {
        "colab": {
          "base_uri": "https://localhost:8080/"
        },
        "id": "KYh-pQtd4iHH",
        "outputId": "26af48ba-abeb-40b6-c345-06ed24bd6e49"
      },
      "execution_count": 373,
      "outputs": [
        {
          "output_type": "execute_result",
          "data": {
            "text/plain": [
              "97.1"
            ]
          },
          "metadata": {},
          "execution_count": 373
        }
      ]
    },
    {
      "cell_type": "code",
      "source": [
        "from statistics import mean as avg"
      ],
      "metadata": {
        "id": "i6qYW9X34jpE"
      },
      "execution_count": 374,
      "outputs": []
    },
    {
      "cell_type": "code",
      "source": [
        "avg(numbers)"
      ],
      "metadata": {
        "colab": {
          "base_uri": "https://localhost:8080/"
        },
        "id": "_nLHGmf44qTe",
        "outputId": "10535023-c639-4651-9f24-ca83e07932ff"
      },
      "execution_count": 375,
      "outputs": [
        {
          "output_type": "execute_result",
          "data": {
            "text/plain": [
              "97.1"
            ]
          },
          "metadata": {},
          "execution_count": 375
        }
      ]
    },
    {
      "cell_type": "code",
      "source": [
        "import pandas as pd\n"
      ],
      "metadata": {
        "id": "kJuruxkI4u1R"
      },
      "execution_count": 376,
      "outputs": []
    },
    {
      "cell_type": "code",
      "source": [
        "from matplotlib import pyplot as plt"
      ],
      "metadata": {
        "id": "ILHUquRN431A"
      },
      "execution_count": 377,
      "outputs": []
    },
    {
      "cell_type": "code",
      "source": [
        "import numpy as np\n"
      ],
      "metadata": {
        "id": "duOU_bWf4_vI"
      },
      "execution_count": 378,
      "outputs": []
    },
    {
      "cell_type": "code",
      "source": [
        "numbers"
      ],
      "metadata": {
        "colab": {
          "base_uri": "https://localhost:8080/"
        },
        "id": "lN8q8HtK5TOO",
        "outputId": "76d2cce0-d86a-4122-97e4-cd1f4eed124f"
      },
      "execution_count": 379,
      "outputs": [
        {
          "output_type": "execute_result",
          "data": {
            "text/plain": [
              "[10, 2, 4, 12, 13, 1, 712, 23, 2, 192]"
            ]
          },
          "metadata": {},
          "execution_count": 379
        }
      ]
    },
    {
      "cell_type": "code",
      "source": [
        "type(numbers)"
      ],
      "metadata": {
        "colab": {
          "base_uri": "https://localhost:8080/"
        },
        "id": "YfDsV83f5WV6",
        "outputId": "296d8784-9669-41d1-dab3-a40910005acf"
      },
      "execution_count": 380,
      "outputs": [
        {
          "output_type": "execute_result",
          "data": {
            "text/plain": [
              "list"
            ]
          },
          "metadata": {},
          "execution_count": 380
        }
      ]
    },
    {
      "cell_type": "code",
      "source": [
        "bnp= np.array(numbers)"
      ],
      "metadata": {
        "id": "AeAsgcR55ZEj"
      },
      "execution_count": 381,
      "outputs": []
    },
    {
      "cell_type": "code",
      "source": [
        "type(bnp)"
      ],
      "metadata": {
        "colab": {
          "base_uri": "https://localhost:8080/"
        },
        "id": "yXjo3qho5iOT",
        "outputId": "a6b0a606-7340-4b11-abc8-57a7c2a6c415"
      },
      "execution_count": 382,
      "outputs": [
        {
          "output_type": "execute_result",
          "data": {
            "text/plain": [
              "numpy.ndarray"
            ]
          },
          "metadata": {},
          "execution_count": 382
        }
      ]
    },
    {
      "cell_type": "code",
      "source": [
        "bnp"
      ],
      "metadata": {
        "colab": {
          "base_uri": "https://localhost:8080/"
        },
        "id": "QCPNCyTc5kig",
        "outputId": "3d3c5103-a3c2-4554-e27e-76eecaa25504"
      },
      "execution_count": 383,
      "outputs": [
        {
          "output_type": "execute_result",
          "data": {
            "text/plain": [
              "array([ 10,   2,   4,  12,  13,   1, 712,  23,   2, 192])"
            ]
          },
          "metadata": {},
          "execution_count": 383
        }
      ]
    },
    {
      "cell_type": "code",
      "source": [
        "numbers *10"
      ],
      "metadata": {
        "colab": {
          "base_uri": "https://localhost:8080/"
        },
        "id": "yeTaZDbd5pGt",
        "outputId": "5ccfd56e-7ab0-4686-8a6c-be9ea5a6d347"
      },
      "execution_count": 384,
      "outputs": [
        {
          "output_type": "execute_result",
          "data": {
            "text/plain": [
              "[10,\n",
              " 2,\n",
              " 4,\n",
              " 12,\n",
              " 13,\n",
              " 1,\n",
              " 712,\n",
              " 23,\n",
              " 2,\n",
              " 192,\n",
              " 10,\n",
              " 2,\n",
              " 4,\n",
              " 12,\n",
              " 13,\n",
              " 1,\n",
              " 712,\n",
              " 23,\n",
              " 2,\n",
              " 192,\n",
              " 10,\n",
              " 2,\n",
              " 4,\n",
              " 12,\n",
              " 13,\n",
              " 1,\n",
              " 712,\n",
              " 23,\n",
              " 2,\n",
              " 192,\n",
              " 10,\n",
              " 2,\n",
              " 4,\n",
              " 12,\n",
              " 13,\n",
              " 1,\n",
              " 712,\n",
              " 23,\n",
              " 2,\n",
              " 192,\n",
              " 10,\n",
              " 2,\n",
              " 4,\n",
              " 12,\n",
              " 13,\n",
              " 1,\n",
              " 712,\n",
              " 23,\n",
              " 2,\n",
              " 192,\n",
              " 10,\n",
              " 2,\n",
              " 4,\n",
              " 12,\n",
              " 13,\n",
              " 1,\n",
              " 712,\n",
              " 23,\n",
              " 2,\n",
              " 192,\n",
              " 10,\n",
              " 2,\n",
              " 4,\n",
              " 12,\n",
              " 13,\n",
              " 1,\n",
              " 712,\n",
              " 23,\n",
              " 2,\n",
              " 192,\n",
              " 10,\n",
              " 2,\n",
              " 4,\n",
              " 12,\n",
              " 13,\n",
              " 1,\n",
              " 712,\n",
              " 23,\n",
              " 2,\n",
              " 192,\n",
              " 10,\n",
              " 2,\n",
              " 4,\n",
              " 12,\n",
              " 13,\n",
              " 1,\n",
              " 712,\n",
              " 23,\n",
              " 2,\n",
              " 192,\n",
              " 10,\n",
              " 2,\n",
              " 4,\n",
              " 12,\n",
              " 13,\n",
              " 1,\n",
              " 712,\n",
              " 23,\n",
              " 2,\n",
              " 192]"
            ]
          },
          "metadata": {},
          "execution_count": 384
        }
      ]
    },
    {
      "cell_type": "code",
      "source": [
        "bnp *10\n"
      ],
      "metadata": {
        "colab": {
          "base_uri": "https://localhost:8080/"
        },
        "id": "iuGR3OoBP2pB",
        "outputId": "b8215891-88a7-4fdf-cf10-0f4223e15cc5"
      },
      "execution_count": 385,
      "outputs": [
        {
          "output_type": "execute_result",
          "data": {
            "text/plain": [
              "array([ 100,   20,   40,  120,  130,   10, 7120,  230,   20, 1920])"
            ]
          },
          "metadata": {},
          "execution_count": 385
        }
      ]
    },
    {
      "cell_type": "code",
      "source": [
        "import pandas as pd\n"
      ],
      "metadata": {
        "id": "djXUzSmTT6ui"
      },
      "execution_count": 386,
      "outputs": []
    },
    {
      "cell_type": "code",
      "source": [
        "students= ['Andy', 'bre' ,'kanika']"
      ],
      "metadata": {
        "id": "0j1WZF0GP6XJ"
      },
      "execution_count": 387,
      "outputs": []
    },
    {
      "cell_type": "code",
      "source": [
        "type(students)"
      ],
      "metadata": {
        "colab": {
          "base_uri": "https://localhost:8080/"
        },
        "id": "yfl5D9vFUMnw",
        "outputId": "a9da9218-9dbe-4af9-f3fa-6c35aad25a8b"
      },
      "execution_count": 388,
      "outputs": [
        {
          "output_type": "execute_result",
          "data": {
            "text/plain": [
              "list"
            ]
          },
          "metadata": {},
          "execution_count": 388
        }
      ]
    },
    {
      "cell_type": "code",
      "source": [
        "pd.Series(students)"
      ],
      "metadata": {
        "colab": {
          "base_uri": "https://localhost:8080/"
        },
        "id": "YTB-NlIAUY6o",
        "outputId": "b2272554-abfc-485c-f7a3-91e85fe226b5"
      },
      "execution_count": 389,
      "outputs": [
        {
          "output_type": "execute_result",
          "data": {
            "text/plain": [
              "0      Andy\n",
              "1       bre\n",
              "2    kanika\n",
              "dtype: object"
            ]
          },
          "metadata": {},
          "execution_count": 389
        }
      ]
    },
    {
      "cell_type": "code",
      "source": [
        "ages= [23,45,67]"
      ],
      "metadata": {
        "id": "Bpiz53LKUdhf"
      },
      "execution_count": 390,
      "outputs": []
    },
    {
      "cell_type": "code",
      "source": [
        "pd. Series(ages)"
      ],
      "metadata": {
        "colab": {
          "base_uri": "https://localhost:8080/"
        },
        "id": "eNMpc4G7VOxu",
        "outputId": "9c33c84c-0215-4937-fc8e-2f5229f8d422"
      },
      "execution_count": 391,
      "outputs": [
        {
          "output_type": "execute_result",
          "data": {
            "text/plain": [
              "0    23\n",
              "1    45\n",
              "2    67\n",
              "dtype: int64"
            ]
          },
          "metadata": {},
          "execution_count": 391
        }
      ]
    },
    {
      "cell_type": "code",
      "source": [
        "heights= [145.4, 566,6,65.4]"
      ],
      "metadata": {
        "id": "0fnUCHWzVQ_J"
      },
      "execution_count": 392,
      "outputs": []
    },
    {
      "cell_type": "code",
      "source": [
        "pd.Series(heights)"
      ],
      "metadata": {
        "colab": {
          "base_uri": "https://localhost:8080/"
        },
        "id": "6K0DaZtqVV4Y",
        "outputId": "a9f94170-ca39-4988-bcb6-4e1f5dcb7956"
      },
      "execution_count": 393,
      "outputs": [
        {
          "output_type": "execute_result",
          "data": {
            "text/plain": [
              "0    145.4\n",
              "1    566.0\n",
              "2      6.0\n",
              "3     65.4\n",
              "dtype: float64"
            ]
          },
          "metadata": {},
          "execution_count": 393
        }
      ]
    },
    {
      "cell_type": "code",
      "source": [
        "mixed= [True, 'say', {'my_mood': 100}]"
      ],
      "metadata": {
        "id": "6QsI0dOnVYjg"
      },
      "execution_count": 394,
      "outputs": []
    },
    {
      "cell_type": "code",
      "source": [
        "pd.Series(mixed)"
      ],
      "metadata": {
        "colab": {
          "base_uri": "https://localhost:8080/"
        },
        "id": "vUy3yIfNVsNC",
        "outputId": "f8fb96a6-e6e6-4f49-eb27-9340889d10a1"
      },
      "execution_count": 395,
      "outputs": [
        {
          "output_type": "execute_result",
          "data": {
            "text/plain": [
              "0                True\n",
              "1                 say\n",
              "2    {'my_mood': 100}\n",
              "dtype: object"
            ]
          },
          "metadata": {},
          "execution_count": 395
        }
      ]
    },
    {
      "cell_type": "code",
      "source": [
        "pd.Series(students)"
      ],
      "metadata": {
        "colab": {
          "base_uri": "https://localhost:8080/"
        },
        "id": "J6cHp8ptV1Nx",
        "outputId": "7514eb0e-76b9-4439-ea61-bf6186a5190c"
      },
      "execution_count": 396,
      "outputs": [
        {
          "output_type": "execute_result",
          "data": {
            "text/plain": [
              "0      Andy\n",
              "1       bre\n",
              "2    kanika\n",
              "dtype: object"
            ]
          },
          "metadata": {},
          "execution_count": 396
        }
      ]
    },
    {
      "cell_type": "code",
      "source": [
        "pd.Series(data= students)"
      ],
      "metadata": {
        "colab": {
          "base_uri": "https://localhost:8080/"
        },
        "id": "eRBmUr6LWEBY",
        "outputId": "ec0f38d1-718c-4dbf-cc24-66e75ebded79"
      },
      "execution_count": 397,
      "outputs": [
        {
          "output_type": "execute_result",
          "data": {
            "text/plain": [
              "0      Andy\n",
              "1       bre\n",
              "2    kanika\n",
              "dtype: object"
            ]
          },
          "metadata": {},
          "execution_count": 397
        }
      ]
    },
    {
      "cell_type": "code",
      "source": [
        "books_list= ['doo', 'sap', 'lenin']"
      ],
      "metadata": {
        "id": "mfSMMY1YaZGf"
      },
      "execution_count": 398,
      "outputs": []
    },
    {
      "cell_type": "code",
      "source": [
        "pd.Series(books_list)"
      ],
      "metadata": {
        "colab": {
          "base_uri": "https://localhost:8080/"
        },
        "id": "IboPawE3a4Z0",
        "outputId": "2ff41b36-048f-4a98-9e4d-53e58efb300a"
      },
      "execution_count": 399,
      "outputs": [
        {
          "output_type": "execute_result",
          "data": {
            "text/plain": [
              "0      doo\n",
              "1      sap\n",
              "2    lenin\n",
              "dtype: object"
            ]
          },
          "metadata": {},
          "execution_count": 399
        }
      ]
    },
    {
      "cell_type": "code",
      "source": [
        "books_dict= {0:'doo', 1:'sap', 2:'lenin'}"
      ],
      "metadata": {
        "id": "POaMQAx7a7yO"
      },
      "execution_count": 400,
      "outputs": []
    },
    {
      "cell_type": "code",
      "source": [
        "pd.Series(books_dict)"
      ],
      "metadata": {
        "colab": {
          "base_uri": "https://localhost:8080/"
        },
        "id": "Swy5V5S_inRG",
        "outputId": "c31c221e-a112-412a-eae5-d3f8b6a87833"
      },
      "execution_count": 401,
      "outputs": [
        {
          "output_type": "execute_result",
          "data": {
            "text/plain": [
              "0      doo\n",
              "1      sap\n",
              "2    lenin\n",
              "dtype: object"
            ]
          },
          "metadata": {},
          "execution_count": 401
        }
      ]
    },
    {
      "cell_type": "code",
      "source": [
        "dict_s= pd.Series(books_dict)\n",
        "list_s= pd.Series(books_list)"
      ],
      "metadata": {
        "id": "zej3DDrHiqVx"
      },
      "execution_count": 402,
      "outputs": []
    },
    {
      "cell_type": "code",
      "source": [
        "dict_s.equals(list_s)"
      ],
      "metadata": {
        "colab": {
          "base_uri": "https://localhost:8080/"
        },
        "id": "oqEiZKE5lEtT",
        "outputId": "0dab8416-8c14-47ef-a793-39c1789cb2e3"
      },
      "execution_count": 403,
      "outputs": [
        {
          "output_type": "execute_result",
          "data": {
            "text/plain": [
              "True"
            ]
          },
          "metadata": {},
          "execution_count": 403
        }
      ]
    },
    {
      "cell_type": "code",
      "source": [
        "\n",
        "heights"
      ],
      "metadata": {
        "colab": {
          "base_uri": "https://localhost:8080/"
        },
        "id": "rSqYZGdGlVpo",
        "outputId": "374f189c-7369-4056-fa3e-7ccf5720c441"
      },
      "execution_count": 404,
      "outputs": [
        {
          "output_type": "execute_result",
          "data": {
            "text/plain": [
              "[145.4, 566, 6, 65.4]"
            ]
          },
          "metadata": {},
          "execution_count": 404
        }
      ]
    },
    {
      "cell_type": "code",
      "source": [
        "pd.Series(heights)"
      ],
      "metadata": {
        "colab": {
          "base_uri": "https://localhost:8080/"
        },
        "id": "hoOqe4pmnHt7",
        "outputId": "407c790e-07fc-4858-89d8-091c40a7db3d"
      },
      "execution_count": 405,
      "outputs": [
        {
          "output_type": "execute_result",
          "data": {
            "text/plain": [
              "0    145.4\n",
              "1    566.0\n",
              "2      6.0\n",
              "3     65.4\n",
              "dtype: float64"
            ]
          },
          "metadata": {},
          "execution_count": 405
        }
      ]
    },
    {
      "cell_type": "code",
      "source": [
        "heights2= [145.4, '566', 6, 65.4]"
      ],
      "metadata": {
        "id": "sRb3Zm2GnK_U"
      },
      "execution_count": 406,
      "outputs": []
    },
    {
      "cell_type": "code",
      "source": [
        "pd.Series(heights2)"
      ],
      "metadata": {
        "colab": {
          "base_uri": "https://localhost:8080/"
        },
        "id": "S-JfI8h0ntbo",
        "outputId": "f5bbb90d-ed44-46d9-a68c-46ba43349aca"
      },
      "execution_count": 407,
      "outputs": [
        {
          "output_type": "execute_result",
          "data": {
            "text/plain": [
              "0    145.4\n",
              "1      566\n",
              "2        6\n",
              "3     65.4\n",
              "dtype: object"
            ]
          },
          "metadata": {},
          "execution_count": 407
        }
      ]
    },
    {
      "cell_type": "code",
      "source": [
        "pd.Series(books_list,['fu','hdh','juj'], dtype='object')"
      ],
      "metadata": {
        "colab": {
          "base_uri": "https://localhost:8080/"
        },
        "id": "IgyBq9zinyG3",
        "outputId": "410ad86e-d896-46b3-8737-ea345662299a"
      },
      "execution_count": 408,
      "outputs": [
        {
          "output_type": "execute_result",
          "data": {
            "text/plain": [
              "fu       doo\n",
              "hdh      sap\n",
              "juj    lenin\n",
              "dtype: object"
            ]
          },
          "metadata": {},
          "execution_count": 408
        }
      ]
    },
    {
      "cell_type": "code",
      "source": [
        "pd.__version__"
      ],
      "metadata": {
        "colab": {
          "base_uri": "https://localhost:8080/",
          "height": 35
        },
        "id": "9wq0u7sJC61Z",
        "outputId": "5963262f-9141-4fd8-b65f-8e709b487f6d"
      },
      "execution_count": 409,
      "outputs": [
        {
          "output_type": "execute_result",
          "data": {
            "text/plain": [
              "'1.5.3'"
            ],
            "application/vnd.google.colaboratory.intrinsic+json": {
              "type": "string"
            }
          },
          "metadata": {},
          "execution_count": 409
        }
      ]
    },
    {
      "cell_type": "code",
      "source": [
        "list_s.index"
      ],
      "metadata": {
        "colab": {
          "base_uri": "https://localhost:8080/"
        },
        "id": "ZKd51ID8DQ4I",
        "outputId": "a69e1d79-64ab-488c-a3f2-1c4ff57d65fb"
      },
      "execution_count": 410,
      "outputs": [
        {
          "output_type": "execute_result",
          "data": {
            "text/plain": [
              "RangeIndex(start=0, stop=3, step=1)"
            ]
          },
          "metadata": {},
          "execution_count": 410
        }
      ]
    },
    {
      "cell_type": "code",
      "source": [
        "type(list_s.index)"
      ],
      "metadata": {
        "colab": {
          "base_uri": "https://localhost:8080/"
        },
        "id": "rCnMIVH8DlTK",
        "outputId": "a070ea86-4913-4114-bfd6-8bdc097cac86"
      },
      "execution_count": 411,
      "outputs": [
        {
          "output_type": "execute_result",
          "data": {
            "text/plain": [
              "pandas.core.indexes.range.RangeIndex"
            ]
          },
          "metadata": {},
          "execution_count": 411
        }
      ]
    },
    {
      "cell_type": "code",
      "source": [
        "list(pd.RangeIndex(start=5,stop=-15,step=-2))"
      ],
      "metadata": {
        "colab": {
          "base_uri": "https://localhost:8080/"
        },
        "id": "Pqpp-sWID8Ce",
        "outputId": "9fd406ef-2edf-4629-a9f1-52913b691228"
      },
      "execution_count": 412,
      "outputs": [
        {
          "output_type": "execute_result",
          "data": {
            "text/plain": [
              "[5, 3, 1, -1, -3, -5, -7, -9, -11, -13]"
            ]
          },
          "metadata": {},
          "execution_count": 412
        }
      ]
    },
    {
      "cell_type": "code",
      "source": [
        "books_series= list_s"
      ],
      "metadata": {
        "id": "pUaXbSPuGfjG"
      },
      "execution_count": 413,
      "outputs": []
    },
    {
      "cell_type": "code",
      "source": [
        "books_series"
      ],
      "metadata": {
        "id": "qkgKf5LSG5cm",
        "colab": {
          "base_uri": "https://localhost:8080/"
        },
        "outputId": "24d40392-c32e-4729-bde6-1a763be1497e"
      },
      "execution_count": 414,
      "outputs": [
        {
          "output_type": "execute_result",
          "data": {
            "text/plain": [
              "0      doo\n",
              "1      sap\n",
              "2    lenin\n",
              "dtype: object"
            ]
          },
          "metadata": {},
          "execution_count": 414
        }
      ]
    },
    {
      "cell_type": "code",
      "source": [
        "books_series.size"
      ],
      "metadata": {
        "id": "l_mCiWibG_HR",
        "colab": {
          "base_uri": "https://localhost:8080/"
        },
        "outputId": "09b92949-06b7-45d1-c5f8-21b841181c06"
      },
      "execution_count": 415,
      "outputs": [
        {
          "output_type": "execute_result",
          "data": {
            "text/plain": [
              "3"
            ]
          },
          "metadata": {},
          "execution_count": 415
        }
      ]
    },
    {
      "cell_type": "code",
      "source": [
        "books_series.name"
      ],
      "metadata": {
        "id": "SltbixN4Hg3G"
      },
      "execution_count": 416,
      "outputs": []
    },
    {
      "cell_type": "code",
      "source": [
        "books_series.name==None"
      ],
      "metadata": {
        "id": "MW_cyh6mIaMp",
        "colab": {
          "base_uri": "https://localhost:8080/"
        },
        "outputId": "0c0b744c-f051-4a8e-f2ef-027e87b23cf3"
      },
      "execution_count": 417,
      "outputs": [
        {
          "output_type": "execute_result",
          "data": {
            "text/plain": [
              "True"
            ]
          },
          "metadata": {},
          "execution_count": 417
        }
      ]
    },
    {
      "cell_type": "code",
      "source": [
        "books_series.index.name= 'weld'"
      ],
      "metadata": {
        "id": "xrslTDLmIgvA"
      },
      "execution_count": 418,
      "outputs": []
    },
    {
      "cell_type": "code",
      "source": [
        "books_series"
      ],
      "metadata": {
        "id": "UhK7lOvQIyzR",
        "colab": {
          "base_uri": "https://localhost:8080/"
        },
        "outputId": "3b255fbf-5c17-47dd-8feb-dbcb915201e2"
      },
      "execution_count": 419,
      "outputs": [
        {
          "output_type": "execute_result",
          "data": {
            "text/plain": [
              "weld\n",
              "0      doo\n",
              "1      sap\n",
              "2    lenin\n",
              "dtype: object"
            ]
          },
          "metadata": {},
          "execution_count": 419
        }
      ]
    },
    {
      "cell_type": "code",
      "source": [
        "actor_name= ['johny depp', 'nickol kidman','angelina july', 'shahab hosseini']"
      ],
      "metadata": {
        "id": "jqE5FuzsI1Ah"
      },
      "execution_count": 420,
      "outputs": []
    },
    {
      "cell_type": "code",
      "source": [
        "actor_age= [52, 50,49,48]"
      ],
      "metadata": {
        "id": "KGsoBHmPPSrU"
      },
      "execution_count": 421,
      "outputs": []
    },
    {
      "cell_type": "code",
      "source": [
        "pd.Series(actor_name)"
      ],
      "metadata": {
        "colab": {
          "base_uri": "https://localhost:8080/"
        },
        "id": "desYSyUyPdwW",
        "outputId": "d41022af-1e4e-49d1-8b56-226f62fc64d7"
      },
      "execution_count": 422,
      "outputs": [
        {
          "output_type": "execute_result",
          "data": {
            "text/plain": [
              "0         johny depp\n",
              "1      nickol kidman\n",
              "2      angelina july\n",
              "3    shahab hosseini\n",
              "dtype: object"
            ]
          },
          "metadata": {},
          "execution_count": 422
        }
      ]
    },
    {
      "cell_type": "code",
      "source": [
        "pd.Series(actor_age)"
      ],
      "metadata": {
        "colab": {
          "base_uri": "https://localhost:8080/"
        },
        "id": "UZhmG6T-P1JI",
        "outputId": "18efff7e-af65-4dbc-e156-de503796d0d1"
      },
      "execution_count": 423,
      "outputs": [
        {
          "output_type": "execute_result",
          "data": {
            "text/plain": [
              "0    52\n",
              "1    50\n",
              "2    49\n",
              "3    48\n",
              "dtype: int64"
            ]
          },
          "metadata": {},
          "execution_count": 423
        }
      ]
    },
    {
      "cell_type": "code",
      "source": [
        "actor_series= pd.Series(data=actor_age,index=actor_name, name= 'actor')"
      ],
      "metadata": {
        "id": "sO9WZhp-P5IS"
      },
      "execution_count": 424,
      "outputs": []
    },
    {
      "cell_type": "code",
      "source": [
        "actor_series"
      ],
      "metadata": {
        "colab": {
          "base_uri": "https://localhost:8080/"
        },
        "id": "J_jeVvnEQG6m",
        "outputId": "8ad87054-32c6-4963-c950-1219656ef165"
      },
      "execution_count": 425,
      "outputs": [
        {
          "output_type": "execute_result",
          "data": {
            "text/plain": [
              "johny depp         52\n",
              "nickol kidman      50\n",
              "angelina july      49\n",
              "shahab hosseini    48\n",
              "Name: actor, dtype: int64"
            ]
          },
          "metadata": {},
          "execution_count": 425
        }
      ]
    },
    {
      "cell_type": "code",
      "source": [
        "def eee(x,y):\n",
        "  return \"{},{}\".format(x,y)"
      ],
      "metadata": {
        "id": "8a-TFNyVSEu7"
      },
      "execution_count": 426,
      "outputs": []
    },
    {
      "cell_type": "code",
      "source": [
        "import os\n"
      ],
      "metadata": {
        "id": "f3o2DDHJIQzQ"
      },
      "execution_count": 427,
      "outputs": []
    },
    {
      "cell_type": "code",
      "source": [
        "os.getcwd()"
      ],
      "metadata": {
        "colab": {
          "base_uri": "https://localhost:8080/",
          "height": 35
        },
        "id": "c_hjBv6WvSOp",
        "outputId": "1e5772b1-c64b-4f83-ab3b-a35c4085659b"
      },
      "execution_count": 428,
      "outputs": [
        {
          "output_type": "execute_result",
          "data": {
            "text/plain": [
              "'/content'"
            ],
            "application/vnd.google.colaboratory.intrinsic+json": {
              "type": "string"
            }
          },
          "metadata": {},
          "execution_count": 428
        }
      ]
    },
    {
      "cell_type": "code",
      "source": [
        "actor_series"
      ],
      "metadata": {
        "colab": {
          "base_uri": "https://localhost:8080/"
        },
        "id": "C6SDZz8qvawF",
        "outputId": "e5e83202-78c6-44e1-d339-2d0590e3b5b9"
      },
      "execution_count": 429,
      "outputs": [
        {
          "output_type": "execute_result",
          "data": {
            "text/plain": [
              "johny depp         52\n",
              "nickol kidman      50\n",
              "angelina july      49\n",
              "shahab hosseini    48\n",
              "Name: actor, dtype: int64"
            ]
          },
          "metadata": {},
          "execution_count": 429
        }
      ]
    },
    {
      "cell_type": "code",
      "source": [],
      "metadata": {
        "id": "32HwCd0h00oa"
      },
      "execution_count": 429,
      "outputs": []
    }
  ]
}