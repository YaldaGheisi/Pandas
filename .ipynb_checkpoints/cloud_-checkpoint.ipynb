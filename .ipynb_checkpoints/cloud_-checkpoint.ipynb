{
 "cells": [
  {
   "cell_type": "markdown",
   "metadata": {
    "colab_type": "text",
    "id": "view-in-github"
   },
   "source": [
    "<a href=\"https://colab.research.google.com/github/YaldaGheisi/Pandas/blob/main/cloud_.ipynb\" target=\"_parent\"><img src=\"https://colab.research.google.com/assets/colab-badge.svg\" alt=\"Open In Colab\"/></a>"
   ]
  },
  {
   "cell_type": "code",
   "execution_count": null,
   "metadata": {
    "id": "LSm5UxzFUY0l"
   },
   "outputs": [],
   "source": [
    "import pandas as pd"
   ]
  },
  {
   "cell_type": "code",
   "execution_count": null,
   "metadata": {
    "colab": {
     "base_uri": "https://localhost:8080/",
     "height": 35
    },
    "id": "6ftCu26ZUhu5",
    "outputId": "0d382108-d7f7-4654-b9e4-6730342b6c73"
   },
   "outputs": [
    {
     "data": {
      "application/vnd.google.colaboratory.intrinsic+json": {
       "type": "string"
      },
      "text/plain": [
       "'1.5.3'"
      ]
     },
     "execution_count": 3,
     "metadata": {},
     "output_type": "execute_result"
    }
   ],
   "source": [
    "pd.__version__"
   ]
  },
  {
   "cell_type": "code",
   "execution_count": null,
   "metadata": {
    "colab": {
     "base_uri": "https://localhost:8080/"
    },
    "id": "iEYIPZefaY5Y",
    "outputId": "16fa9185-ac97-46be-9b83-b5caa8dd0426"
   },
   "outputs": [
    {
     "data": {
      "text/plain": [
       "2"
      ]
     },
     "execution_count": 4,
     "metadata": {},
     "output_type": "execute_result"
    }
   ],
   "source": [
    "2"
   ]
  },
  {
   "cell_type": "code",
   "execution_count": null,
   "metadata": {
    "colab": {
     "base_uri": "https://localhost:8080/"
    },
    "id": "JXVq8NAjabjE",
    "outputId": "c60b3418-bc30-47f2-d277-9fcb9fc65203"
   },
   "outputs": [
    {
     "data": {
      "text/plain": [
       "int"
      ]
     },
     "execution_count": 5,
     "metadata": {},
     "output_type": "execute_result"
    }
   ],
   "source": [
    "type(2)"
   ]
  },
  {
   "cell_type": "code",
   "execution_count": null,
   "metadata": {
    "colab": {
     "base_uri": "https://localhost:8080/"
    },
    "id": "q64M0buwac_7",
    "outputId": "a398b200-b7a3-4267-a8b9-992370996e81"
   },
   "outputs": [
    {
     "data": {
      "text/plain": [
       "str"
      ]
     },
     "execution_count": 6,
     "metadata": {},
     "output_type": "execute_result"
    }
   ],
   "source": [
    "type(\"yalda\")\n"
   ]
  },
  {
   "cell_type": "code",
   "execution_count": null,
   "metadata": {
    "id": "zvODoc5Davl8"
   },
   "outputs": [],
   "source": [
    "username = \"yalda\""
   ]
  },
  {
   "cell_type": "code",
   "execution_count": null,
   "metadata": {
    "id": "g7tDkY1WbCmc"
   },
   "outputs": [],
   "source": [
    "age = 89"
   ]
  },
  {
   "cell_type": "code",
   "execution_count": null,
   "metadata": {
    "colab": {
     "base_uri": "https://localhost:8080/",
     "height": 35
    },
    "id": "cUfiw5uubAJJ",
    "outputId": "17393fd2-47d6-4617-b46f-8586c393affd"
   },
   "outputs": [
    {
     "data": {
      "application/vnd.google.colaboratory.intrinsic+json": {
       "type": "string"
      },
      "text/plain": [
       "'yalda'"
      ]
     },
     "execution_count": 9,
     "metadata": {},
     "output_type": "execute_result"
    }
   ],
   "source": [
    "# @title Default title text\n",
    "username"
   ]
  },
  {
   "cell_type": "code",
   "execution_count": null,
   "metadata": {
    "colab": {
     "base_uri": "https://localhost:8080/"
    },
    "id": "0yTXFYD_bEgb",
    "outputId": "526592c1-19d5-47b6-fdac-2955ff0e9034"
   },
   "outputs": [
    {
     "data": {
      "text/plain": [
       "89"
      ]
     },
     "execution_count": 10,
     "metadata": {},
     "output_type": "execute_result"
    }
   ],
   "source": [
    "age"
   ]
  },
  {
   "cell_type": "code",
   "execution_count": null,
   "metadata": {
    "id": "Kjbm5S-2bE6j"
   },
   "outputs": [],
   "source": [
    "user_name, user_age, gender = \"yalda\", 34, \"F\""
   ]
  },
  {
   "cell_type": "code",
   "execution_count": null,
   "metadata": {
    "colab": {
     "base_uri": "https://localhost:8080/",
     "height": 35
    },
    "id": "MzMouW2Gcd06",
    "outputId": "8611d4db-1889-4d2d-cf8d-88cf73e540b6"
   },
   "outputs": [
    {
     "data": {
      "application/vnd.google.colaboratory.intrinsic+json": {
       "type": "string"
      },
      "text/plain": [
       "'F'"
      ]
     },
     "execution_count": 12,
     "metadata": {},
     "output_type": "execute_result"
    }
   ],
   "source": [
    "gender"
   ]
  },
  {
   "cell_type": "code",
   "execution_count": null,
   "metadata": {
    "id": "ZzbppHlcdGY0"
   },
   "outputs": [],
   "source": []
  },
  {
   "cell_type": "code",
   "execution_count": null,
   "metadata": {
    "colab": {
     "base_uri": "https://localhost:8080/"
    },
    "id": "xvFaO6aecf_e",
    "outputId": "204916eb-958e-4deb-b9ad-40244b60668d"
   },
   "outputs": [
    {
     "data": {
      "text/plain": [
       "34"
      ]
     },
     "execution_count": 13,
     "metadata": {},
     "output_type": "execute_result"
    }
   ],
   "source": [
    "user_age"
   ]
  },
  {
   "cell_type": "code",
   "execution_count": null,
   "metadata": {
    "id": "wvDUVBDachzp"
   },
   "outputs": [],
   "source": [
    "a= 0"
   ]
  },
  {
   "cell_type": "code",
   "execution_count": null,
   "metadata": {
    "colab": {
     "base_uri": "https://localhost:8080/"
    },
    "id": "6lcVMifydwXQ",
    "outputId": "cef87640-e624-4ea4-86f2-9ea67022c3a4"
   },
   "outputs": [
    {
     "data": {
      "text/plain": [
       "0"
      ]
     },
     "execution_count": 15,
     "metadata": {},
     "output_type": "execute_result"
    }
   ],
   "source": [
    "a"
   ]
  },
  {
   "cell_type": "code",
   "execution_count": null,
   "metadata": {
    "id": "NWXsdeCsdw_B"
   },
   "outputs": [],
   "source": [
    "a= a+1"
   ]
  },
  {
   "cell_type": "code",
   "execution_count": null,
   "metadata": {
    "colab": {
     "base_uri": "https://localhost:8080/"
    },
    "id": "cm-UHZ-xdycx",
    "outputId": "bac7edc6-4c10-414e-aa57-d9205970a21d"
   },
   "outputs": [
    {
     "data": {
      "text/plain": [
       "1"
      ]
     },
     "execution_count": 17,
     "metadata": {},
     "output_type": "execute_result"
    }
   ],
   "source": [
    "a"
   ]
  },
  {
   "cell_type": "code",
   "execution_count": null,
   "metadata": {
    "id": "B6_UQc3qd0LQ"
   },
   "outputs": [],
   "source": [
    "a +=1"
   ]
  },
  {
   "cell_type": "code",
   "execution_count": null,
   "metadata": {
    "colab": {
     "base_uri": "https://localhost:8080/"
    },
    "id": "LQnoHO6AeANk",
    "outputId": "34453123-8991-403c-b74c-ecbf455378b1"
   },
   "outputs": [
    {
     "data": {
      "text/plain": [
       "2"
      ]
     },
     "execution_count": 19,
     "metadata": {},
     "output_type": "execute_result"
    }
   ],
   "source": [
    "a"
   ]
  },
  {
   "cell_type": "markdown",
   "metadata": {
    "id": "hMFz_E51fUVs"
   },
   "source": []
  },
  {
   "cell_type": "markdown",
   "metadata": {
    "id": "SfO37hTgfQXD"
   },
   "source": []
  },
  {
   "cell_type": "code",
   "execution_count": null,
   "metadata": {
    "id": "QHNDDWNyfPWB"
   },
   "outputs": [],
   "source": []
  },
  {
   "cell_type": "markdown",
   "metadata": {
    "id": "yLmfRo8CfYNZ"
   },
   "source": [
    "asjdhlsjhd"
   ]
  },
  {
   "cell_type": "code",
   "execution_count": null,
   "metadata": {
    "colab": {
     "base_uri": "https://localhost:8080/"
    },
    "id": "T1lJrJuEfj7I",
    "outputId": "f52e2e96-de02-4147-9d68-783204e28340"
   },
   "outputs": [
    {
     "name": "stdout",
     "output_type": "stream",
     "text": [
      "\n"
     ]
    }
   ],
   "source": [
    "print(\"\")"
   ]
  },
  {
   "cell_type": "code",
   "execution_count": null,
   "metadata": {
    "colab": {
     "base_uri": "https://localhost:8080/"
    },
    "id": "tvjAIL4Bfn9u",
    "outputId": "b3116f43-4f96-4d78-9c64-c67c378aef92"
   },
   "outputs": [
    {
     "data": {
      "text/plain": [
       "float"
      ]
     },
     "execution_count": 21,
     "metadata": {},
     "output_type": "execute_result"
    }
   ],
   "source": [
    "type(.1)"
   ]
  },
  {
   "cell_type": "code",
   "execution_count": null,
   "metadata": {
    "colab": {
     "base_uri": "https://localhost:8080/"
    },
    "id": "SVLYwM7GgWAN",
    "outputId": "d45e031d-48c8-49e6-b2fd-defb7abe9965"
   },
   "outputs": [
    {
     "data": {
      "text/plain": [
       "0.30000000000000004"
      ]
     },
     "execution_count": 22,
     "metadata": {},
     "output_type": "execute_result"
    }
   ],
   "source": [
    ".1+.2"
   ]
  },
  {
   "cell_type": "code",
   "execution_count": null,
   "metadata": {
    "colab": {
     "base_uri": "https://localhost:8080/"
    },
    "id": "AhyqKO_WgZOg",
    "outputId": "95c61e4b-4a9f-43db-f322-3d0699c3650d"
   },
   "outputs": [
    {
     "data": {
      "text/plain": [
       "float"
      ]
     },
     "execution_count": 23,
     "metadata": {},
     "output_type": "execute_result"
    }
   ],
   "source": [
    "type(.1+.2)"
   ]
  },
  {
   "cell_type": "code",
   "execution_count": null,
   "metadata": {
    "colab": {
     "base_uri": "https://localhost:8080/"
    },
    "id": "Kw10iUmKgdkW",
    "outputId": "bac7b1c9-8731-4889-bb33-a053156c7d49"
   },
   "outputs": [
    {
     "data": {
      "text/plain": [
       "True"
      ]
     },
     "execution_count": 24,
     "metadata": {},
     "output_type": "execute_result"
    }
   ],
   "source": [
    "True"
   ]
  },
  {
   "cell_type": "code",
   "execution_count": null,
   "metadata": {
    "colab": {
     "base_uri": "https://localhost:8080/"
    },
    "id": "IE7KdPhUgjtO",
    "outputId": "14ece4b0-707b-4ffb-d721-537539b96ac7"
   },
   "outputs": [
    {
     "data": {
      "text/plain": [
       "bool"
      ]
     },
     "execution_count": 25,
     "metadata": {},
     "output_type": "execute_result"
    }
   ],
   "source": [
    "type(True)"
   ]
  },
  {
   "cell_type": "code",
   "execution_count": null,
   "metadata": {
    "colab": {
     "base_uri": "https://localhost:8080/"
    },
    "id": "Lf3IHS5HgnWy",
    "outputId": "a827e6ce-d708-4230-a440-b797ff24de4e"
   },
   "outputs": [
    {
     "data": {
      "text/plain": [
       "89"
      ]
     },
     "execution_count": 26,
     "metadata": {},
     "output_type": "execute_result"
    }
   ],
   "source": [
    "age"
   ]
  },
  {
   "cell_type": "code",
   "execution_count": null,
   "metadata": {
    "id": "U5KSVsnkl15b"
   },
   "outputs": [],
   "source": [
    "retirement= 56\n"
   ]
  },
  {
   "cell_type": "code",
   "execution_count": null,
   "metadata": {
    "colab": {
     "base_uri": "https://localhost:8080/"
    },
    "id": "W0Ra5njEl8uO",
    "outputId": "ffe05f68-2c96-4858-bd77-6432b92dc480"
   },
   "outputs": [
    {
     "data": {
      "text/plain": [
       "False"
      ]
     },
     "execution_count": 28,
     "metadata": {},
     "output_type": "execute_result"
    }
   ],
   "source": [
    "retirement >= age"
   ]
  },
  {
   "cell_type": "code",
   "execution_count": null,
   "metadata": {
    "colab": {
     "base_uri": "https://localhost:8080/"
    },
    "id": "xuafgRZOmBiF",
    "outputId": "deec661a-b222-4495-bfe5-31d940d8243c"
   },
   "outputs": [
    {
     "data": {
      "text/plain": [
       "True"
      ]
     },
     "execution_count": 29,
     "metadata": {},
     "output_type": "execute_result"
    }
   ],
   "source": [
    "retirement <age"
   ]
  },
  {
   "cell_type": "code",
   "execution_count": null,
   "metadata": {
    "colab": {
     "base_uri": "https://localhost:8080/"
    },
    "id": "9zErfUczmE3l",
    "outputId": "4bdbc937-d3b5-4e22-bd80-3be7dbfb516a"
   },
   "outputs": [
    {
     "data": {
      "text/plain": [
       "True"
      ]
     },
     "execution_count": 30,
     "metadata": {},
     "output_type": "execute_result"
    }
   ],
   "source": [
    "retirement!=age"
   ]
  },
  {
   "cell_type": "code",
   "execution_count": null,
   "metadata": {
    "colab": {
     "base_uri": "https://localhost:8080/"
    },
    "id": "3YM8hKl0mIeB",
    "outputId": "c717aa7b-550b-46be-aa1e-cdd843ed5fd7"
   },
   "outputs": [
    {
     "data": {
      "text/plain": [
       "False"
      ]
     },
     "execution_count": 31,
     "metadata": {},
     "output_type": "execute_result"
    }
   ],
   "source": [
    "retirement == age"
   ]
  },
  {
   "cell_type": "code",
   "execution_count": null,
   "metadata": {
    "colab": {
     "base_uri": "https://localhost:8080/"
    },
    "id": "auRPnMoAmca8",
    "outputId": "5981fef8-e77c-4cc9-cea2-69cf58d69a9d"
   },
   "outputs": [
    {
     "data": {
      "text/plain": [
       "False"
      ]
     },
     "execution_count": 32,
     "metadata": {},
     "output_type": "execute_result"
    }
   ],
   "source": [
    "True and False"
   ]
  },
  {
   "cell_type": "code",
   "execution_count": null,
   "metadata": {
    "colab": {
     "base_uri": "https://localhost:8080/"
    },
    "id": "A74u6evxmx76",
    "outputId": "1631efbf-46a8-4981-89d5-9ea097db45da"
   },
   "outputs": [
    {
     "data": {
      "text/plain": [
       "True"
      ]
     },
     "execution_count": 33,
     "metadata": {},
     "output_type": "execute_result"
    }
   ],
   "source": [
    "not False"
   ]
  },
  {
   "cell_type": "code",
   "execution_count": null,
   "metadata": {
    "colab": {
     "base_uri": "https://localhost:8080/"
    },
    "id": "basoFSb4m0mD",
    "outputId": "6c7588a2-96c9-4a4b-dba1-6c81f3f869f4"
   },
   "outputs": [
    {
     "data": {
      "text/plain": [
       "True"
      ]
     },
     "execution_count": 34,
     "metadata": {},
     "output_type": "execute_result"
    }
   ],
   "source": [
    "(retirement == age) or True"
   ]
  },
  {
   "cell_type": "code",
   "execution_count": null,
   "metadata": {
    "colab": {
     "base_uri": "https://localhost:8080/"
    },
    "id": "yz7clsr1m7IA",
    "outputId": "76d9b44d-c2f9-4482-9de7-60d09547d973"
   },
   "outputs": [
    {
     "data": {
      "text/plain": [
       "str"
      ]
     },
     "execution_count": 35,
     "metadata": {},
     "output_type": "execute_result"
    }
   ],
   "source": [
    "type('andy')"
   ]
  },
  {
   "cell_type": "code",
   "execution_count": null,
   "metadata": {
    "colab": {
     "base_uri": "https://localhost:8080/"
    },
    "id": "bHY5UPIPoSM2",
    "outputId": "4ebcf6c5-d80a-4953-bf5f-9ab31f64c014"
   },
   "outputs": [
    {
     "data": {
      "text/plain": [
       "str"
      ]
     },
     "execution_count": 36,
     "metadata": {},
     "output_type": "execute_result"
    }
   ],
   "source": [
    "type('let\\'s code \"python\"')"
   ]
  },
  {
   "cell_type": "code",
   "execution_count": null,
   "metadata": {
    "colab": {
     "base_uri": "https://localhost:8080/",
     "height": 35
    },
    "id": "EqyOzyUeoc1f",
    "outputId": "c2d0dd7b-ba78-405b-9b8b-b08804dcddbe"
   },
   "outputs": [
    {
     "data": {
      "application/vnd.google.colaboratory.intrinsic+json": {
       "type": "string"
      },
      "text/plain": [
       "'this is f'"
      ]
     },
     "execution_count": 37,
     "metadata": {},
     "output_type": "execute_result"
    }
   ],
   "source": [
    "'''this is f'''"
   ]
  },
  {
   "cell_type": "code",
   "execution_count": null,
   "metadata": {
    "colab": {
     "base_uri": "https://localhost:8080/"
    },
    "id": "RzdGI6f0o5a_",
    "outputId": "45e84d10-daa7-4e86-a182-d18ce05718d4"
   },
   "outputs": [
    {
     "data": {
      "text/plain": [
       "str"
      ]
     },
     "execution_count": 38,
     "metadata": {},
     "output_type": "execute_result"
    }
   ],
   "source": [
    "type('''this is''')"
   ]
  },
  {
   "cell_type": "code",
   "execution_count": null,
   "metadata": {
    "colab": {
     "base_uri": "https://localhost:8080/"
    },
    "id": "YvXxkbSwo-Et",
    "outputId": "17c26d85-8fca-4b37-ed4e-39b5699c69ce"
   },
   "outputs": [
    {
     "data": {
      "text/plain": [
       "4"
      ]
     },
     "execution_count": 39,
     "metadata": {},
     "output_type": "execute_result"
    }
   ],
   "source": [
    "2+2"
   ]
  },
  {
   "cell_type": "code",
   "execution_count": null,
   "metadata": {
    "colab": {
     "base_uri": "https://localhost:8080/",
     "height": 35
    },
    "id": "OKc77G8ApH54",
    "outputId": "bdddbd25-1266-4e46-e8cf-61c57a45f401"
   },
   "outputs": [
    {
     "data": {
      "application/vnd.google.colaboratory.intrinsic+json": {
       "type": "string"
      },
      "text/plain": [
       "'Andy Beck'"
      ]
     },
     "execution_count": 40,
     "metadata": {},
     "output_type": "execute_result"
    }
   ],
   "source": [
    "\"Andy\" +' '+\"Beck\""
   ]
  },
  {
   "cell_type": "code",
   "execution_count": null,
   "metadata": {
    "colab": {
     "base_uri": "https://localhost:8080/",
     "height": 35
    },
    "id": "l7PA_iIdpLZv",
    "outputId": "daaa844e-172d-401d-deb9-257127ba0293"
   },
   "outputs": [
    {
     "data": {
      "application/vnd.google.colaboratory.intrinsic+json": {
       "type": "string"
      },
      "text/plain": [
       "'yalda yalda yalda '"
      ]
     },
     "execution_count": 41,
     "metadata": {},
     "output_type": "execute_result"
    }
   ],
   "source": [
    "'yalda ' *3"
   ]
  },
  {
   "cell_type": "code",
   "execution_count": null,
   "metadata": {
    "colab": {
     "base_uri": "https://localhost:8080/",
     "height": 179
    },
    "id": "PBmrK0bapWsN",
    "outputId": "8dba7d95-f77b-49f6-8acd-1aa7268b86ca"
   },
   "outputs": [
    {
     "ename": "ValueError",
     "evalue": "ignored",
     "output_type": "error",
     "traceback": [
      "\u001b[0;31m---------------------------------------------------------------------------\u001b[0m",
      "\u001b[0;31mValueError\u001b[0m                                Traceback (most recent call last)",
      "\u001b[0;32m<ipython-input-42-79fa0798b8c4>\u001b[0m in \u001b[0;36m<cell line: 1>\u001b[0;34m()\u001b[0m\n\u001b[0;32m----> 1\u001b[0;31m \u001b[0mint\u001b[0m\u001b[0;34m(\u001b[0m\u001b[0;34m'yalda'\u001b[0m\u001b[0;34m)\u001b[0m\u001b[0;34m\u001b[0m\u001b[0;34m\u001b[0m\u001b[0m\n\u001b[0m",
      "\u001b[0;31mValueError\u001b[0m: invalid literal for int() with base 10: 'yalda'"
     ]
    }
   ],
   "source": [
    "int('yalda')"
   ]
  },
  {
   "cell_type": "code",
   "execution_count": null,
   "metadata": {
    "id": "IqDtbmYQpo0j"
   },
   "outputs": [],
   "source": [
    "str(34)"
   ]
  },
  {
   "cell_type": "code",
   "execution_count": null,
   "metadata": {
    "id": "lKzOfIuiptef"
   },
   "outputs": [],
   "source": [
    "'yalda'.upper()"
   ]
  },
  {
   "cell_type": "code",
   "execution_count": null,
   "metadata": {
    "id": "LkqmnMJUp2Pg"
   },
   "outputs": [],
   "source": [
    "'yalDA'.lower()"
   ]
  },
  {
   "cell_type": "code",
   "execution_count": null,
   "metadata": {
    "id": "ruf1F2Sxp6iz"
   },
   "outputs": [],
   "source": [
    "'yalda3'.isalpha()"
   ]
  },
  {
   "cell_type": "code",
   "execution_count": null,
   "metadata": {
    "id": "LRGmShVkqAgG"
   },
   "outputs": [],
   "source": [
    "\"yalda\".startswith('a')"
   ]
  },
  {
   "cell_type": "code",
   "execution_count": null,
   "metadata": {
    "id": "lxEjV2-6raEd"
   },
   "outputs": [],
   "source": [
    "'yalda'.endswith('a')"
   ]
  },
  {
   "cell_type": "code",
   "execution_count": null,
   "metadata": {
    "id": "Euc0lOPJrnWd"
   },
   "outputs": [],
   "source": [
    "\"i use python v{}\".format(3)"
   ]
  },
  {
   "cell_type": "code",
   "execution_count": null,
   "metadata": {
    "id": "n-ygDF5Pr1ug"
   },
   "outputs": [],
   "source": [
    "\"i use python v{py_v}, pandas v{pa_v} and numpy v{nu_v}\".format(py_v=3, pa_v= '1.1.3', nu_v= 4)"
   ]
  },
  {
   "cell_type": "code",
   "execution_count": null,
   "metadata": {
    "id": "8BpdGL6nsbnJ"
   },
   "outputs": [],
   "source": [
    "students= ['yalda', 'leila', 'ali']"
   ]
  },
  {
   "cell_type": "code",
   "execution_count": null,
   "metadata": {
    "id": "Zw91N8phtugg"
   },
   "outputs": [],
   "source": [
    "students[0]"
   ]
  },
  {
   "cell_type": "code",
   "execution_count": null,
   "metadata": {
    "id": "44uDXX4Kt9FX"
   },
   "outputs": [],
   "source": [
    "students[2]"
   ]
  },
  {
   "cell_type": "code",
   "execution_count": null,
   "metadata": {
    "id": "Kaph_e7bt_SF"
   },
   "outputs": [],
   "source": [
    "students[0:1]"
   ]
  },
  {
   "cell_type": "code",
   "execution_count": null,
   "metadata": {
    "id": "VBv5IshcuJli"
   },
   "outputs": [],
   "source": [
    "students[0:2]"
   ]
  },
  {
   "cell_type": "code",
   "execution_count": null,
   "metadata": {
    "id": "HL0xhfUquLzm"
   },
   "outputs": [],
   "source": [
    "students[0:3]"
   ]
  },
  {
   "cell_type": "code",
   "execution_count": null,
   "metadata": {
    "id": "v9u-eBXYuPjP"
   },
   "outputs": [],
   "source": [
    "students[-1]"
   ]
  },
  {
   "cell_type": "code",
   "execution_count": null,
   "metadata": {
    "id": "ndBhitJquUOr"
   },
   "outputs": [],
   "source": [
    "type(students)"
   ]
  },
  {
   "cell_type": "code",
   "execution_count": null,
   "metadata": {
    "id": "mgofgYYs0E06"
   },
   "outputs": [],
   "source": [
    "py = \"python\""
   ]
  },
  {
   "cell_type": "code",
   "execution_count": null,
   "metadata": {
    "id": "4ng7Uyf80I7K"
   },
   "outputs": [],
   "source": [
    "pt[3]"
   ]
  },
  {
   "cell_type": "code",
   "execution_count": null,
   "metadata": {
    "id": "9WICGzxm0K2s"
   },
   "outputs": [],
   "source": [
    "type(py)"
   ]
  },
  {
   "cell_type": "code",
   "execution_count": null,
   "metadata": {
    "id": "LDlnOjZl0nwX"
   },
   "outputs": [],
   "source": [
    "py"
   ]
  },
  {
   "cell_type": "code",
   "execution_count": null,
   "metadata": {
    "id": "E7BJ6XnU0qRR"
   },
   "outputs": [],
   "source": [
    "py[-1]"
   ]
  },
  {
   "cell_type": "code",
   "execution_count": null,
   "metadata": {
    "id": "FWnBHZkA0tj4"
   },
   "outputs": [],
   "source": [
    "py= 'pythoN'"
   ]
  },
  {
   "cell_type": "code",
   "execution_count": null,
   "metadata": {
    "id": "hjjIXIdU06UE"
   },
   "outputs": [],
   "source": [
    "py[-1]"
   ]
  },
  {
   "cell_type": "code",
   "execution_count": null,
   "metadata": {
    "id": "1g2Sy6B708ZM"
   },
   "outputs": [],
   "source": [
    "students"
   ]
  },
  {
   "cell_type": "code",
   "execution_count": null,
   "metadata": {
    "id": "rQurT34L1BaI"
   },
   "outputs": [],
   "source": [
    "students[-1] = 'shari'"
   ]
  },
  {
   "cell_type": "code",
   "execution_count": null,
   "metadata": {
    "id": "kOQ4VecM1Db3"
   },
   "outputs": [],
   "source": [
    "students"
   ]
  },
  {
   "cell_type": "code",
   "execution_count": null,
   "metadata": {
    "id": "-xHNanMi1ILX"
   },
   "outputs": [],
   "source": [
    "age= [10,12,45.6,7]"
   ]
  },
  {
   "cell_type": "code",
   "execution_count": null,
   "metadata": {
    "id": "cZcq1CPs1c09"
   },
   "outputs": [],
   "source": [
    "type(age)"
   ]
  },
  {
   "cell_type": "code",
   "execution_count": null,
   "metadata": {
    "id": "8uC4TjaX1eFo"
   },
   "outputs": [],
   "source": [
    "max(age)"
   ]
  },
  {
   "cell_type": "code",
   "execution_count": null,
   "metadata": {
    "id": "od4Q6hKp1hoV"
   },
   "outputs": [],
   "source": [
    "min(age)"
   ]
  },
  {
   "cell_type": "code",
   "execution_count": null,
   "metadata": {
    "id": "xJ_xyP_N1kCD"
   },
   "outputs": [],
   "source": [
    "len(age)"
   ]
  },
  {
   "cell_type": "code",
   "execution_count": null,
   "metadata": {
    "id": "qRJXFN_h1nWP"
   },
   "outputs": [],
   "source": [
    "sorted(age)"
   ]
  },
  {
   "cell_type": "code",
   "execution_count": null,
   "metadata": {
    "id": "J_GUXnMz1s2a"
   },
   "outputs": [],
   "source": [
    "sorted(age, reverse= True)"
   ]
  },
  {
   "cell_type": "code",
   "execution_count": null,
   "metadata": {
    "id": "HPi4NRgE127X"
   },
   "outputs": [],
   "source": [
    "age"
   ]
  },
  {
   "cell_type": "code",
   "execution_count": null,
   "metadata": {
    "id": "gHt7iyLk1-EY"
   },
   "outputs": [],
   "source": [
    "age.append(24)"
   ]
  },
  {
   "cell_type": "code",
   "execution_count": null,
   "metadata": {
    "id": "TedmLBok2CS6"
   },
   "outputs": [],
   "source": [
    "age"
   ]
  },
  {
   "cell_type": "code",
   "execution_count": null,
   "metadata": {
    "id": "2Hl-moJk2DHt"
   },
   "outputs": [],
   "source": [
    "age.pop(-1)"
   ]
  },
  {
   "cell_type": "code",
   "execution_count": null,
   "metadata": {
    "id": "0wDVjWoQ2PGc"
   },
   "outputs": [],
   "source": [
    "age"
   ]
  },
  {
   "cell_type": "code",
   "execution_count": null,
   "metadata": {
    "id": "ZAoiNtoi2VLj"
   },
   "outputs": [],
   "source": [
    "age.remove(12)"
   ]
  },
  {
   "cell_type": "code",
   "execution_count": null,
   "metadata": {
    "id": "hNND9dCZ2ce1"
   },
   "outputs": [],
   "source": [
    "age"
   ]
  },
  {
   "cell_type": "code",
   "execution_count": null,
   "metadata": {
    "id": "Hw9MY4PN2kd8"
   },
   "outputs": [],
   "source": [
    "students"
   ]
  },
  {
   "cell_type": "code",
   "execution_count": null,
   "metadata": {
    "id": "PdYb_GbJ2rqU"
   },
   "outputs": [],
   "source": [
    "students.append(\"ali\")"
   ]
  },
  {
   "cell_type": "code",
   "execution_count": null,
   "metadata": {
    "id": "UCyz5gM52wux"
   },
   "outputs": [],
   "source": [
    "students.pop(-1)"
   ]
  },
  {
   "cell_type": "code",
   "execution_count": null,
   "metadata": {
    "id": "V7fU99h7215W"
   },
   "outputs": [],
   "source": [
    "students.remove('yalda')"
   ]
  },
  {
   "cell_type": "code",
   "execution_count": null,
   "metadata": {
    "id": "Zz_N3yud25yo"
   },
   "outputs": [],
   "source": [
    "students"
   ]
  },
  {
   "cell_type": "code",
   "execution_count": null,
   "metadata": {
    "id": "9K7ICs3527A6"
   },
   "outputs": [],
   "source": [
    "students. append('yalda')"
   ]
  },
  {
   "cell_type": "code",
   "execution_count": null,
   "metadata": {
    "id": "jOOM_TMh2_dF"
   },
   "outputs": [],
   "source": [
    "students. append('ali')"
   ]
  },
  {
   "cell_type": "code",
   "execution_count": null,
   "metadata": {
    "id": "axTyCkdk3J2u"
   },
   "outputs": [],
   "source": [
    "students"
   ]
  },
  {
   "cell_type": "code",
   "execution_count": null,
   "metadata": {
    "id": "GbNwGWVD3L7B"
   },
   "outputs": [],
   "source": [
    "', '.join(students)"
   ]
  },
  {
   "cell_type": "code",
   "execution_count": null,
   "metadata": {
    "id": "NIA-n6rN3nQb"
   },
   "outputs": [],
   "source": [
    "data1= ('yalda', 33)"
   ]
  },
  {
   "cell_type": "code",
   "execution_count": null,
   "metadata": {
    "id": "Y1hvlJxz3wsN"
   },
   "outputs": [],
   "source": [
    "data2= 'leila', 23"
   ]
  },
  {
   "cell_type": "code",
   "execution_count": null,
   "metadata": {
    "id": "NrAEAg0032te"
   },
   "outputs": [],
   "source": [
    "type(data2)"
   ]
  },
  {
   "cell_type": "code",
   "execution_count": null,
   "metadata": {
    "id": "NcQcgMuq35m3"
   },
   "outputs": [],
   "source": [
    "data2[0]"
   ]
  },
  {
   "cell_type": "code",
   "execution_count": null,
   "metadata": {
    "id": "UkEGIE9N4JAw"
   },
   "outputs": [],
   "source": [
    "data2[-1]"
   ]
  },
  {
   "cell_type": "code",
   "execution_count": null,
   "metadata": {
    "id": "8CTij9AZ4Lf5"
   },
   "outputs": [],
   "source": [
    "sat= 790,780,640"
   ]
  },
  {
   "cell_type": "code",
   "execution_count": null,
   "metadata": {
    "id": "06cprMfY4f9L"
   },
   "outputs": [],
   "source": [
    "sat"
   ]
  },
  {
   "cell_type": "code",
   "execution_count": null,
   "metadata": {
    "id": "J2SnJdNR4hFO"
   },
   "outputs": [],
   "source": [
    "sat[2]"
   ]
  },
  {
   "cell_type": "code",
   "execution_count": null,
   "metadata": {
    "id": "AhzTznV54jx4"
   },
   "outputs": [],
   "source": [
    "degree= {'bs', 'ms', 'phd'}"
   ]
  },
  {
   "cell_type": "code",
   "execution_count": null,
   "metadata": {
    "id": "JohFA35443Ko"
   },
   "outputs": [],
   "source": [
    "type(degree)"
   ]
  },
  {
   "cell_type": "code",
   "execution_count": null,
   "metadata": {
    "id": "iA6zvfeO47aO"
   },
   "outputs": [],
   "source": [
    "degree.add('post-doc')"
   ]
  },
  {
   "cell_type": "code",
   "execution_count": null,
   "metadata": {
    "id": "Rzf1ljb-5p-z"
   },
   "outputs": [],
   "source": [
    "degree"
   ]
  },
  {
   "cell_type": "code",
   "execution_count": null,
   "metadata": {
    "id": "ALtS9Fd253z2"
   },
   "outputs": [],
   "source": [
    "degree.discard('ms')"
   ]
  },
  {
   "cell_type": "code",
   "execution_count": null,
   "metadata": {
    "id": "phvQM19a59AM"
   },
   "outputs": [],
   "source": [
    "degree"
   ]
  },
  {
   "cell_type": "code",
   "execution_count": null,
   "metadata": {
    "id": "yZp9fpAU5-TK"
   },
   "outputs": [],
   "source": [
    "degree2 =  {'ms','ma', 'phd'}"
   ]
  },
  {
   "cell_type": "code",
   "execution_count": null,
   "metadata": {
    "id": "_Vibmw756iOx"
   },
   "outputs": [],
   "source": [
    "degree2"
   ]
  },
  {
   "cell_type": "code",
   "execution_count": null,
   "metadata": {
    "id": "vH8lVJfN6j_n"
   },
   "outputs": [],
   "source": [
    "degree2.intersection(degree)"
   ]
  },
  {
   "cell_type": "code",
   "execution_count": null,
   "metadata": {
    "id": "B_zN_cWE6owJ"
   },
   "outputs": [],
   "source": [
    "degree.union(degree2)"
   ]
  },
  {
   "cell_type": "code",
   "execution_count": null,
   "metadata": {
    "id": "W6PaB3-16ubN"
   },
   "outputs": [],
   "source": [
    "degree2.difference(degree)"
   ]
  },
  {
   "cell_type": "code",
   "execution_count": null,
   "metadata": {
    "id": "rVP2u2ji61Po"
   },
   "outputs": [],
   "source": [
    "degree.difference(degree2)"
   ]
  },
  {
   "cell_type": "code",
   "execution_count": null,
   "metadata": {
    "id": "6DvXk8np7A9f"
   },
   "outputs": [],
   "source": [
    "degree"
   ]
  },
  {
   "cell_type": "code",
   "execution_count": null,
   "metadata": {
    "id": "qN8TPxvl7FgQ"
   },
   "outputs": [],
   "source": [
    "degree2"
   ]
  },
  {
   "cell_type": "code",
   "execution_count": null,
   "metadata": {
    "id": "9sLfMhoL7GlM"
   },
   "outputs": [],
   "source": [
    "set(degree2)"
   ]
  },
  {
   "cell_type": "code",
   "execution_count": null,
   "metadata": {
    "id": "sfgL7eMuqLTK"
   },
   "outputs": [],
   "source": [
    "list(set(degree2))"
   ]
  },
  {
   "cell_type": "code",
   "execution_count": null,
   "metadata": {
    "id": "Cmp2oL5Zqm5T"
   },
   "outputs": [],
   "source": [
    "score= {'soni': 94, 'ashly': 96, 'david': 100}"
   ]
  },
  {
   "cell_type": "code",
   "execution_count": null,
   "metadata": {
    "id": "0L_jctWVsWbR"
   },
   "outputs": [],
   "source": [
    "type(score)"
   ]
  },
  {
   "cell_type": "code",
   "execution_count": null,
   "metadata": {
    "id": "S6FwNCausZut"
   },
   "outputs": [],
   "source": [
    "score['david']"
   ]
  },
  {
   "cell_type": "code",
   "execution_count": null,
   "metadata": {
    "id": "VGZyqryQshVu"
   },
   "outputs": [],
   "source": [
    "score['andy']"
   ]
  },
  {
   "cell_type": "code",
   "execution_count": null,
   "metadata": {
    "id": "xUjDWGzdsjwJ"
   },
   "outputs": [],
   "source": [
    "score['soni']"
   ]
  },
  {
   "cell_type": "code",
   "execution_count": null,
   "metadata": {
    "id": "aBlnTM-Asxxn"
   },
   "outputs": [],
   "source": [
    "score('soni')"
   ]
  },
  {
   "cell_type": "code",
   "execution_count": null,
   "metadata": {
    "id": "lmC5r0Ops0x4"
   },
   "outputs": [],
   "source": [
    "score.get('soni')"
   ]
  },
  {
   "cell_type": "code",
   "execution_count": null,
   "metadata": {
    "id": "kUMO-SiAs8yP"
   },
   "outputs": [],
   "source": [
    "print(score.get('andy'))"
   ]
  },
  {
   "cell_type": "code",
   "execution_count": null,
   "metadata": {
    "id": "s-JbsUMgtEmG"
   },
   "outputs": [],
   "source": [
    "score"
   ]
  },
  {
   "cell_type": "code",
   "execution_count": null,
   "metadata": {
    "id": "UL-qFo9ttHdb"
   },
   "outputs": [],
   "source": [
    "score['tom']=97"
   ]
  },
  {
   "cell_type": "code",
   "execution_count": null,
   "metadata": {
    "id": "7aOWmM_TtQ-u"
   },
   "outputs": [],
   "source": [
    "score"
   ]
  },
  {
   "cell_type": "code",
   "execution_count": null,
   "metadata": {
    "id": "6ubwq6VutSiy"
   },
   "outputs": [],
   "source": [
    "score.pop('soni')"
   ]
  },
  {
   "cell_type": "code",
   "execution_count": null,
   "metadata": {
    "id": "0NoUZ1RjtizG"
   },
   "outputs": [],
   "source": [
    "score"
   ]
  },
  {
   "cell_type": "code",
   "execution_count": null,
   "metadata": {
    "id": "Qvl_sKubuzAa"
   },
   "outputs": [],
   "source": [
    "score.get('soni')"
   ]
  },
  {
   "cell_type": "code",
   "execution_count": null,
   "metadata": {
    "id": "uoW69KfSu3z3"
   },
   "outputs": [],
   "source": [
    "score"
   ]
  },
  {
   "cell_type": "code",
   "execution_count": null,
   "metadata": {
    "id": "Fbuz2TsUu4uK"
   },
   "outputs": [],
   "source": [
    "score2 = {\n",
    "    'ashly': 90,\n",
    "    'david': [89,92],\n",
    "    'tom': {\n",
    "        'bio': 94,\n",
    "        'chem': 84,\n",
    "        'phys': 79,\n",
    "    }\n",
    "}"
   ]
  },
  {
   "cell_type": "code",
   "execution_count": null,
   "metadata": {
    "id": "JYnmYFg6vG5s"
   },
   "outputs": [],
   "source": [
    "score2"
   ]
  },
  {
   "cell_type": "code",
   "execution_count": null,
   "metadata": {
    "id": "O1kPxnVXwHzq"
   },
   "outputs": [],
   "source": [
    "type(score2)"
   ]
  },
  {
   "cell_type": "code",
   "execution_count": null,
   "metadata": {
    "id": "cnre65gewMax"
   },
   "outputs": [],
   "source": [
    "score3 = {\n",
    "    'ashly': 90,\n",
    "    7: [89,92],\n",
    "    ('tom','winkle') : {\n",
    "        'bio': 94,\n",
    "        'chem': 84,\n",
    "        'phys': 79,\n",
    "    }\n",
    "}"
   ]
  },
  {
   "cell_type": "code",
   "execution_count": null,
   "metadata": {
    "id": "Pido7hcqwlof"
   },
   "outputs": [],
   "source": [
    "score3"
   ]
  },
  {
   "cell_type": "code",
   "execution_count": null,
   "metadata": {
    "id": "-miWcm9VwnOZ"
   },
   "outputs": [],
   "source": [
    "score.keys()"
   ]
  },
  {
   "cell_type": "code",
   "execution_count": null,
   "metadata": {
    "id": "kankbZP51SpA"
   },
   "outputs": [],
   "source": [
    "score2.keys()"
   ]
  },
  {
   "cell_type": "code",
   "execution_count": null,
   "metadata": {
    "id": "UYZrNIkf1WTM"
   },
   "outputs": [],
   "source": [
    "score3.keys()"
   ]
  },
  {
   "cell_type": "code",
   "execution_count": null,
   "metadata": {
    "id": "d2yQd3ml1bHZ"
   },
   "outputs": [],
   "source": [
    "score.values()"
   ]
  },
  {
   "cell_type": "code",
   "execution_count": null,
   "metadata": {
    "id": "Id6zMlhW1fMd"
   },
   "outputs": [],
   "source": [
    "score.items()"
   ]
  },
  {
   "cell_type": "code",
   "execution_count": null,
   "metadata": {
    "id": "lol4gAae1itF"
   },
   "outputs": [],
   "source": [
    "score3.items()"
   ]
  },
  {
   "cell_type": "code",
   "execution_count": null,
   "metadata": {
    "id": "Mjnt6Xj81nIC"
   },
   "outputs": [],
   "source": [
    "'andy' in score"
   ]
  },
  {
   "cell_type": "code",
   "execution_count": null,
   "metadata": {
    "id": "34xld_ue1nZF"
   },
   "outputs": [],
   "source": [
    "'ashly' in score3"
   ]
  },
  {
   "cell_type": "code",
   "execution_count": null,
   "metadata": {
    "id": "gNN4wLE85mLg"
   },
   "outputs": [],
   "source": [
    "'100' not in score3"
   ]
  },
  {
   "cell_type": "code",
   "execution_count": null,
   "metadata": {
    "id": "Yzo3z90s5zhZ"
   },
   "outputs": [],
   "source": [
    "'ly' in score3"
   ]
  },
  {
   "cell_type": "code",
   "execution_count": null,
   "metadata": {
    "id": "mCq-Eo6J6JcF"
   },
   "outputs": [],
   "source": [
    "90 in score"
   ]
  },
  {
   "cell_type": "code",
   "execution_count": null,
   "metadata": {
    "id": "WPQw21FM6cWS"
   },
   "outputs": [],
   "source": [
    "score"
   ]
  },
  {
   "cell_type": "code",
   "execution_count": null,
   "metadata": {
    "id": "aLdOR1sS6d2U"
   },
   "outputs": [],
   "source": [
    "96 in score"
   ]
  },
  {
   "cell_type": "code",
   "execution_count": null,
   "metadata": {
    "colab": {
     "base_uri": "https://localhost:8080/"
    },
    "id": "WraqXZhY6gwr",
    "outputId": "66d5c23a-5784-402b-dac4-a26a215abdf5"
   },
   "outputs": [
    {
     "data": {
      "text/plain": [
       "{'soni': 94, 'ashly': 96, 'david': 100}"
      ]
     },
     "execution_count": 45,
     "metadata": {},
     "output_type": "execute_result"
    }
   ],
   "source": [
    "score"
   ]
  },
  {
   "cell_type": "code",
   "execution_count": null,
   "metadata": {
    "id": "OGbMDLXv0IZ-"
   },
   "outputs": [],
   "source": [
    "passed= []\n",
    "failed= []"
   ]
  },
  {
   "cell_type": "code",
   "execution_count": null,
   "metadata": {
    "id": "agiSRLwzypYh"
   },
   "outputs": [],
   "source": [
    "s1= {'name': 'ali', 'score': 98, 'attend':True }\n",
    "s2= {'name': 'kha', 'score': 34, 'attend':True }\n",
    "s3= {'name': 'asa', 'score': 78, 'attend':False }"
   ]
  },
  {
   "cell_type": "code",
   "execution_count": null,
   "metadata": {
    "id": "pWSbiSAizT21"
   },
   "outputs": [],
   "source": [
    "if s1.get('score') >70:\n",
    "  passed.append(s1)"
   ]
  },
  {
   "cell_type": "code",
   "execution_count": null,
   "metadata": {
    "colab": {
     "base_uri": "https://localhost:8080/"
    },
    "id": "Q-o_49oG0Ckw",
    "outputId": "c85ed44c-56e5-43f8-a3e4-ee54a6827d04"
   },
   "outputs": [
    {
     "data": {
      "text/plain": [
       "[{'name': 'ali', 'score': 98, 'attend': True}]"
      ]
     },
     "execution_count": 52,
     "metadata": {},
     "output_type": "execute_result"
    }
   ],
   "source": [
    "passed"
   ]
  },
  {
   "cell_type": "code",
   "execution_count": null,
   "metadata": {
    "colab": {
     "base_uri": "https://localhost:8080/"
    },
    "id": "JtgYgnvG0SEZ",
    "outputId": "5b48a1a7-6090-4689-f33c-caf4dd71370d"
   },
   "outputs": [
    {
     "data": {
      "text/plain": [
       "[]"
      ]
     },
     "execution_count": 53,
     "metadata": {},
     "output_type": "execute_result"
    }
   ],
   "source": [
    "failed"
   ]
  },
  {
   "cell_type": "code",
   "execution_count": null,
   "metadata": {
    "id": "Zpa5_GmD0Vum"
   },
   "outputs": [],
   "source": [
    "if s3.get('name') == 'ali':\n",
    "  failed.append()\n",
    "else:\n",
    "  passed.append(s3)"
   ]
  },
  {
   "cell_type": "code",
   "execution_count": null,
   "metadata": {
    "colab": {
     "base_uri": "https://localhost:8080/"
    },
    "id": "ufMrN8xy0qK_",
    "outputId": "7b2df72d-a7d3-4d50-e61f-a00fee969d85"
   },
   "outputs": [
    {
     "data": {
      "text/plain": [
       "[]"
      ]
     },
     "execution_count": 55,
     "metadata": {},
     "output_type": "execute_result"
    }
   ],
   "source": [
    "failed"
   ]
  },
  {
   "cell_type": "code",
   "execution_count": null,
   "metadata": {
    "colab": {
     "base_uri": "https://localhost:8080/"
    },
    "id": "wvBPNATc0roI",
    "outputId": "9e0062d1-31f5-40a5-e3b1-90cd57a85354"
   },
   "outputs": [
    {
     "data": {
      "text/plain": [
       "[{'name': 'ali', 'score': 98, 'attend': True},\n",
       " {'name': 'asa', 'score': 78, 'attend': False}]"
      ]
     },
     "execution_count": 59,
     "metadata": {},
     "output_type": "execute_result"
    }
   ],
   "source": [
    "passed"
   ]
  },
  {
   "cell_type": "code",
   "execution_count": null,
   "metadata": {
    "id": "yzOF0FW20sqi"
   },
   "outputs": [],
   "source": [
    "word= 'kjdkjdkdj'"
   ]
  },
  {
   "cell_type": "code",
   "execution_count": null,
   "metadata": {
    "colab": {
     "base_uri": "https://localhost:8080/"
    },
    "id": "IEA3yyxm2vDw",
    "outputId": "ad0a8f55-6dd1-4bd7-8462-c451dd3a7868"
   },
   "outputs": [
    {
     "name": "stdout",
     "output_type": "stream",
     "text": [
      "k\n",
      "j\n",
      "d\n",
      "k\n",
      "j\n",
      "d\n",
      "k\n",
      "d\n",
      "j\n"
     ]
    }
   ],
   "source": [
    "for char in word:\n",
    "  print(char)"
   ]
  },
  {
   "cell_type": "code",
   "execution_count": null,
   "metadata": {
    "id": "A-7hBwrh28L4"
   },
   "outputs": [],
   "source": [
    "mustgreet = True\n",
    "greet= ['hi','hello', 'salam']"
   ]
  },
  {
   "cell_type": "code",
   "execution_count": null,
   "metadata": {
    "colab": {
     "base_uri": "https://localhost:8080/"
    },
    "id": "_5OjXP6D3dRf",
    "outputId": "416d2564-89d8-4aa3-c92b-ece5a1a529e5"
   },
   "outputs": [
    {
     "name": "stdout",
     "output_type": "stream",
     "text": [
      "hi\n",
      "hello\n",
      "salam\n"
     ]
    }
   ],
   "source": [
    "if mustgreet:\n",
    "  print(greet[0])\n",
    "  print(greet[1])\n",
    "  print(greet[2])"
   ]
  },
  {
   "cell_type": "code",
   "execution_count": null,
   "metadata": {
    "colab": {
     "base_uri": "https://localhost:8080/"
    },
    "id": "xjPUgJit3qV-",
    "outputId": "0351bab8-c756-43b0-a2a7-d6bb9c63a039"
   },
   "outputs": [
    {
     "name": "stdout",
     "output_type": "stream",
     "text": [
      "hi\n",
      "hello\n",
      "salam\n"
     ]
    }
   ],
   "source": [
    "for greeting in greet:\n",
    "  print(greeting)"
   ]
  },
  {
   "cell_type": "code",
   "execution_count": null,
   "metadata": {
    "id": "XRgH9Vvw4HHh"
   },
   "outputs": [],
   "source": [
    "b= 200\n",
    "c= 40.2\n",
    "li= 0"
   ]
  },
  {
   "cell_type": "code",
   "execution_count": null,
   "metadata": {
    "id": "uYTXR_QlKZJB"
   },
   "outputs": [],
   "source": [
    "while b> c:\n",
    "  li +=1\n",
    "  b -= c\n",
    "  c*=2\n"
   ]
  },
  {
   "cell_type": "code",
   "execution_count": null,
   "metadata": {
    "colab": {
     "base_uri": "https://localhost:8080/"
    },
    "id": "H3wXPJFSKl9r",
    "outputId": "72277d5a-370e-440e-86b5-6a60ca318a84"
   },
   "outputs": [
    {
     "data": {
      "text/plain": [
       "2"
      ]
     },
     "execution_count": 79,
     "metadata": {},
     "output_type": "execute_result"
    }
   ],
   "source": [
    "b\n",
    "c\n",
    "li"
   ]
  },
  {
   "cell_type": "code",
   "execution_count": null,
   "metadata": {
    "colab": {
     "base_uri": "https://localhost:8080/"
    },
    "id": "1lSZmwjzLOXu",
    "outputId": "320e84d6-dfb1-4c67-bb4f-49f0048a7cdb"
   },
   "outputs": [
    {
     "data": {
      "text/plain": [
       "2"
      ]
     },
     "execution_count": 80,
     "metadata": {},
     "output_type": "execute_result"
    }
   ],
   "source": [
    "li"
   ]
  },
  {
   "cell_type": "code",
   "execution_count": null,
   "metadata": {
    "colab": {
     "base_uri": "https://localhost:8080/"
    },
    "id": "Oy4R3CNhLQJU",
    "outputId": "b30386ff-9aa8-444b-f09f-4155ec0807bc"
   },
   "outputs": [
    {
     "data": {
      "text/plain": [
       "79.4"
      ]
     },
     "execution_count": 81,
     "metadata": {},
     "output_type": "execute_result"
    }
   ],
   "source": [
    "b"
   ]
  },
  {
   "cell_type": "code",
   "execution_count": null,
   "metadata": {
    "colab": {
     "base_uri": "https://localhost:8080/"
    },
    "id": "Ns3MBDFDLQzU",
    "outputId": "03109a21-7aed-4361-b669-6ff186eb18da"
   },
   "outputs": [
    {
     "data": {
      "text/plain": [
       "160.8"
      ]
     },
     "execution_count": 82,
     "metadata": {},
     "output_type": "execute_result"
    }
   ],
   "source": [
    "c"
   ]
  },
  {
   "cell_type": "code",
   "execution_count": null,
   "metadata": {
    "id": "H9nUNTSzLRxW"
   },
   "outputs": [],
   "source": [
    "names= ['a', 'w', 'c', 'd']\n",
    "sco= [100,30,40,56]"
   ]
  },
  {
   "cell_type": "code",
   "execution_count": null,
   "metadata": {
    "colab": {
     "base_uri": "https://localhost:8080/"
    },
    "id": "_ebVEGgZP4qv",
    "outputId": "35110557-3318-4230-977a-b5acc153c565"
   },
   "outputs": [
    {
     "data": {
      "text/plain": [
       "[('a', 100), ('w', 30), ('c', 40), ('d', 56)]"
      ]
     },
     "execution_count": 84,
     "metadata": {},
     "output_type": "execute_result"
    }
   ],
   "source": [
    "list(zip(names, sco))"
   ]
  },
  {
   "cell_type": "code",
   "execution_count": null,
   "metadata": {
    "id": "igmW57YyP9Qd"
   },
   "outputs": [],
   "source": [
    "mrg= list(zip(names, sco))"
   ]
  },
  {
   "cell_type": "code",
   "execution_count": null,
   "metadata": {
    "colab": {
     "base_uri": "https://localhost:8080/"
    },
    "id": "IukK0tF5b-9T",
    "outputId": "02500b12-3e18-459a-ed83-43e8c35e33e8"
   },
   "outputs": [
    {
     "data": {
      "text/plain": [
       "[('a', 100), ('w', 30), ('c', 40), ('d', 56)]"
      ]
     },
     "execution_count": 91,
     "metadata": {},
     "output_type": "execute_result"
    }
   ],
   "source": [
    "mrg"
   ]
  },
  {
   "cell_type": "code",
   "execution_count": null,
   "metadata": {
    "colab": {
     "base_uri": "https://localhost:8080/"
    },
    "id": "ZBT3WGsScAKa",
    "outputId": "cb60aead-ea99-4720-de4b-ec57c53d6681"
   },
   "outputs": [
    {
     "name": "stdout",
     "output_type": "stream",
     "text": [
      "('a', 100)\n",
      "('w', 30)\n",
      "('c', 40)\n",
      "('d', 56)\n"
     ]
    }
   ],
   "source": [
    "for i in zip(names, sco):\n",
    "  print(i)"
   ]
  },
  {
   "cell_type": "code",
   "execution_count": null,
   "metadata": {
    "colab": {
     "base_uri": "https://localhost:8080/"
    },
    "id": "fhHCFS4_cSmS",
    "outputId": "4062253f-a08a-44df-8947-91f0d4307ba8"
   },
   "outputs": [
    {
     "name": "stdout",
     "output_type": "stream",
     "text": [
      "student a get 100 score in the exam\n",
      "student w get 30 score in the exam\n",
      "student c get 40 score in the exam\n",
      "student d get 56 score in the exam\n"
     ]
    }
   ],
   "source": [
    "for sname, ssco in zip(names, sco):\n",
    "  print(\"student {} get {} score in the exam\".format(sname, ssco))"
   ]
  },
  {
   "cell_type": "code",
   "execution_count": null,
   "metadata": {
    "id": "Atm7dfohc7An"
   },
   "outputs": [],
   "source": [
    "numbers= [10,2,4,57,666,34,23,79]\n",
    "numlist=[]"
   ]
  },
  {
   "cell_type": "code",
   "execution_count": null,
   "metadata": {
    "colab": {
     "base_uri": "https://localhost:8080/"
    },
    "id": "3aBiZDBFmDP1",
    "outputId": "b9ce321f-6596-4e8f-ce53-0a220a258c97"
   },
   "outputs": [
    {
     "data": {
      "text/plain": [
       "[10, 2, 4, 57, 666, 34, 23, 79]"
      ]
     },
     "execution_count": 108,
     "metadata": {},
     "output_type": "execute_result"
    }
   ],
   "source": [
    "numbers"
   ]
  },
  {
   "cell_type": "code",
   "execution_count": null,
   "metadata": {
    "id": "blJi8cdCmFKk"
   },
   "outputs": [],
   "source": [
    "for number in numbers:\n",
    "  if number % 2 == 1:\n",
    "    numlist.append(number)\n"
   ]
  },
  {
   "cell_type": "code",
   "execution_count": null,
   "metadata": {
    "colab": {
     "base_uri": "https://localhost:8080/"
    },
    "id": "r9TBLMlym4DO",
    "outputId": "3857311c-d185-4389-fc0d-9ab9c266d7fc"
   },
   "outputs": [
    {
     "data": {
      "text/plain": [
       "[57, 23, 79]"
      ]
     },
     "execution_count": 110,
     "metadata": {},
     "output_type": "execute_result"
    }
   ],
   "source": [
    "numlist"
   ]
  },
  {
   "cell_type": "code",
   "execution_count": null,
   "metadata": {
    "colab": {
     "base_uri": "https://localhost:8080/"
    },
    "id": "KDtlFdNknT_c",
    "outputId": "3f095d3b-0c7c-461d-c1bb-8f4e12725611"
   },
   "outputs": [
    {
     "data": {
      "text/plain": [
       "[10, 2, 4, 57, 666, 34, 23, 79]"
      ]
     },
     "execution_count": 112,
     "metadata": {},
     "output_type": "execute_result"
    }
   ],
   "source": [
    "[number for number in numbers]"
   ]
  },
  {
   "cell_type": "code",
   "execution_count": null,
   "metadata": {
    "colab": {
     "base_uri": "https://localhost:8080/"
    },
    "id": "g7VcwvFRnj2G",
    "outputId": "4f4a5984-1c3f-46d8-eba6-0f478c1cea39"
   },
   "outputs": [
    {
     "data": {
      "text/plain": [
       "[57, 23, 79]"
      ]
     },
     "execution_count": 113,
     "metadata": {},
     "output_type": "execute_result"
    }
   ],
   "source": [
    "[number for number in numbers if number % 2 == 1]"
   ]
  },
  {
   "cell_type": "code",
   "execution_count": null,
   "metadata": {
    "colab": {
     "base_uri": "https://localhost:8080/"
    },
    "id": "ykDz1LYlnvmO",
    "outputId": "4bdae487-5734-420a-bc36-8b97b0616f3f"
   },
   "outputs": [
    {
     "data": {
      "text/plain": [
       "[10, 2, 4, 666, 34]"
      ]
     },
     "execution_count": 114,
     "metadata": {},
     "output_type": "execute_result"
    }
   ],
   "source": [
    "[number for number in numbers if number % 2 == 0]"
   ]
  },
  {
   "cell_type": "code",
   "execution_count": null,
   "metadata": {
    "id": "7Irvp_UYnysj"
   },
   "outputs": [],
   "source": [
    "stu1= [{'name': ''}]"
   ]
  },
  {
   "cell_type": "code",
   "execution_count": null,
   "metadata": {
    "id": "-RWsYadlxF7P"
   },
   "outputs": [],
   "source": [
    "def reverse_name(first, last):\n",
    "  return \"{}, {}\".format(last, first)"
   ]
  },
  {
   "cell_type": "code",
   "execution_count": null,
   "metadata": {
    "colab": {
     "base_uri": "https://localhost:8080/",
     "height": 35
    },
    "id": "dL6XNxjGxZjG",
    "outputId": "216d1c55-8688-40f0-8e1e-4c8af32c125a"
   },
   "outputs": [
    {
     "data": {
      "application/vnd.google.colaboratory.intrinsic+json": {
       "type": "string"
      },
      "text/plain": [
       "'anderson, mary'"
      ]
     },
     "execution_count": 3,
     "metadata": {},
     "output_type": "execute_result"
    }
   ],
   "source": [
    "reverse_name('mary','anderson')"
   ]
  },
  {
   "cell_type": "code",
   "execution_count": null,
   "metadata": {
    "id": "WJazFoIBxe_Y"
   },
   "outputs": [],
   "source": [
    "numbers= [10,2,4,12,13,1,712,23,2,192]"
   ]
  },
  {
   "cell_type": "code",
   "execution_count": null,
   "metadata": {
    "colab": {
     "base_uri": "https://localhost:8080/"
    },
    "id": "vHwtHM3py_0Q",
    "outputId": "21460c02-09f2-4abb-a169-a720a7941fbb"
   },
   "outputs": [
    {
     "data": {
      "text/plain": [
       "<function __main__.<lambda>(x)>"
      ]
     },
     "execution_count": 6,
     "metadata": {},
     "output_type": "execute_result"
    }
   ],
   "source": [
    "lambda x: x**3"
   ]
  },
  {
   "cell_type": "code",
   "execution_count": null,
   "metadata": {
    "id": "JLTzSVuXzSSB"
   },
   "outputs": [],
   "source": [
    "a=10"
   ]
  },
  {
   "cell_type": "code",
   "execution_count": null,
   "metadata": {
    "colab": {
     "base_uri": "https://localhost:8080/"
    },
    "id": "viAv1faKzWdb",
    "outputId": "31e2aa94-140f-41dc-a355-78b1fad316a6"
   },
   "outputs": [
    {
     "data": {
      "text/plain": [
       "1000"
      ]
     },
     "execution_count": 9,
     "metadata": {},
     "output_type": "execute_result"
    }
   ],
   "source": [
    "_(10)"
   ]
  },
  {
   "cell_type": "code",
   "execution_count": null,
   "metadata": {
    "id": "WOAfxVnDzZM4"
   },
   "outputs": [],
   "source": [
    "def cube(n):\n",
    "  return n**3"
   ]
  },
  {
   "cell_type": "code",
   "execution_count": null,
   "metadata": {
    "colab": {
     "base_uri": "https://localhost:8080/"
    },
    "id": "ycFEYqi5zro0",
    "outputId": "a9dd665b-8161-470e-ff85-9d72079eb520"
   },
   "outputs": [
    {
     "data": {
      "text/plain": [
       "8000"
      ]
     },
     "execution_count": 11,
     "metadata": {},
     "output_type": "execute_result"
    }
   ],
   "source": [
    "cube(20)"
   ]
  },
  {
   "cell_type": "code",
   "execution_count": null,
   "metadata": {
    "colab": {
     "base_uri": "https://localhost:8080/",
     "height": 179
    },
    "id": "bBxWymnrzvZz",
    "outputId": "7923c755-e029-4d8a-f7bb-0b02535081ae"
   },
   "outputs": [
    {
     "ename": "TypeError",
     "evalue": "ignored",
     "output_type": "error",
     "traceback": [
      "\u001b[0;31m---------------------------------------------------------------------------\u001b[0m",
      "\u001b[0;31mTypeError\u001b[0m                                 Traceback (most recent call last)",
      "\u001b[0;32m<ipython-input-12-d96353e2c12a>\u001b[0m in \u001b[0;36m<cell line: 1>\u001b[0;34m()\u001b[0m\n\u001b[0;32m----> 1\u001b[0;31m \u001b[0mcube\u001b[0m\u001b[0;34m[\u001b[0m\u001b[0mnumbers\u001b[0m\u001b[0;34m]\u001b[0m\u001b[0;34m\u001b[0m\u001b[0;34m\u001b[0m\u001b[0m\n\u001b[0m",
      "\u001b[0;31mTypeError\u001b[0m: 'function' object is not subscriptable"
     ]
    }
   ],
   "source": [
    "cube[numbers]"
   ]
  },
  {
   "cell_type": "code",
   "execution_count": null,
   "metadata": {
    "colab": {
     "base_uri": "https://localhost:8080/",
     "height": 179
    },
    "id": "6eZ5gwfS0uZ6",
    "outputId": "f683f657-8aad-4c2a-bc1c-08be1b102692"
   },
   "outputs": [
    {
     "ename": "TypeError",
     "evalue": "ignored",
     "output_type": "error",
     "traceback": [
      "\u001b[0;31m---------------------------------------------------------------------------\u001b[0m",
      "\u001b[0;31mTypeError\u001b[0m                                 Traceback (most recent call last)",
      "\u001b[0;32m<ipython-input-13-27b3626653ba>\u001b[0m in \u001b[0;36m<cell line: 1>\u001b[0;34m()\u001b[0m\n\u001b[0;32m----> 1\u001b[0;31m \u001b[0mmap\u001b[0m\u001b[0;34m(\u001b[0m\u001b[0mnumbers\u001b[0m\u001b[0;34m,\u001b[0m\u001b[0mcube\u001b[0m\u001b[0;34m)\u001b[0m\u001b[0;34m\u001b[0m\u001b[0;34m\u001b[0m\u001b[0m\n\u001b[0m",
      "\u001b[0;31mTypeError\u001b[0m: 'function' object is not iterable"
     ]
    }
   ],
   "source": [
    "map(numbers,cube)"
   ]
  },
  {
   "cell_type": "code",
   "execution_count": null,
   "metadata": {
    "colab": {
     "base_uri": "https://localhost:8080/"
    },
    "id": "Q6FDk8Uq015z",
    "outputId": "3c41c1ca-f3fa-4788-d355-8a1f89bcc52c"
   },
   "outputs": [
    {
     "data": {
      "text/plain": [
       "<map at 0x7b4786a09e70>"
      ]
     },
     "execution_count": 14,
     "metadata": {},
     "output_type": "execute_result"
    }
   ],
   "source": [
    "map(cube,numbers)"
   ]
  },
  {
   "cell_type": "code",
   "execution_count": null,
   "metadata": {
    "colab": {
     "base_uri": "https://localhost:8080/"
    },
    "id": "hOXx2qMy08dU",
    "outputId": "8ceaf6fe-a9e3-49bd-b9c0-655d54ce769c"
   },
   "outputs": [
    {
     "data": {
      "text/plain": [
       "[1000, 8, 64, 1728, 2197, 1, 360944128, 12167, 8, 7077888]"
      ]
     },
     "execution_count": 15,
     "metadata": {},
     "output_type": "execute_result"
    }
   ],
   "source": [
    "list(map(cube, numbers))"
   ]
  },
  {
   "cell_type": "code",
   "execution_count": null,
   "metadata": {
    "colab": {
     "base_uri": "https://localhost:8080/",
     "height": 197
    },
    "id": "lo7Zo2wK1A6Y",
    "outputId": "1cc71dee-6bdc-418e-99b7-da8c3ea34906"
   },
   "outputs": [
    {
     "ename": "NameError",
     "evalue": "ignored",
     "output_type": "error",
     "traceback": [
      "\u001b[0;31m---------------------------------------------------------------------------\u001b[0m",
      "\u001b[0;31mNameError\u001b[0m                                 Traceback (most recent call last)",
      "\u001b[0;32m<ipython-input-18-b8197fc970a6>\u001b[0m in \u001b[0;36m<cell line: 1>\u001b[0;34m()\u001b[0m\n\u001b[0;32m----> 1\u001b[0;31m \u001b[0;32mfor\u001b[0m \u001b[0mnumber\u001b[0m \u001b[0;32min\u001b[0m \u001b[0mnumbers\u001b[0m\u001b[0;34m(\u001b[0m\u001b[0mn\u001b[0m\u001b[0;34m)\u001b[0m\u001b[0;34m:\u001b[0m\u001b[0;34m\u001b[0m\u001b[0;34m\u001b[0m\u001b[0m\n\u001b[0m\u001b[1;32m      2\u001b[0m   \u001b[0mnumber\u001b[0m \u001b[0;34m=\u001b[0m \u001b[0mnumber\u001b[0m\u001b[0;34m**\u001b[0m\u001b[0;36m3\u001b[0m\u001b[0;34m\u001b[0m\u001b[0;34m\u001b[0m\u001b[0m\n",
      "\u001b[0;31mNameError\u001b[0m: name 'n' is not defined"
     ]
    }
   ],
   "source": []
  },
  {
   "cell_type": "code",
   "execution_count": null,
   "metadata": {
    "id": "YkJIcMqa147i"
   },
   "outputs": [],
   "source": [
    "import statistics"
   ]
  },
  {
   "cell_type": "code",
   "execution_count": null,
   "metadata": {
    "colab": {
     "base_uri": "https://localhost:8080/"
    },
    "id": "yJsKZ00H3YNu",
    "outputId": "63214226-dbc0-4eed-8323-0a52e5dd576c"
   },
   "outputs": [
    {
     "data": {
      "text/plain": [
       "97.1"
      ]
     },
     "execution_count": 20,
     "metadata": {},
     "output_type": "execute_result"
    }
   ],
   "source": [
    "statistics.mean(numbers)"
   ]
  },
  {
   "cell_type": "code",
   "execution_count": null,
   "metadata": {
    "id": "fb9znLFb3cC5"
   },
   "outputs": [],
   "source": [
    "from statistics import mean\n"
   ]
  },
  {
   "cell_type": "code",
   "execution_count": null,
   "metadata": {
    "colab": {
     "base_uri": "https://localhost:8080/"
    },
    "id": "KYh-pQtd4iHH",
    "outputId": "acf7b6ef-1977-44eb-e154-b66be3bb6a7c"
   },
   "outputs": [
    {
     "data": {
      "text/plain": [
       "97.1"
      ]
     },
     "execution_count": 22,
     "metadata": {},
     "output_type": "execute_result"
    }
   ],
   "source": [
    "mean(numbers)"
   ]
  },
  {
   "cell_type": "code",
   "execution_count": null,
   "metadata": {
    "id": "i6qYW9X34jpE"
   },
   "outputs": [],
   "source": [
    "from statistics import mean as avg"
   ]
  },
  {
   "cell_type": "code",
   "execution_count": null,
   "metadata": {
    "colab": {
     "base_uri": "https://localhost:8080/"
    },
    "id": "_nLHGmf44qTe",
    "outputId": "3996fd01-2849-4001-b426-f6f1fe8901a4"
   },
   "outputs": [
    {
     "data": {
      "text/plain": [
       "97.1"
      ]
     },
     "execution_count": 25,
     "metadata": {},
     "output_type": "execute_result"
    }
   ],
   "source": [
    "avg(numbers)"
   ]
  },
  {
   "cell_type": "code",
   "execution_count": null,
   "metadata": {
    "id": "kJuruxkI4u1R"
   },
   "outputs": [],
   "source": [
    "import pandas as pd\n"
   ]
  },
  {
   "cell_type": "code",
   "execution_count": null,
   "metadata": {
    "id": "ILHUquRN431A"
   },
   "outputs": [],
   "source": [
    "from matplotlib import pyplot as plt"
   ]
  },
  {
   "cell_type": "code",
   "execution_count": null,
   "metadata": {
    "id": "duOU_bWf4_vI"
   },
   "outputs": [],
   "source": [
    "import numpy as np\n"
   ]
  },
  {
   "cell_type": "code",
   "execution_count": null,
   "metadata": {
    "colab": {
     "base_uri": "https://localhost:8080/"
    },
    "id": "lN8q8HtK5TOO",
    "outputId": "da7e3045-ad94-4d1b-dd1a-43a7a16228db"
   },
   "outputs": [
    {
     "data": {
      "text/plain": [
       "[10, 2, 4, 12, 13, 1, 712, 23, 2, 192]"
      ]
     },
     "execution_count": 29,
     "metadata": {},
     "output_type": "execute_result"
    }
   ],
   "source": [
    "numbers"
   ]
  },
  {
   "cell_type": "code",
   "execution_count": null,
   "metadata": {
    "colab": {
     "base_uri": "https://localhost:8080/"
    },
    "id": "YfDsV83f5WV6",
    "outputId": "628b824c-e716-43c9-8ad1-c0160b654c49"
   },
   "outputs": [
    {
     "data": {
      "text/plain": [
       "list"
      ]
     },
     "execution_count": 30,
     "metadata": {},
     "output_type": "execute_result"
    }
   ],
   "source": [
    "type(numbers)"
   ]
  },
  {
   "cell_type": "code",
   "execution_count": null,
   "metadata": {
    "id": "AeAsgcR55ZEj"
   },
   "outputs": [],
   "source": [
    "bnp= np.array(numbers)"
   ]
  },
  {
   "cell_type": "code",
   "execution_count": null,
   "metadata": {
    "colab": {
     "base_uri": "https://localhost:8080/"
    },
    "id": "yXjo3qho5iOT",
    "outputId": "1a27225f-7ed6-4f87-8cc3-1f10bcb9904b"
   },
   "outputs": [
    {
     "data": {
      "text/plain": [
       "numpy.ndarray"
      ]
     },
     "execution_count": 32,
     "metadata": {},
     "output_type": "execute_result"
    }
   ],
   "source": [
    "type(bnp)"
   ]
  },
  {
   "cell_type": "code",
   "execution_count": null,
   "metadata": {
    "colab": {
     "base_uri": "https://localhost:8080/"
    },
    "id": "QCPNCyTc5kig",
    "outputId": "d4631ba1-37d4-439c-f5e8-b672c7a0507b"
   },
   "outputs": [
    {
     "data": {
      "text/plain": [
       "array([ 10,   2,   4,  12,  13,   1, 712,  23,   2, 192])"
      ]
     },
     "execution_count": 33,
     "metadata": {},
     "output_type": "execute_result"
    }
   ],
   "source": [
    "bnp"
   ]
  },
  {
   "cell_type": "code",
   "execution_count": null,
   "metadata": {
    "colab": {
     "base_uri": "https://localhost:8080/"
    },
    "id": "yeTaZDbd5pGt",
    "outputId": "a2bfa4ac-9c58-47bc-8235-e738536f22da"
   },
   "outputs": [
    {
     "data": {
      "text/plain": [
       "[10,\n",
       " 2,\n",
       " 4,\n",
       " 12,\n",
       " 13,\n",
       " 1,\n",
       " 712,\n",
       " 23,\n",
       " 2,\n",
       " 192,\n",
       " 10,\n",
       " 2,\n",
       " 4,\n",
       " 12,\n",
       " 13,\n",
       " 1,\n",
       " 712,\n",
       " 23,\n",
       " 2,\n",
       " 192,\n",
       " 10,\n",
       " 2,\n",
       " 4,\n",
       " 12,\n",
       " 13,\n",
       " 1,\n",
       " 712,\n",
       " 23,\n",
       " 2,\n",
       " 192,\n",
       " 10,\n",
       " 2,\n",
       " 4,\n",
       " 12,\n",
       " 13,\n",
       " 1,\n",
       " 712,\n",
       " 23,\n",
       " 2,\n",
       " 192,\n",
       " 10,\n",
       " 2,\n",
       " 4,\n",
       " 12,\n",
       " 13,\n",
       " 1,\n",
       " 712,\n",
       " 23,\n",
       " 2,\n",
       " 192,\n",
       " 10,\n",
       " 2,\n",
       " 4,\n",
       " 12,\n",
       " 13,\n",
       " 1,\n",
       " 712,\n",
       " 23,\n",
       " 2,\n",
       " 192,\n",
       " 10,\n",
       " 2,\n",
       " 4,\n",
       " 12,\n",
       " 13,\n",
       " 1,\n",
       " 712,\n",
       " 23,\n",
       " 2,\n",
       " 192,\n",
       " 10,\n",
       " 2,\n",
       " 4,\n",
       " 12,\n",
       " 13,\n",
       " 1,\n",
       " 712,\n",
       " 23,\n",
       " 2,\n",
       " 192,\n",
       " 10,\n",
       " 2,\n",
       " 4,\n",
       " 12,\n",
       " 13,\n",
       " 1,\n",
       " 712,\n",
       " 23,\n",
       " 2,\n",
       " 192,\n",
       " 10,\n",
       " 2,\n",
       " 4,\n",
       " 12,\n",
       " 13,\n",
       " 1,\n",
       " 712,\n",
       " 23,\n",
       " 2,\n",
       " 192]"
      ]
     },
     "execution_count": 34,
     "metadata": {},
     "output_type": "execute_result"
    }
   ],
   "source": [
    "numbers *10"
   ]
  },
  {
   "cell_type": "code",
   "execution_count": null,
   "metadata": {
    "colab": {
     "base_uri": "https://localhost:8080/"
    },
    "id": "iuGR3OoBP2pB",
    "outputId": "f6a27f4f-811c-40ff-f5b5-6387765ef177"
   },
   "outputs": [
    {
     "data": {
      "text/plain": [
       "array([ 100,   20,   40,  120,  130,   10, 7120,  230,   20, 1920])"
      ]
     },
     "execution_count": 38,
     "metadata": {},
     "output_type": "execute_result"
    }
   ],
   "source": [
    "bnp *10\n"
   ]
  },
  {
   "cell_type": "code",
   "execution_count": null,
   "metadata": {
    "id": "djXUzSmTT6ui"
   },
   "outputs": [],
   "source": [
    "import pandas as pd\n"
   ]
  },
  {
   "cell_type": "code",
   "execution_count": null,
   "metadata": {
    "id": "0j1WZF0GP6XJ"
   },
   "outputs": [],
   "source": [
    "students= ['Andy', 'bre' ,'kanika']"
   ]
  },
  {
   "cell_type": "code",
   "execution_count": null,
   "metadata": {
    "colab": {
     "base_uri": "https://localhost:8080/"
    },
    "id": "yfl5D9vFUMnw",
    "outputId": "43c14385-8abe-4c8c-d532-272ee80fe6e3"
   },
   "outputs": [
    {
     "data": {
      "text/plain": [
       "list"
      ]
     },
     "execution_count": 44,
     "metadata": {},
     "output_type": "execute_result"
    }
   ],
   "source": [
    "type(students)"
   ]
  },
  {
   "cell_type": "code",
   "execution_count": null,
   "metadata": {
    "colab": {
     "base_uri": "https://localhost:8080/"
    },
    "id": "YTB-NlIAUY6o",
    "outputId": "538b1a3a-da40-42c0-968c-4e4661ed93cb"
   },
   "outputs": [
    {
     "data": {
      "text/plain": [
       "0      Andy\n",
       "1       bre\n",
       "2    kanika\n",
       "dtype: object"
      ]
     },
     "execution_count": 46,
     "metadata": {},
     "output_type": "execute_result"
    }
   ],
   "source": [
    "pd.Series(students)"
   ]
  },
  {
   "cell_type": "code",
   "execution_count": null,
   "metadata": {
    "id": "Bpiz53LKUdhf"
   },
   "outputs": [],
   "source": [
    "ages= [23,45,67]"
   ]
  },
  {
   "cell_type": "code",
   "execution_count": null,
   "metadata": {
    "colab": {
     "base_uri": "https://localhost:8080/"
    },
    "id": "eNMpc4G7VOxu",
    "outputId": "e5fae17b-f718-4b1e-b158-43fb230ee77c"
   },
   "outputs": [
    {
     "data": {
      "text/plain": [
       "0    23\n",
       "1    45\n",
       "2    67\n",
       "dtype: int64"
      ]
     },
     "execution_count": 48,
     "metadata": {},
     "output_type": "execute_result"
    }
   ],
   "source": [
    "pd. Series(ages)"
   ]
  },
  {
   "cell_type": "code",
   "execution_count": null,
   "metadata": {
    "id": "0fnUCHWzVQ_J"
   },
   "outputs": [],
   "source": [
    "heights= [145.4, 566,6,65.4]"
   ]
  },
  {
   "cell_type": "code",
   "execution_count": null,
   "metadata": {
    "colab": {
     "base_uri": "https://localhost:8080/"
    },
    "id": "6K0DaZtqVV4Y",
    "outputId": "e8bc7e8d-8182-4c5a-e04e-3b1a735d1aa1"
   },
   "outputs": [
    {
     "data": {
      "text/plain": [
       "0    145.4\n",
       "1    566.0\n",
       "2      6.0\n",
       "3     65.4\n",
       "dtype: float64"
      ]
     },
     "execution_count": 51,
     "metadata": {},
     "output_type": "execute_result"
    }
   ],
   "source": [
    "pd.Series(heights)"
   ]
  },
  {
   "cell_type": "code",
   "execution_count": null,
   "metadata": {
    "id": "6QsI0dOnVYjg"
   },
   "outputs": [],
   "source": [
    "mixed= [True, 'say', {'my_mood': 100}]"
   ]
  },
  {
   "cell_type": "code",
   "execution_count": null,
   "metadata": {
    "colab": {
     "base_uri": "https://localhost:8080/"
    },
    "id": "vUy3yIfNVsNC",
    "outputId": "bb0f8d50-9865-4396-aabc-3946095f357a"
   },
   "outputs": [
    {
     "data": {
      "text/plain": [
       "0                True\n",
       "1                 say\n",
       "2    {'my_mood': 100}\n",
       "dtype: object"
      ]
     },
     "execution_count": 54,
     "metadata": {},
     "output_type": "execute_result"
    }
   ],
   "source": [
    "pd.Series(mixed)"
   ]
  },
  {
   "cell_type": "code",
   "execution_count": null,
   "metadata": {
    "colab": {
     "base_uri": "https://localhost:8080/"
    },
    "id": "J6cHp8ptV1Nx",
    "outputId": "8a1b5907-b094-4059-e5ee-87ec55f50389"
   },
   "outputs": [
    {
     "data": {
      "text/plain": [
       "0      Andy\n",
       "1       bre\n",
       "2    kanika\n",
       "dtype: object"
      ]
     },
     "execution_count": 55,
     "metadata": {},
     "output_type": "execute_result"
    }
   ],
   "source": [
    "pd.Series(students)"
   ]
  },
  {
   "cell_type": "code",
   "execution_count": null,
   "metadata": {
    "colab": {
     "base_uri": "https://localhost:8080/"
    },
    "id": "eRBmUr6LWEBY",
    "outputId": "ac450e03-3360-4c6f-e091-0281dd052f3b"
   },
   "outputs": [
    {
     "data": {
      "text/plain": [
       "0      Andy\n",
       "1       bre\n",
       "2    kanika\n",
       "dtype: object"
      ]
     },
     "execution_count": 56,
     "metadata": {},
     "output_type": "execute_result"
    }
   ],
   "source": [
    "pd.Series(data= students)"
   ]
  },
  {
   "cell_type": "code",
   "execution_count": null,
   "metadata": {
    "id": "mfSMMY1YaZGf"
   },
   "outputs": [],
   "source": [
    "books_list= ['doo', 'sap', 'lenin']"
   ]
  },
  {
   "cell_type": "code",
   "execution_count": null,
   "metadata": {
    "colab": {
     "base_uri": "https://localhost:8080/"
    },
    "id": "IboPawE3a4Z0",
    "outputId": "af4d6b9e-4d27-45a1-c332-9c867adc9152"
   },
   "outputs": [
    {
     "data": {
      "text/plain": [
       "0      doo\n",
       "1      sap\n",
       "2    lenin\n",
       "dtype: object"
      ]
     },
     "execution_count": 58,
     "metadata": {},
     "output_type": "execute_result"
    }
   ],
   "source": [
    "pd.Series(books_list)"
   ]
  },
  {
   "cell_type": "code",
   "execution_count": null,
   "metadata": {
    "id": "POaMQAx7a7yO"
   },
   "outputs": [],
   "source": [
    "books_dict= {0:'doo', 1:'sap', 2:'lenin'}"
   ]
  },
  {
   "cell_type": "code",
   "execution_count": null,
   "metadata": {
    "colab": {
     "base_uri": "https://localhost:8080/"
    },
    "id": "Swy5V5S_inRG",
    "outputId": "88e56e08-0342-4934-fed6-d8fe94c383f3"
   },
   "outputs": [
    {
     "data": {
      "text/plain": [
       "0      doo\n",
       "1      sap\n",
       "2    lenin\n",
       "dtype: object"
      ]
     },
     "execution_count": 60,
     "metadata": {},
     "output_type": "execute_result"
    }
   ],
   "source": [
    "pd.Series(books_dict)"
   ]
  },
  {
   "cell_type": "code",
   "execution_count": null,
   "metadata": {
    "id": "zej3DDrHiqVx"
   },
   "outputs": [],
   "source": [
    "dict_s= pd.Series(books_dict)\n",
    "list_s= pd.Series(books_list)"
   ]
  },
  {
   "cell_type": "code",
   "execution_count": null,
   "metadata": {
    "colab": {
     "base_uri": "https://localhost:8080/"
    },
    "id": "oqEiZKE5lEtT",
    "outputId": "62040147-40ea-4f88-ac86-d01da623a95f"
   },
   "outputs": [
    {
     "data": {
      "text/plain": [
       "True"
      ]
     },
     "execution_count": 63,
     "metadata": {},
     "output_type": "execute_result"
    }
   ],
   "source": [
    "dict_s.equals(list_s)"
   ]
  },
  {
   "cell_type": "code",
   "execution_count": null,
   "metadata": {
    "colab": {
     "base_uri": "https://localhost:8080/"
    },
    "id": "rSqYZGdGlVpo",
    "outputId": "d4098980-6ac6-4f6e-e985-b487c696ba3c"
   },
   "outputs": [
    {
     "data": {
      "text/plain": [
       "[145.4, 566, 6, 65.4]"
      ]
     },
     "execution_count": 64,
     "metadata": {},
     "output_type": "execute_result"
    }
   ],
   "source": [
    "\n",
    "heights"
   ]
  },
  {
   "cell_type": "code",
   "execution_count": null,
   "metadata": {
    "colab": {
     "base_uri": "https://localhost:8080/"
    },
    "id": "hoOqe4pmnHt7",
    "outputId": "57cc9201-d83d-4ea8-9845-18ba53da418c"
   },
   "outputs": [
    {
     "data": {
      "text/plain": [
       "0    145.4\n",
       "1    566.0\n",
       "2      6.0\n",
       "3     65.4\n",
       "dtype: float64"
      ]
     },
     "execution_count": 66,
     "metadata": {},
     "output_type": "execute_result"
    }
   ],
   "source": [
    "pd.Series(heights)"
   ]
  },
  {
   "cell_type": "code",
   "execution_count": null,
   "metadata": {
    "id": "sRb3Zm2GnK_U"
   },
   "outputs": [],
   "source": [
    "heights2= [145.4, '566', 6, 65.4]"
   ]
  },
  {
   "cell_type": "code",
   "execution_count": null,
   "metadata": {
    "colab": {
     "base_uri": "https://localhost:8080/"
    },
    "id": "S-JfI8h0ntbo",
    "outputId": "33311412-00c2-409a-d37e-573d983c68f9"
   },
   "outputs": [
    {
     "data": {
      "text/plain": [
       "0    145.4\n",
       "1      566\n",
       "2        6\n",
       "3     65.4\n",
       "dtype: object"
      ]
     },
     "execution_count": 68,
     "metadata": {},
     "output_type": "execute_result"
    }
   ],
   "source": [
    "pd.Series(heights2)"
   ]
  },
  {
   "cell_type": "code",
   "execution_count": null,
   "metadata": {
    "colab": {
     "base_uri": "https://localhost:8080/"
    },
    "id": "IgyBq9zinyG3",
    "outputId": "2b4ff87d-33c3-4d0b-f0db-cd6ea6c8027b"
   },
   "outputs": [
    {
     "data": {
      "text/plain": [
       "fu       doo\n",
       "hdh      sap\n",
       "juj    lenin\n",
       "dtype: object"
      ]
     },
     "execution_count": 69,
     "metadata": {},
     "output_type": "execute_result"
    }
   ],
   "source": [
    "pd.Series(books_list,['fu','hdh','juj'], dtype='object')"
   ]
  },
  {
   "cell_type": "code",
   "execution_count": null,
   "metadata": {
    "colab": {
     "base_uri": "https://localhost:8080/",
     "height": 35
    },
    "id": "9wq0u7sJC61Z",
    "outputId": "8e360b6f-fbd6-4fbf-940a-5d7d618b114b"
   },
   "outputs": [
    {
     "data": {
      "application/vnd.google.colaboratory.intrinsic+json": {
       "type": "string"
      },
      "text/plain": [
       "'1.5.3'"
      ]
     },
     "execution_count": 70,
     "metadata": {},
     "output_type": "execute_result"
    }
   ],
   "source": [
    "pd.__version__"
   ]
  },
  {
   "cell_type": "code",
   "execution_count": null,
   "metadata": {
    "colab": {
     "base_uri": "https://localhost:8080/"
    },
    "id": "ZKd51ID8DQ4I",
    "outputId": "6eed2644-8af6-4dad-fe3c-c648663c10eb"
   },
   "outputs": [
    {
     "data": {
      "text/plain": [
       "RangeIndex(start=0, stop=3, step=1)"
      ]
     },
     "execution_count": 72,
     "metadata": {},
     "output_type": "execute_result"
    }
   ],
   "source": [
    "list_s.index"
   ]
  },
  {
   "cell_type": "code",
   "execution_count": null,
   "metadata": {
    "colab": {
     "base_uri": "https://localhost:8080/"
    },
    "id": "rCnMIVH8DlTK",
    "outputId": "cbed0ca3-8ee2-49be-d55e-5346be67ec35"
   },
   "outputs": [
    {
     "data": {
      "text/plain": [
       "pandas.core.indexes.range.RangeIndex"
      ]
     },
     "execution_count": 73,
     "metadata": {},
     "output_type": "execute_result"
    }
   ],
   "source": [
    "type(list_s.index)"
   ]
  },
  {
   "cell_type": "code",
   "execution_count": null,
   "metadata": {
    "colab": {
     "base_uri": "https://localhost:8080/"
    },
    "id": "Pqpp-sWID8Ce",
    "outputId": "87428564-fb8b-4b35-c1c9-0c47b84cb4c3"
   },
   "outputs": [
    {
     "data": {
      "text/plain": [
       "[5, 3, 1, -1, -3, -5, -7, -9, -11, -13]"
      ]
     },
     "execution_count": 75,
     "metadata": {},
     "output_type": "execute_result"
    }
   ],
   "source": [
    "list(pd.RangeIndex(start=5,stop=-15,step=-2))"
   ]
  },
  {
   "cell_type": "code",
   "execution_count": null,
   "metadata": {
    "colab": {
     "base_uri": "https://localhost:8080/",
     "height": 179
    },
    "id": "pUaXbSPuGfjG",
    "outputId": "eba6e9d8-1309-4711-c240-5ef04b4638f8"
   },
   "outputs": [
    {
     "ename": "NameError",
     "evalue": "ignored",
     "output_type": "error",
     "traceback": [
      "\u001b[0;31m---------------------------------------------------------------------------\u001b[0m",
      "\u001b[0;31mNameError\u001b[0m                                 Traceback (most recent call last)",
      "\u001b[0;32m<ipython-input-6-baa0ed22e4c0>\u001b[0m in \u001b[0;36m<cell line: 1>\u001b[0;34m()\u001b[0m\n\u001b[0;32m----> 1\u001b[0;31m \u001b[0mbooks_series\u001b[0m\u001b[0;34m=\u001b[0m \u001b[0mlist_s\u001b[0m\u001b[0;34m\u001b[0m\u001b[0;34m\u001b[0m\u001b[0m\n\u001b[0m",
      "\u001b[0;31mNameError\u001b[0m: name 'list_s' is not defined"
     ]
    }
   ],
   "source": [
    "books_series= list_s"
   ]
  },
  {
   "cell_type": "code",
   "execution_count": null,
   "metadata": {
    "id": "qkgKf5LSG5cm"
   },
   "outputs": [],
   "source": [
    "books_series"
   ]
  },
  {
   "cell_type": "code",
   "execution_count": null,
   "metadata": {
    "id": "l_mCiWibG_HR"
   },
   "outputs": [],
   "source": [
    "books_series.size"
   ]
  },
  {
   "cell_type": "code",
   "execution_count": null,
   "metadata": {
    "id": "SltbixN4Hg3G"
   },
   "outputs": [],
   "source": [
    "books_series.name"
   ]
  },
  {
   "cell_type": "code",
   "execution_count": null,
   "metadata": {
    "id": "MW_cyh6mIaMp"
   },
   "outputs": [],
   "source": [
    "books_series.name==None"
   ]
  },
  {
   "cell_type": "code",
   "execution_count": null,
   "metadata": {
    "id": "xrslTDLmIgvA"
   },
   "outputs": [],
   "source": [
    "books_series.index.name= 'weld'"
   ]
  },
  {
   "cell_type": "code",
   "execution_count": null,
   "metadata": {
    "id": "UhK7lOvQIyzR"
   },
   "outputs": [],
   "source": [
    "books_series"
   ]
  },
  {
   "cell_type": "code",
   "execution_count": null,
   "metadata": {
    "id": "jqE5FuzsI1Ah"
   },
   "outputs": [],
   "source": [
    "actor_name= ['johny depp', 'nickol kidman','angelina july', 'shahab hosseini']"
   ]
  },
  {
   "cell_type": "code",
   "execution_count": null,
   "metadata": {
    "id": "KGsoBHmPPSrU"
   },
   "outputs": [],
   "source": [
    "actor_age= [52, 50,49,48]"
   ]
  },
  {
   "cell_type": "code",
   "execution_count": null,
   "metadata": {
    "colab": {
     "base_uri": "https://localhost:8080/"
    },
    "id": "desYSyUyPdwW",
    "outputId": "d9b4d793-9a27-4336-e5fa-4cc15289c79a"
   },
   "outputs": [
    {
     "data": {
      "text/plain": [
       "0         johny depp\n",
       "1      nickol kidman\n",
       "2      angelina july\n",
       "3    shahab hosseini\n",
       "dtype: object"
      ]
     },
     "execution_count": 7,
     "metadata": {},
     "output_type": "execute_result"
    }
   ],
   "source": [
    "pd.Series(actor_name)"
   ]
  },
  {
   "cell_type": "code",
   "execution_count": null,
   "metadata": {
    "colab": {
     "base_uri": "https://localhost:8080/"
    },
    "id": "UZhmG6T-P1JI",
    "outputId": "d93ff153-b62d-44c7-8f5e-ac71742c2cda"
   },
   "outputs": [
    {
     "data": {
      "text/plain": [
       "0    52\n",
       "1    50\n",
       "2    49\n",
       "3    48\n",
       "dtype: int64"
      ]
     },
     "execution_count": 8,
     "metadata": {},
     "output_type": "execute_result"
    }
   ],
   "source": [
    "pd.Series(actor_age)"
   ]
  },
  {
   "cell_type": "code",
   "execution_count": null,
   "metadata": {
    "id": "sO9WZhp-P5IS"
   },
   "outputs": [],
   "source": [
    "actor_series= pd.Series(data=actor_age,index=actor_name, name= 'actor')"
   ]
  },
  {
   "cell_type": "code",
   "execution_count": null,
   "metadata": {
    "colab": {
     "base_uri": "https://localhost:8080/"
    },
    "id": "J_jeVvnEQG6m",
    "outputId": "453346e9-31bf-4507-9512-27536bf3fe18"
   },
   "outputs": [
    {
     "data": {
      "text/plain": [
       "johny depp         52\n",
       "nickol kidman      50\n",
       "angelina july      49\n",
       "shahab hosseini    48\n",
       "Name: actor, dtype: int64"
      ]
     },
     "execution_count": 12,
     "metadata": {},
     "output_type": "execute_result"
    }
   ],
   "source": [
    "actor_series"
   ]
  },
  {
   "cell_type": "code",
   "execution_count": null,
   "metadata": {
    "id": "8a-TFNyVSEu7"
   },
   "outputs": [],
   "source": [
    "def eee(x,y):\n",
    "  return \"{},{}\".format(x,y)"
   ]
  },
  {
   "cell_type": "code",
   "execution_count": null,
   "metadata": {
    "id": "f3o2DDHJIQzQ"
   },
   "outputs": [],
   "source": []
  }
 ],
 "metadata": {
  "colab": {
   "authorship_tag": "ABX9TyP6F2nGo1PNJTMz6JKpBlb7",
   "include_colab_link": true,
   "provenance": []
  },
  "kernelspec": {
   "display_name": "Python 3 (ipykernel)",
   "language": "python",
   "name": "python3"
  },
  "language_info": {
   "codemirror_mode": {
    "name": "ipython",
    "version": 3
   },
   "file_extension": ".py",
   "mimetype": "text/x-python",
   "name": "python",
   "nbconvert_exporter": "python",
   "pygments_lexer": "ipython3",
   "version": "3.10.9"
  }
 },
 "nbformat": 4,
 "nbformat_minor": 1
}
